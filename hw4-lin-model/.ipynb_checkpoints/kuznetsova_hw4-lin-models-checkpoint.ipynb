{
 "cells": [
  {
   "cell_type": "markdown",
   "metadata": {},
   "source": [
    "# Алгоритмы интеллектуальной обработки больших объемов данных\n",
    "## Домашнее задание №4: Линейные модели\n"
   ]
  },
  {
   "cell_type": "markdown",
   "metadata": {},
   "source": [
    "###### <hr\\>\n",
    "**Общая информация**\n",
    "\n",
    "**Срок сдачи:** 6 декабря 2017, 06:00 <br\\>\n",
    "**Штраф за опоздание:** -2 балла после 06:00 6 декабря, -4 балла после 06:00 13 декабря, -6 баллов после 06:00 20 декабря\n",
    "\n",
    "При отправлении ДЗ указывайте фамилию в названии файла\n",
    "\n",
    "Присылать ДЗ необходимо в виде ссылки на свой github репозиторий в slack @alkhamush Необходимо в slack создать таск в приватный чат:\n",
    "/todo Фамилия Имя ссылка на гитхаб @alkhamush\n",
    "Пример:\n",
    "/todo Ксения Стройкова https://github.com/stroykova/spheremailru/stroykova_hw1.ipynb @alkhamush\n",
    "\n",
    "Используйте данный Ipython Notebook при оформлении домашнего задания.\n",
    "<hr\\>"
   ]
  },
  {
   "cell_type": "code",
   "execution_count": 1,
   "metadata": {},
   "outputs": [],
   "source": [
    "import pandas as pd\n",
    "import numpy as np\n",
    "import matplotlib.pyplot as plt\n",
    "\n",
    "%matplotlib inline\n",
    "\n",
    "plt.style.use('ggplot')\n",
    "plt.rcParams['figure.figsize'] = (12,5)"
   ]
  },
  {
   "cell_type": "markdown",
   "metadata": {},
   "source": [
    "# Определям, что вам досталось"
   ]
  },
  {
   "cell_type": "markdown",
   "metadata": {},
   "source": [
    "<center><img src='https://static1.squarespace.com/static/571a6e39b6aa608067028725/t/577988518419c2d62fb5922f/1467582555915/'></center>"
   ]
  },
  {
   "cell_type": "markdown",
   "metadata": {},
   "source": [
    "Укажите свою фамилию на русском языке в поле ниже."
   ]
  },
  {
   "cell_type": "code",
   "execution_count": 2,
   "metadata": {},
   "outputs": [
    {
     "name": "stdout",
     "output_type": "stream",
     "text": [
      "Имплементируйте обучение логистической регрессии с L2 регуляризацией с помощью метода Mini Batch Stochastic Gradient Descent (SGD)\n"
     ]
    }
   ],
   "source": [
    "USER_NAME = u\"Кузнецова\".lower()\n",
    "REGULARIZATIONS = [\"L1\", \"L2\"]\n",
    "ALGORITHM = [\"\", \"Mini Batch\"]\n",
    "\n",
    "print \"Имплементируйте обучение логистической регрессии с %s регуляризацией с помощью метода %s Stochastic Gradient Descent (SGD)\"\\\n",
    "% (\n",
    "    REGULARIZATIONS[hash(USER_NAME) % 2],\n",
    "    ALGORITHM[hash(USER_NAME[::-1]) % 2]\n",
    ")"
   ]
  },
  {
   "cell_type": "markdown",
   "metadata": {},
   "source": [
    "#### Замечания\n",
    "* В SGD градиент расчитывается по одному случайному объекту, т.е. в алгоритме надо\n",
    "    * Перемешать выборку\n",
    "    * Посчтитать градиент на одном объекте\n",
    "    * Сделать шаг спуска\n",
    "* В Mini Batch SGD - по подвыборке объектов т.е в алгоритме надо\n",
    "    * Перемешать выборку\n",
    "    * Разбить на части (примерно) одинакового размера - мини батчи\n",
    "    * Почитать градиент по мини батчам\n",
    "    * Сделать шаг спуска\n",
    "* Сделайте убывающую скорость спуска, например `alpha/n_epoch` или `alpha/n_iter` или `alpha/n_batch` или ...\n",
    "* Для отладки работы алгоритма, реализуйте возможность сохранения или вывода ошибки модели после очередной итерации/батча/эпохи.\n",
    "* Правило останова - максимальное количество эпох\n",
    "    \n",
    "Эпохой в SGD и MB-SGD называется один проход по **всем** объектам в обучающей выборке (тем или иным способом)"
   ]
  },
  {
   "cell_type": "markdown",
   "metadata": {},
   "source": [
    "# Реализация модели"
   ]
  },
  {
   "cell_type": "markdown",
   "metadata": {},
   "source": [
    "## Имплементация (6 баллов)"
   ]
  },
  {
   "cell_type": "code",
   "execution_count": 100,
   "metadata": {},
   "outputs": [],
   "source": [
    "from sklearn.base import BaseEstimator, ClassifierMixin\n",
    "\n",
    "class MySGDClassifier(BaseEstimator, ClassifierMixin):\n",
    "    \"\"\"\n",
    "    Предполагается, что в выборке всегда 2 класса\n",
    "    \"\"\"\n",
    "    \n",
    "    def __init__(self, C=1, alpha=0.01, max_epoch=10):\n",
    "        \"\"\"\n",
    "        C - коэф. регуляризации\n",
    "        alpha - скорость спуска\n",
    "        max_epoch - максимальное количество эпох\n",
    "        \"\"\"\n",
    "        \n",
    "        self.C = C\n",
    "        self.alpha = alpha\n",
    "        self.max_epoch = max_epoch\n",
    "        \n",
    "    def sigmoid(self, x):\n",
    "        return 1.0 / (1 + np.exp(-x))\n",
    "    \n",
    "    def fit(self, X, y=None):\n",
    "        '''\n",
    "        Обучение модели\n",
    "        '''\n",
    "        X = (X - np.mean(X, axis=0)) / np.std(X, axis=0)\n",
    "        X = np.c_[np.ones(X.shape[0]), X]\n",
    "        self.weights = np.empty(shape=(X.shape[1],))\n",
    "        self.loss_list = []\n",
    "        for epoch in range(self.max_epoch):\n",
    "            \n",
    "            #shuffle\n",
    "            batch_size = np.sqrt(X.shape[0]).astype(int)\n",
    "            batch_starts = np.arange(0, X.shape[0] , batch_size)\n",
    "            \n",
    "            for index in batch_starts:\n",
    "                batch_loss_list = []\n",
    "                X_batch = X[index:index + batch_size]\n",
    "                y_batch = y[index:index + batch_size]\n",
    "            \n",
    "                y_hat = self.sigmoid(X_batch.dot(self.weights))\n",
    "                error = y_hat - y_batch\n",
    "                loss = np.sum(error ** 2)\n",
    "                gradient = X_batch.T.dot(error) / X_batch.shape[0]\n",
    "                #add regularization\n",
    "                self.weights = self.weights - self.alpha * gradient\n",
    "                batch_loss_list.append(loss)\n",
    "                \n",
    "            self.loss_list.append(np.mean(batch_loss_list))\n",
    "    \n",
    "    def partial_fit(self, X, y=None):\n",
    "        '''\n",
    "        По желанию - метод дообучения модели на новых данных\n",
    "        '''\n",
    "    \n",
    "        return self\n",
    "        \n",
    "    def predict(self, X):\n",
    "        '''\n",
    "        Возвращение метки класса\n",
    "        '''\n",
    "        X = (X - np.mean(X, axis=0)) / np.std(X, axis=0)\n",
    "        X = np.c_[np.ones(X.shape[0]), X]\n",
    "        \n",
    "        return labels\n",
    "        return y_hat\n",
    "    \n",
    "    def predict_proba(self, X):\n",
    "        '''\n",
    "        Возвращение вероятности каждого из классов\n",
    "        '''\n",
    "\n",
    "        \n",
    "        return y_hat_proba"
   ]
  },
  {
   "cell_type": "markdown",
   "metadata": {},
   "source": [
    "## Проверка на синтетических данных (2 балл)"
   ]
  },
  {
   "cell_type": "markdown",
   "metadata": {},
   "source": [
    "Запустите ваш алгоритм на синтетических данных. \n",
    "Выведите полученные веса и нарисуйте разделяющую границу между классами."
   ]
  },
  {
   "cell_type": "code",
   "execution_count": 14,
   "metadata": {},
   "outputs": [
    {
     "data": {
      "text/plain": [
       "<matplotlib.collections.PathCollection at 0x7f62083978d0>"
      ]
     },
     "execution_count": 14,
     "metadata": {},
     "output_type": "execute_result"
    },
    {
     "data": {
      "image/png": "[encoded data removed]",
      "text/plain": [
       "<matplotlib.figure.Figure at 0x7f620a5428d0>"
      ]
     },
     "metadata": {},
     "output_type": "display_data"
    }
   ],
   "source": [
    "np.random.seed(0)\n",
    "\n",
    "C1 = np.array([[0., -0.8], [1.5, 0.8]])\n",
    "C2 = np.array([[1., -0.7], [2., 0.7]])\n",
    "gauss1 = np.dot(np.random.randn(200, 2) + np.array([5, 3]), C1)\n",
    "gauss2 = np.dot(np.random.randn(200, 2) + np.array([1.5, 0]), C2)\n",
    "\n",
    "X = np.vstack([gauss1, gauss2])\n",
    "y = np.r_[np.ones(200), np.zeros(200)]\n",
    "\n",
    "plt.scatter(X[:,0], X[:,1], c=y)"
   ]
  },
  {
   "cell_type": "code",
   "execution_count": 113,
   "metadata": {},
   "outputs": [],
   "source": [
    "model = MySGDClassifier(max_epoch=20)\n",
    "model.fit(X, y)"
   ]
  },
  {
   "cell_type": "code",
   "execution_count": 116,
   "metadata": {},
   "outputs": [
    {
     "data": {
      "text/plain": [
       "[<matplotlib.lines.Line2D at 0x7f61f76f7d10>]"
      ]
     },
     "execution_count": 116,
     "metadata": {},
     "output_type": "execute_result"
    },
    {
     "data": {
      "image/png": "[encoded data removed]",
      "text/plain": [
       "<matplotlib.figure.Figure at 0x7f61f7be1290>"
      ]
     },
     "metadata": {},
     "output_type": "display_data"
    }
   ],
   "source": [
    "x_axis = np.arange(-1.5,1,.01)\n",
    "plt.scatter(X[:, 0], X[:, 1], marker=\"o\", c=y)\n",
    "y_line = (-model.weights[0] - (model.weights[1] * x_axis)) / model.weights[2]\n",
    "plt.plot(x_axis, y_line, \"r-\")"
   ]
  },
  {
   "cell_type": "code",
   "execution_count": 98,
   "metadata": {},
   "outputs": [
    {
     "data": {
      "text/plain": [
       "[7.8470601098133779,\n",
       " 7.4146819511119055,\n",
       " 7.0064207316546057,\n",
       " 6.6236968427256349,\n",
       " 6.2671086956569217,\n",
       " 5.9365605430988699,\n",
       " 5.6314068716709587,\n",
       " 5.3505955525283797,\n",
       " 5.0927977109952032,\n",
       " 4.8565177792143812]"
      ]
     },
     "execution_count": 98,
     "metadata": {},
     "output_type": "execute_result"
    }
   ],
   "source": [
    "model.loss_list"
   ]
  },
  {
   "cell_type": "code",
   "execution_count": 75,
   "metadata": {},
   "outputs": [
    {
     "name": "stdout",
     "output_type": "stream",
     "text": [
      "[[ 0.88433099 -1.28313775]\n",
      " [ 1.95887404  0.65180224]\n",
      " [ 0.08024322 -2.37433214]\n",
      " [ 0.56238043 -1.08975834]\n",
      " [ 0.89042617  0.10040807]\n",
      " [ 1.49967907  0.6872249 ]\n",
      " [ 0.72176498 -0.74928402]\n",
      " [ 0.84552113 -0.35937545]\n",
      " [ 0.53097367 -1.53022632]\n",
      " [ 0.15215169 -1.13818088]\n",
      " [ 1.03229092  2.08452428]\n",
      " [ 0.21749207 -1.46196969]\n",
      " [-0.19826026 -3.02221104]\n",
      " [ 0.54146637 -0.44982329]\n",
      " [ 1.5084852  -0.32491527]\n",
      " [ 0.87149143 -0.11371499]\n",
      " [-0.50556807 -1.08354329]\n",
      " [ 0.74200616  0.09336679]]\n",
      "[[ 1.35263431 -0.29875089]\n",
      " [ 0.47426487 -0.21553762]\n",
      " [-0.17820951 -0.55189023]\n",
      " [ 1.78951566  2.41641773]\n",
      " [ 0.39500724 -0.2254451 ]\n",
      " [ 1.10460197  1.21778012]\n",
      " [ 0.52654762  0.75422267]\n",
      " [ 0.87659346  0.6666963 ]\n",
      " [-0.03846634 -0.77173091]\n",
      " [ 0.90077816  0.05818559]\n",
      " [ 0.82730648 -0.10432815]\n",
      " [ 0.43898351 -0.07807783]\n",
      " [ 0.44084453 -0.04762753]\n",
      " [-0.35699374 -0.95100731]\n",
      " [ 0.41619376 -0.70495984]\n",
      " [ 0.92088882  1.26397529]\n",
      " [ 0.68105981  0.42860945]\n",
      " [ 0.72603102 -0.72035991]]\n",
      "[[-0.07010227 -2.02757532]\n",
      " [ 0.25097342 -1.07922624]\n",
      " [ 0.3128286  -0.06307123]\n",
      " [ 0.68352323 -0.0072417 ]\n",
      " [ 1.17660033  1.24407786]\n",
      " [-0.24605714 -1.7532403 ]\n",
      " [ 1.75747543  0.0221717 ]\n",
      " [ 0.54570387 -1.27931309]\n",
      " [ 1.26628019  1.28771855]\n",
      " [ 1.36434753  0.91961372]\n",
      " [ 1.22085646  0.28796449]\n",
      " [ 1.06320354 -0.02014433]\n",
      " [ 1.69325122  1.02995215]\n",
      " [ 0.88540053 -0.07550163]\n",
      " [-0.13602787 -2.6588011 ]\n",
      " [ 1.2166287   1.37221572]\n",
      " [ 1.78533934  2.01831036]\n",
      " [ 0.21440411 -0.52416413]]\n",
      "[[ 1.51499761 -0.60417701]\n",
      " [ 1.17964648 -0.98665342]\n",
      " [ 1.76575064  1.76377119]\n",
      " [ 1.11917608  0.51055621]\n",
      " [ 0.56024803 -1.09035991]\n",
      " [ 1.18908117 -0.05114954]\n",
      " [ 0.00895308 -1.36561146]\n",
      " [ 1.42502374  0.47937963]\n",
      " [ 0.56338605  0.12333509]\n",
      " [ 1.73025749  1.40503065]\n",
      " [ 0.88859512 -0.47332105]\n",
      " [ 0.96552695  0.68644042]\n",
      " [ 0.66931763  0.24213334]\n",
      " [ 1.04560917  0.68873498]\n",
      " [ 0.52914039 -0.85651188]\n",
      " [ 0.01265368 -1.37536842]\n",
      " [ 0.90723441  1.14436549]\n",
      " [ 1.02144054  0.06691243]]\n",
      "[[ 1.20208309 -1.33823027]\n",
      " [ 1.30280271  1.21745061]\n",
      " [ 0.38128293  0.35130105]\n",
      " [ 1.65091261  1.03453068]\n",
      " [ 0.16829679 -0.33837211]\n",
      " [ 0.26342602 -0.69451069]\n",
      " [ 0.02031842 -1.9040399 ]\n",
      " [ 0.39515566  0.24470146]\n",
      " [ 1.77711471  1.51050513]\n",
      " [ 0.70184498 -0.91323267]\n",
      " [ 1.14363935  1.24689413]\n",
      " [-0.25103508 -0.67942787]\n",
      " [ 0.83575387 -0.92002444]\n",
      " [ 0.8367959  -0.72185089]\n",
      " [ 0.27069537 -1.38921188]\n",
      " [ 1.04862207  0.98608666]\n",
      " [ 0.2482066  -0.19429066]\n",
      " [ 0.66093989  0.07034141]]\n",
      "[[-0.15190153 -1.03045258]\n",
      " [-0.64719149 -1.44221064]\n",
      " [-0.28447653 -1.91930815]\n",
      " [ 0.68118805  0.57398849]\n",
      " [ 1.55148232  1.40367512]\n",
      " [ 0.8066292   0.87119382]\n",
      " [-0.03114679 -1.1099216 ]\n",
      " [ 0.55059488 -0.79014855]\n",
      " [ 1.13146286 -0.2400816 ]\n",
      " [ 1.43094424 -0.88732475]\n",
      " [ 0.51099697 -0.18254362]\n",
      " [ 1.03325128 -0.60562754]\n",
      " [-0.29317357 -1.94126441]\n",
      " [ 0.21990538 -0.80406113]\n",
      " [ 0.5934403  -0.55676065]\n",
      " [ 0.83591475 -0.71509385]\n",
      " [ 0.37846076 -1.20124104]\n",
      " [ 0.41136681  0.11557135]]\n",
      "[[ 0.8720689   0.01372412]\n",
      " [ 0.62606839 -1.97403731]\n",
      " [ 0.44876692  0.17125077]\n",
      " [ 0.93180463  0.41817136]\n",
      " [ 0.68766596  0.90372555]\n",
      " [ 0.78627368 -0.22242661]\n",
      " [ 0.51184776 -0.01337469]\n",
      " [ 0.36275723  0.40760792]\n",
      " [ 0.89360855  0.42836465]\n",
      " [ 1.10676639  1.14932524]\n",
      " [-0.55763254 -2.90457636]\n",
      " [ 1.04588631 -0.09350077]\n",
      " [ 0.41882599 -0.10122572]\n",
      " [ 0.47689871 -0.39969555]\n",
      " [-0.32764313 -1.28541874]\n",
      " [ 1.28097153 -0.33176224]\n",
      " [-0.20529958 -0.75937658]\n",
      " [ 0.31461588 -1.08637427]]\n",
      "[[ 0.46432602 -0.61806936]\n",
      " [ 1.05630118 -0.27581999]\n",
      " [-0.15681249 -0.76284445]\n",
      " [ 1.00704972  1.33790624]\n",
      " [ 0.35487857  0.22436089]\n",
      " [ 0.62004976  0.12246079]\n",
      " [ 0.76093719  1.28761102]\n",
      " [ 0.70235334 -0.59904996]\n",
      " [ 0.70759436  0.02265016]\n",
      " [-0.96778492 -2.61512899]\n",
      " [ 0.87845613 -1.43192032]\n",
      " [ 0.42251442 -0.08553871]\n",
      " [ 0.58295979 -0.72753516]\n",
      " [ 1.85589906  2.73924422]\n",
      " [ 1.24626956  0.55495258]\n",
      " [ 1.54760761  1.36377553]\n",
      " [ 1.00615333 -0.04055927]\n",
      " [ 1.3577512   1.38438582]]\n",
      "[[ 1.41069853  0.17277219]\n",
      " [ 0.36993322 -0.16982765]\n",
      " [ 0.03194434 -2.75681562]\n",
      " [ 1.31440493  0.65967584]\n",
      " [ 0.99103977  0.07934324]\n",
      " [ 0.86675913  0.2888051 ]\n",
      " [ 1.61868218  1.90624878]\n",
      " [ 0.25367732 -0.69229166]\n",
      " [ 0.38178777 -1.10866324]\n",
      " [-0.13541985 -0.28736562]\n",
      " [ 0.55758415 -0.90695273]\n",
      " [ 1.27987711  0.61443794]\n",
      " [ 0.22419784  0.01370637]\n",
      " [ 0.70581473  0.07492427]\n",
      " [ 0.48326382 -0.4584982 ]\n",
      " [ 0.58809607 -0.31184283]\n",
      " [ 0.17614572 -0.34699656]\n",
      " [ 0.13065813 -1.1369047 ]]\n",
      "[[ 0.46843343  0.3444782 ]\n",
      " [ 1.9681151   1.5007982 ]\n",
      " [ 1.20137163  0.93607365]\n",
      " [-0.04331898 -1.70477722]\n",
      " [-0.04036265 -1.72025079]\n",
      " [ 1.00467975  2.12791102]\n",
      " [ 0.91397258  1.34785874]\n",
      " [ 1.61951118  1.44860974]\n",
      " [ 0.38606904 -1.39955617]\n",
      " [-0.05799023 -0.66593221]\n",
      " [ 0.48707674 -0.15987558]\n",
      " [ 0.74221332  0.10599324]\n",
      " [ 0.85484964 -0.44682048]\n",
      " [-0.18858495 -0.77454595]\n",
      " [ 0.24826532 -1.7916104 ]\n",
      " [ 0.34648825 -0.18158455]\n",
      " [ 0.3717155   0.72765126]\n",
      " [ 1.01287498  0.53233259]]\n",
      "[[ 0.65293759 -0.79004781]\n",
      " [ 0.84919334 -0.71430006]\n",
      " [ 0.7446793  -0.14805459]\n",
      " [ 0.42024002 -0.42864225]\n",
      " [-0.00774853 -0.91205981]\n",
      " [ 0.07099316 -1.21658046]\n",
      " [ 0.50511304 -1.08212794]\n",
      " [ 0.93901712  0.04921673]\n",
      " [-0.26612656 -1.90947062]\n",
      " [ 1.16454716  0.52280432]\n",
      " [ 0.87681411  1.25837961]\n",
      " [ 0.05384048  0.63036222]\n",
      " [-0.31638321 -1.52735883]\n",
      " [-0.20845811 -0.63652145]\n",
      " [ 0.74660546 -1.37156564]\n",
      " [ 0.52074809 -0.86025186]\n",
      " [-0.29289228 -1.20882694]\n",
      " [ 0.20620968 -0.624239  ]]\n",
      "[[ 1.31686284 -0.06953285]\n",
      " [ 1.14841971 -0.73061587]\n",
      " [-1.618308   -0.10509617]\n",
      " [ 0.05890325 -0.036193  ]\n",
      " [-0.92835629  1.59778443]\n",
      " [-0.15392603 -0.25876643]\n",
      " [-1.21742348 -0.17301877]\n",
      " [-0.45682204  1.67696429]\n",
      " [-0.81879396  0.2771536 ]\n",
      " [ 0.69032416 -0.44742875]\n",
      " [-0.26189092  0.08089314]\n",
      " [ 1.41319084  0.35706475]\n",
      " [ 0.29812912  0.00448241]\n",
      " [-1.23564005  1.65858477]\n",
      " [-0.49428435  0.37283835]\n",
      " [-2.28218027 -2.14595096]\n",
      " [-0.52826013  0.76944311]\n",
      " [-1.80130029 -0.38414315]]\n",
      "[[ 0.0368989  -0.15335267]\n",
      " [-0.64966873  1.05744389]\n",
      " [-0.19292101 -0.2979003 ]\n",
      " [-0.14430798 -0.23730389]\n",
      " [-1.57301704 -0.2643093 ]\n",
      " [-0.39899352  0.4090482 ]\n",
      " [-0.2655222  -0.41049917]\n",
      " [-1.0895642  -0.68843071]\n",
      " [-0.907276    0.66178965]\n",
      " [-0.28877543  1.43715585]\n",
      " [-0.11930889  0.10973068]\n",
      " [ 1.18817878  1.31289414]\n",
      " [-2.41272339 -0.88864879]\n",
      " [-0.47860322  0.06726337]\n",
      " [-1.48004737 -0.06903543]\n",
      " [-0.54655482  0.62844985]\n",
      " [ 1.16525634  2.10792082]\n",
      " [-1.50789661  0.33629991]]\n",
      "[[-1.21170288  1.86604308]\n",
      " [-1.72138708  1.18060528]\n",
      " [-1.17647322 -0.05146457]\n",
      " [ 0.93392143 -0.25159973]\n",
      " [-0.69023232 -1.19100962]\n",
      " [ 0.30849729 -0.1794649 ]\n",
      " [ 0.58468752  0.39474129]\n",
      " [-1.20070772  0.54071457]\n",
      " [-2.24806313 -2.03988893]\n",
      " [ 0.50269243 -0.3906777 ]\n",
      " [-0.36293435  0.4000143 ]\n",
      " [-1.18997574  0.66678757]\n",
      " [ 0.92172745  0.35586762]\n",
      " [ 0.47497661 -1.55759406]\n",
      " [-1.17331877  0.32142745]\n",
      " [-0.97356889  0.83454115]\n",
      " [-0.39448195 -0.04045096]\n",
      " [-0.27241154 -0.62946122]]\n",
      "[[-1.10442245  0.07763431]\n",
      " [-2.37241425  0.27020287]\n",
      " [ 0.03728453  1.82767023]\n",
      " [ 0.90182526  0.53765741]\n",
      " [-2.56750246 -0.18192768]\n",
      " [-0.63680594  0.76728901]\n",
      " [ 0.49297963  0.58251594]\n",
      " [ 0.95024942  1.16863738]\n",
      " [-1.31409893 -0.21678168]\n",
      " [-1.86298521  0.73916081]\n",
      " [-1.11428209 -0.50069449]\n",
      " [ 0.94705068  0.53500209]\n",
      " [-0.76642492  2.31318021]\n",
      " [-1.0758644   1.93115914]\n",
      " [ 0.01038678 -0.51950505]\n",
      " [-1.47046317  0.67598521]\n",
      " [-0.76045219  0.27957317]\n",
      " [-0.68126644  0.28835003]]\n",
      "[[-1.37438282 -0.68844752]\n",
      " [ 0.57076253  1.36327373]\n",
      " [-1.01192806  0.19022028]\n",
      " [-2.08909818 -2.11671843]\n",
      " [-0.54885726 -0.94068125]\n",
      " [-0.37801088  0.18479395]\n",
      " [-0.35827703 -0.55177236]\n",
      " [ 0.22952265  1.50226972]\n",
      " [-1.42102043  1.76572662]\n",
      " [-1.63411782  0.60641588]\n",
      " [ 0.23123502 -1.09707131]\n",
      " [-1.82752977 -1.04599672]\n",
      " [-0.64751261  0.82513784]\n",
      " [ 0.10143268  0.39738206]\n",
      " [-0.10323047  0.56259043]\n",
      " [-1.76434501 -1.24385531]\n",
      " [ 0.09531481  0.699607  ]\n",
      " [-0.57042082 -0.38651448]]\n",
      "[[-1.70073548  0.02678664]\n",
      " [ 0.31414409  1.04339677]\n",
      " [-1.78998699  1.06130616]\n",
      " [-0.3493907   1.46931695]\n",
      " [-1.09881734  0.28232697]\n",
      " [-0.25454012  0.65540881]\n",
      " [-3.04042918 -1.48255186]\n",
      " [ 0.03638928  0.16115733]\n",
      " [-1.44596976 -0.32897753]\n",
      " [-0.08470013  0.24608293]\n",
      " [-0.86839312  0.39169081]\n",
      " [-1.01777227  0.71293387]\n",
      " [-0.79534402  1.49703238]\n",
      " [-0.69897367  0.99074731]\n",
      " [-1.52320627  0.75441391]\n",
      " [-1.85237176 -0.77107297]\n",
      " [-0.76707287 -0.09030134]\n",
      " [-2.20922363  0.51148792]]\n",
      "[[ 0.41576701  0.41563223]\n",
      " [-0.25306981  0.57438507]\n",
      " [-0.17310497  0.29658013]\n",
      " [-1.18927164 -1.57231544]\n",
      " [-0.55085303 -0.4540369 ]\n",
      " [-0.83930744  0.17809943]\n",
      " [-1.61717613 -0.32030827]\n",
      " [ 0.85513902  1.18747276]\n",
      " [-0.53970168  0.26367904]\n",
      " [-0.87569098  0.59576021]\n",
      " [-0.6235352  -0.3108694 ]\n",
      " [-0.37950773  0.7809528 ]\n",
      " [-0.67751059  0.98302984]\n",
      " [ 0.86097411  0.57629106]\n",
      " [ 0.51250743  1.16837314]\n",
      " [-0.88961058 -1.08080524]\n",
      " [-1.22813159  0.81699682]\n",
      " [-0.17260997 -0.48160058]]\n",
      "[[  4.57640604e-01   1.61640432e+00]\n",
      " [ -2.21134164e+00  -1.45273005e+00]\n",
      " [  1.14216128e-02   3.59183008e-01]\n",
      " [ -7.89475182e-02   3.72866238e-01]\n",
      " [ -1.56912429e+00  -5.78242967e-01]\n",
      " [ -1.39705920e+00  -1.42276479e-01]\n",
      " [ -1.86287495e+00   1.54124395e-02]\n",
      " [ -2.64485616e-01  -2.32068366e-04]\n",
      " [ -1.19659913e+00   9.86814301e-02]\n",
      " [  3.14089841e-01   9.39263807e-01]\n",
      " [ -1.00342274e+00   1.76352440e+00]\n",
      " [ -2.19600813e+00  -6.34819652e-01]\n",
      " [ -1.98444920e+00   8.94327815e-01]\n",
      " [ -1.25413599e-01   3.40275497e-01]\n",
      " [ -9.06119402e-02   1.48945973e+00]\n",
      " [  3.45297629e-01  -4.33681237e-01]\n",
      " [  1.28248510e-01   1.33460994e+00]\n",
      " [  4.52340756e-01   3.00598232e-01]]\n",
      "[[-2.97851104 -1.1758813 ]\n",
      " [-0.94679949 -2.17492874]\n",
      " [ 1.32233841  1.78636122]\n",
      " [ 0.35071219  0.6272518 ]\n",
      " [-2.48510296  0.05090893]\n",
      " [ 0.12488645  1.2750574 ]\n",
      " [-1.27002836 -0.06070308]\n",
      " [ 0.40238172  0.7982954 ]\n",
      " [-2.02132558  0.37950285]\n",
      " [ 0.02829828  1.44259171]\n",
      " [ 1.23415437  1.45163345]\n",
      " [-0.17965635 -0.397992  ]\n",
      " [ 0.14017123 -0.45088494]\n",
      " [-0.26185989  1.12125488]\n",
      " [-1.01379734  0.49009353]\n",
      " [-0.07887479 -0.69296733]\n",
      " [-1.19075205  0.44681601]\n",
      " [-0.54919266 -0.78662421]]\n",
      "[[-1.0645202   0.148809  ]\n",
      " [-0.74524298 -0.13873274]\n",
      " [-1.83069837  0.6891357 ]\n",
      " [ 0.0879358   1.63136683]\n",
      " [ 0.25658058  0.08305202]\n",
      " [-1.34841502  0.02823868]\n",
      " [-1.53301324 -0.12258068]\n",
      " [-1.29256949 -2.82922657]\n",
      " [-1.29710456 -0.96342606]\n",
      " [-1.32639023 -0.34133225]\n",
      " [-1.8625418   0.25251547]\n",
      " [ 0.06270175 -0.98883697]\n",
      " [-0.38217484  1.08037497]\n",
      " [ 0.04768266  0.685931  ]\n",
      " [-0.99041903  1.60026037]\n",
      " [-1.50936093 -1.34106057]\n",
      " [ 0.97785771  1.03298605]\n",
      " [ 0.11677514  0.76753939]]\n",
      "[[-0.80649349 -0.66009422]\n",
      " [-1.72096163 -0.80753267]\n",
      " [-0.48561617  0.6906417 ]\n",
      " [-0.21621147 -0.22194902]\n",
      " [-1.09502049 -0.94687547]\n",
      " [-0.54134998  0.30637813]\n",
      " [ 0.03633485 -1.10216835]\n",
      " [-0.69436276  0.56387443]\n",
      " [-0.72444243  0.94522714]\n",
      " [-2.05311472 -0.69116736]\n",
      " [-0.78673595  0.06142683]\n",
      " [-1.20432434  1.23755819]\n",
      " [ 0.46858981 -0.39574276]\n",
      " [-1.32277829 -1.0310336 ]\n",
      " [-0.2156383   0.01662365]\n",
      " [ 0.01806112  0.15977268]\n",
      " [-1.07819024  1.07837037]\n",
      " [-0.85070264  0.68470752]]\n",
      "[[ 0.15553103  1.65313449]\n",
      " [-1.55075125  0.20261242]\n",
      " [-1.32610394 -0.51413517]\n",
      " [-1.32804231 -0.03292486]]\n"
     ]
    }
   ],
   "source": [
    "batch_starts = np.arange(0, X.shape[0] , batch_size)\n",
    "for index in batch_starts:\n",
    "    print X[index:index + batch_size]\n"
   ]
  },
  {
   "cell_type": "code",
   "execution_count": 69,
   "metadata": {},
   "outputs": [
    {
     "data": {
      "text/plain": [
       "array([ 0.62670648,  0.72754361])"
      ]
     },
     "execution_count": 69,
     "metadata": {},
     "output_type": "execute_result"
    }
   ],
   "source": [
    "weights = np.empty(shape=(X.shape[1],))\n",
    "weights"
   ]
  },
  {
   "cell_type": "markdown",
   "metadata": {},
   "source": [
    "## Анализ сходимости (2 балл)"
   ]
  },
  {
   "cell_type": "markdown",
   "metadata": {},
   "source": [
    "Покажите сходимость вашего метода: изобразите графики зависимости значения функции потерь (по всей выборке) после очередной итерации/батча/эпохи (выбрать одно) для разных `alpha`."
   ]
  },
  {
   "cell_type": "code",
   "execution_count": null,
   "metadata": {
    "collapsed": true
   },
   "outputs": [],
   "source": [
    "## Your Code Here"
   ]
  },
  {
   "cell_type": "markdown",
   "metadata": {},
   "source": [
    "# Введение в конкурсную задачу"
   ]
  },
  {
   "cell_type": "markdown",
   "metadata": {},
   "source": [
    "## О hearthstone"
   ]
  },
  {
   "cell_type": "markdown",
   "metadata": {},
   "source": [
    "[Hearthstone](http://eu.battle.net/hearthstone/ru/) - карточная он-лайн игра по мотивам вселенной Warcraft.\n",
    "\n",
    "Каждый игрок играет за персонажа определенного класса и собирает колоду карт которую может разыгрывать во время игры. Для дальнейших деталей обратитесь к [wiki](https://ru.wikipedia.org/wiki/Hearthstone), посмотрите youtube или поиграйте сами (но не долго =) ).\n",
    "\n",
    "Теми или иными способами игрок может отнимать жизни у своего оппонента, таким образом цель раунда - побить другого игрока."
   ]
  },
  {
   "cell_type": "markdown",
   "metadata": {},
   "source": [
    "<center><img src='http://ps3hits.ru/wp-content/uploads/2015/08/hearthstone-game-sshot-1.jpg'></center>"
   ]
  },
  {
   "cell_type": "markdown",
   "metadata": {},
   "source": [
    "## Постановка задачи"
   ]
  },
  {
   "cell_type": "markdown",
   "metadata": {},
   "source": [
    "В рамках конференции [AAIA 17](https://fedcsis.org/2017/aaia) было запущено [соревнование](https://knowledgepit.fedcsis.org/contest/view.php?id=120) по предсказанию исхода раунда в heartstone. \n",
    "\n",
    "Используя признаки, которые описывают текущее состояние раунда необходимо предсказать **вероятность** победы игрока в этом раунде.\n",
    "\n",
    "Качество модели измеряется с помощью **ROC-AUC**\n",
    "\n",
    "### Правила\n",
    "* Объединяться в команды по правилам конкурса можно, но по правилам нашего курса - нельзя)\n",
    "* Вы можете использовать любой алгоритм, даже неизученный в нашем курсе (если на защите сможете объяснить как он работает)\n",
    "* Имейте ввиду, что вы должны отправить результаты строго до 14 мая 23:59 GMT на сайт соревнования (раздел submission). Без результата в leaderboard оценка выставлена не будет."
   ]
  },
  {
   "cell_type": "markdown",
   "metadata": {},
   "source": [
    "## Данные\n",
    "\n",
    "Для того, чтобы получить данные необходимо зарегистрироваться на сайте соревнования. \n",
    "\n",
    "Данные содержат набор информации о раунде в некоторый момент времени: жизни игрока и оппонента, номер хода, карты на столе, карты в руке игрока, количество карт в руке оппонента и тп.<br/>\n",
    "По игроку №1 (далее просто **игрок**) помимо всего прочего известен набор карт \"в руке\".</br>\n",
    "По игроку №2 (далее просто **оппонент**) эта информация отсутствует.</br>\n",
    "\n",
    "\n",
    "Данные поставляются в двух форматах:\n",
    "* В формате json содержится полная информация по текущему состоянию раунда\n",
    "* В табличном формате упрощенная аггрерированная информация по текущему состоянию раунда\n",
    "\n",
    "В данных для обучению содержится 2 млн. игр, разбитых на 4 файла. Названия признаков говорят сами за себя.\n",
    "Целевой признак - `decision` (1 - победил игрок, 0 - победил оппонент)."
   ]
  },
  {
   "cell_type": "markdown",
   "metadata": {},
   "source": [
    "## Работа с простыми табличными данными (1 балл)\n",
    "\n",
    "По соображениям сокращения времени вычислений, проделаем основные шаги по одной части данных.\n",
    "\n",
    "Если данные не будут помещаться вам с оперативную память, рекомендуется совершить предобработку в python, а  моделирование выполнять с помощью [vowpal wabbit](https://github.com/JohnLangford/vowpal_wabbit)."
   ]
  },
  {
   "cell_type": "code",
   "execution_count": null,
   "metadata": {
    "collapsed": true
   },
   "outputs": [],
   "source": [
    "# Загрузка данных целиком\n",
    "# df_list = []\n",
    "# for chunk in range(1,5):\n",
    "#     filepath = './trainingData_tabular_chunk%d.csv' % chunk\n",
    "#     df_list.append(pd.read_csv(filepath, sep=','))\n",
    "\n",
    "# df_data = pd.concat(df_list)\n",
    "\n",
    "# Загрузка одной части данных\n",
    "filepath = './trainingData_tabular_chunk1.csv'\n",
    "df_data = pd.read_csv(filepath, sep=',')"
   ]
  },
  {
   "cell_type": "code",
   "execution_count": null,
   "metadata": {
    "collapsed": true
   },
   "outputs": [],
   "source": [
    "df_data.shape"
   ]
  },
  {
   "cell_type": "code",
   "execution_count": null,
   "metadata": {
    "collapsed": true
   },
   "outputs": [],
   "source": [
    "# для удобства\n",
    "df_data.columns = df_data.columns.str.replace('.', '_')\n",
    "df_data = df_data.set_index('gamestate_id')"
   ]
  },
  {
   "cell_type": "code",
   "execution_count": null,
   "metadata": {
    "collapsed": true
   },
   "outputs": [],
   "source": [
    "df_data.head().T"
   ]
  },
  {
   "cell_type": "code",
   "execution_count": null,
   "metadata": {
    "collapsed": true
   },
   "outputs": [],
   "source": [
    "# Распределение классов\n",
    "df_data.decision.mean()\n",
    "\n",
    "# Примерно поровну"
   ]
  },
  {
   "cell_type": "markdown",
   "metadata": {},
   "source": [
    "#### Задание\n",
    "\n",
    "* Определите количество уникальных карт героя у игрока и оппонента.\n",
    "* Преобразуйте категориальные переменные с помощьб one-hot кодирования, добавьте к датасету и удалите прежние столбцы"
   ]
  },
  {
   "cell_type": "code",
   "execution_count": null,
   "metadata": {
    "collapsed": true
   },
   "outputs": [],
   "source": [
    "## Youd Code Here"
   ]
  },
  {
   "cell_type": "markdown",
   "metadata": {},
   "source": [
    "## Обучение модели (1 балл)"
   ]
  },
  {
   "cell_type": "markdown",
   "metadata": {},
   "source": [
    "#### Задание\n",
    "\n",
    "* Получите матрицу объект признак `X` и вектор целевого признака `y`\n",
    "* Обучите модуль из первой части этого ДЗ на данных"
   ]
  },
  {
   "cell_type": "code",
   "execution_count": null,
   "metadata": {
    "collapsed": true
   },
   "outputs": [],
   "source": [
    "## Youd Code Here"
   ]
  },
  {
   "cell_type": "markdown",
   "metadata": {},
   "source": [
    "## Применение модели (3 балла)\n",
    "#### Задание\n",
    "* Загрузите тестовые данные\n",
    "* Выполните те же операции с датасетом, что и с обучающей выборкой\n",
    "* Примените модель и загрузите решение на страницу конкурса\n",
    "* Напечатайте ваш ник и оценку качества, полученную после загрузки\n",
    "\n",
    "Судя по описанию, submission file должен состоять из одного столбца с числами, соответствующим вероятностям победы игрока."
   ]
  },
  {
   "cell_type": "code",
   "execution_count": null,
   "metadata": {
    "collapsed": true
   },
   "outputs": [],
   "source": [
    "## Youd Code Here"
   ]
  }
 ],
 "metadata": {
  "anaconda-cloud": {},
  "kernelspec": {
   "display_name": "Python 2",
   "language": "python",
   "name": "python2"
  },
  "language_info": {
   "codemirror_mode": {
    "name": "ipython",
    "version": 2
   },
   "file_extension": ".py",
   "mimetype": "text/x-python",
   "name": "python",
   "nbconvert_exporter": "python",
   "pygments_lexer": "ipython2",
   "version": "2.7.12"
  },
  "nav_menu": {},
  "toc": {
   "colors": {
    "hover_highlight": "#DAA520",
    "navigate_num": "#000000",
    "navigate_text": "#333333",
    "running_highlight": "#FF0000",
    "selected_highlight": "#FFD700",
    "sidebar_border": "#EEEEEE",
    "wrapper_background": "#FFFFFF"
   },
   "moveMenuLeft": true,
   "nav_menu": {
    "height": "365px",
    "width": "253px"
   },
   "navigate_menu": true,
   "number_sections": false,
   "sideBar": true,
   "threshold": 4,
   "toc_cell": false,
   "toc_section_display": "block",
   "toc_window_display": true,
   "widenNotebook": false
  }
 },
 "nbformat": 4,
 "nbformat_minor": 2
}
