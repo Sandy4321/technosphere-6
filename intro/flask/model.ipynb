{
 "cells": [
  {
   "cell_type": "code",
   "execution_count": 1,
   "metadata": {},
   "outputs": [],
   "source": [
    "import pandas as pd\n",
    "from sklearn.linear_model import LinearRegression\n",
    "import cPickle as pickle"
   ]
  },
  {
   "cell_type": "code",
   "execution_count": 2,
   "metadata": {},
   "outputs": [],
   "source": [
    "links = [\"https://www.kinopoisk.ru/film/tayna-koko-2017-679486/\", \n",
    "         \"https://www.kinopoisk.ru/film/proshchay-kristofer-robin-2017-993579/\", \n",
    "         \"https://www.kinopoisk.ru/film/chastnoe-pionerskoe-3-privet-vzroslaya-zhizn-2017-909664/\",\n",
    "         \"https://www.kinopoisk.ru/film/obet-molchaniya-2017-1009473/\",\n",
    "         \"https://www.kinopoisk.ru/film/detki-naprokat-2017-1047968/\",\n",
    "         \"https://www.kinopoisk.ru/film/mister-felichita-2017-1026440/\",\n",
    "         \"https://www.kinopoisk.ru/film/legenda-o-kolovrate-2017-844118/\",\n",
    "         \"https://www.kinopoisk.ru/film/inostranets-2017-618287/\",\n",
    "         \"https://www.kinopoisk.ru/film/maksimalnyy-udar-2017-917942/\",\n",
    "         \"https://www.kinopoisk.ru/film/atlantida-2017-678639/\",\n",
    "         \"https://www.kinopoisk.ru/film/konvert-2017-981348/\"]"
   ]
  },
  {
   "cell_type": "code",
   "execution_count": 3,
   "metadata": {},
   "outputs": [
    {
     "data": {
      "text/plain": [
       "['https://www.kinopoisk.ru/film/tayna-koko-2017-679486/',\n",
       " 'https://www.kinopoisk.ru/film/proshchay-kristofer-robin-2017-993579/',\n",
       " 'https://www.kinopoisk.ru/film/chastnoe-pionerskoe-3-privet-vzroslaya-zhizn-2017-909664/',\n",
       " 'https://www.kinopoisk.ru/film/obet-molchaniya-2017-1009473/',\n",
       " 'https://www.kinopoisk.ru/film/detki-naprokat-2017-1047968/',\n",
       " 'https://www.kinopoisk.ru/film/mister-felichita-2017-1026440/',\n",
       " 'https://www.kinopoisk.ru/film/legenda-o-kolovrate-2017-844118/',\n",
       " 'https://www.kinopoisk.ru/film/inostranets-2017-618287/',\n",
       " 'https://www.kinopoisk.ru/film/maksimalnyy-udar-2017-917942/',\n",
       " 'https://www.kinopoisk.ru/film/atlantida-2017-678639/',\n",
       " 'https://www.kinopoisk.ru/film/konvert-2017-981348/']"
      ]
     },
     "execution_count": 3,
     "metadata": {},
     "output_type": "execute_result"
    }
   ],
   "source": [
    "links"
   ]
  },
  {
   "cell_type": "code",
   "execution_count": 11,
   "metadata": {},
   "outputs": [],
   "source": [
    "data = pd.DataFrame({'link': links, 'age': [12, 12, 0, 18, 12, 0, 12, 18, 0, 16, 16]})"
   ]
  },
  {
   "cell_type": "code",
   "execution_count": 12,
   "metadata": {},
   "outputs": [
    {
     "data": {
      "text/html": [
       "<div>\n",
       "<style scoped>\n",
       "    .dataframe tbody tr th:only-of-type {\n",
       "        vertical-align: middle;\n",
       "    }\n",
       "\n",
       "    .dataframe tbody tr th {\n",
       "        vertical-align: top;\n",
       "    }\n",
       "\n",
       "    .dataframe thead th {\n",
       "        text-align: right;\n",
       "    }\n",
       "</style>\n",
       "<table border=\"1\" class=\"dataframe\">\n",
       "  <thead>\n",
       "    <tr style=\"text-align: right;\">\n",
       "      <th></th>\n",
       "      <th>age</th>\n",
       "      <th>link</th>\n",
       "    </tr>\n",
       "  </thead>\n",
       "  <tbody>\n",
       "    <tr>\n",
       "      <th>0</th>\n",
       "      <td>12</td>\n",
       "      <td>https://www.kinopoisk.ru/film/tayna-koko-2017-...</td>\n",
       "    </tr>\n",
       "    <tr>\n",
       "      <th>1</th>\n",
       "      <td>12</td>\n",
       "      <td>https://www.kinopoisk.ru/film/proshchay-kristo...</td>\n",
       "    </tr>\n",
       "    <tr>\n",
       "      <th>2</th>\n",
       "      <td>0</td>\n",
       "      <td>https://www.kinopoisk.ru/film/chastnoe-pioners...</td>\n",
       "    </tr>\n",
       "    <tr>\n",
       "      <th>3</th>\n",
       "      <td>18</td>\n",
       "      <td>https://www.kinopoisk.ru/film/obet-molchaniya-...</td>\n",
       "    </tr>\n",
       "    <tr>\n",
       "      <th>4</th>\n",
       "      <td>12</td>\n",
       "      <td>https://www.kinopoisk.ru/film/detki-naprokat-2...</td>\n",
       "    </tr>\n",
       "    <tr>\n",
       "      <th>5</th>\n",
       "      <td>0</td>\n",
       "      <td>https://www.kinopoisk.ru/film/mister-felichita...</td>\n",
       "    </tr>\n",
       "    <tr>\n",
       "      <th>6</th>\n",
       "      <td>12</td>\n",
       "      <td>https://www.kinopoisk.ru/film/legenda-o-kolovr...</td>\n",
       "    </tr>\n",
       "    <tr>\n",
       "      <th>7</th>\n",
       "      <td>18</td>\n",
       "      <td>https://www.kinopoisk.ru/film/inostranets-2017...</td>\n",
       "    </tr>\n",
       "    <tr>\n",
       "      <th>8</th>\n",
       "      <td>0</td>\n",
       "      <td>https://www.kinopoisk.ru/film/maksimalnyy-udar...</td>\n",
       "    </tr>\n",
       "    <tr>\n",
       "      <th>9</th>\n",
       "      <td>16</td>\n",
       "      <td>https://www.kinopoisk.ru/film/atlantida-2017-6...</td>\n",
       "    </tr>\n",
       "    <tr>\n",
       "      <th>10</th>\n",
       "      <td>16</td>\n",
       "      <td>https://www.kinopoisk.ru/film/konvert-2017-981...</td>\n",
       "    </tr>\n",
       "  </tbody>\n",
       "</table>\n",
       "</div>"
      ],
      "text/plain": [
       "    age                                               link\n",
       "0    12  https://www.kinopoisk.ru/film/tayna-koko-2017-...\n",
       "1    12  https://www.kinopoisk.ru/film/proshchay-kristo...\n",
       "2     0  https://www.kinopoisk.ru/film/chastnoe-pioners...\n",
       "3    18  https://www.kinopoisk.ru/film/obet-molchaniya-...\n",
       "4    12  https://www.kinopoisk.ru/film/detki-naprokat-2...\n",
       "5     0  https://www.kinopoisk.ru/film/mister-felichita...\n",
       "6    12  https://www.kinopoisk.ru/film/legenda-o-kolovr...\n",
       "7    18  https://www.kinopoisk.ru/film/inostranets-2017...\n",
       "8     0  https://www.kinopoisk.ru/film/maksimalnyy-udar...\n",
       "9    16  https://www.kinopoisk.ru/film/atlantida-2017-6...\n",
       "10   16  https://www.kinopoisk.ru/film/konvert-2017-981..."
      ]
     },
     "execution_count": 12,
     "metadata": {},
     "output_type": "execute_result"
    }
   ],
   "source": [
    "data"
   ]
  },
  {
   "cell_type": "code",
   "execution_count": 13,
   "metadata": {},
   "outputs": [],
   "source": [
    "data.to_csv('check_data.csv',index=False)"
   ]
  },
  {
   "cell_type": "code",
   "execution_count": 6,
   "metadata": {},
   "outputs": [],
   "source": [
    "train_links = [\"https://www.kinopoisk.ru/film/fiksiki-bolshoy-sekret-2017-905038/\",\n",
    "              \"https://www.kinopoisk.ru/film/tor-ragnaryok-2017-822709/\",\n",
    "              \"https://www.kinopoisk.ru/film/ubiystvo-v-vostochnom-ekspresse-2017-817969/\",\n",
    "              \"https://www.kinopoisk.ru/film/posledniy-bogatyr-2017-976642/\"]"
   ]
  },
  {
   "cell_type": "code",
   "execution_count": 7,
   "metadata": {},
   "outputs": [],
   "source": [
    "train_data = pd.DataFrame({'link': train_links, 'age': [6, 16, 16, 12], 'score': [5.992, 7.752, 6.886, 7.154]})"
   ]
  },
  {
   "cell_type": "code",
   "execution_count": 8,
   "metadata": {},
   "outputs": [
    {
     "data": {
      "text/html": [
       "<div>\n",
       "<style scoped>\n",
       "    .dataframe tbody tr th:only-of-type {\n",
       "        vertical-align: middle;\n",
       "    }\n",
       "\n",
       "    .dataframe tbody tr th {\n",
       "        vertical-align: top;\n",
       "    }\n",
       "\n",
       "    .dataframe thead th {\n",
       "        text-align: right;\n",
       "    }\n",
       "</style>\n",
       "<table border=\"1\" class=\"dataframe\">\n",
       "  <thead>\n",
       "    <tr style=\"text-align: right;\">\n",
       "      <th></th>\n",
       "      <th>age</th>\n",
       "      <th>link</th>\n",
       "      <th>score</th>\n",
       "    </tr>\n",
       "  </thead>\n",
       "  <tbody>\n",
       "    <tr>\n",
       "      <th>0</th>\n",
       "      <td>6</td>\n",
       "      <td>https://www.kinopoisk.ru/film/fiksiki-bolshoy-...</td>\n",
       "      <td>5.992</td>\n",
       "    </tr>\n",
       "    <tr>\n",
       "      <th>1</th>\n",
       "      <td>16</td>\n",
       "      <td>https://www.kinopoisk.ru/film/tor-ragnaryok-20...</td>\n",
       "      <td>7.752</td>\n",
       "    </tr>\n",
       "    <tr>\n",
       "      <th>2</th>\n",
       "      <td>16</td>\n",
       "      <td>https://www.kinopoisk.ru/film/ubiystvo-v-vosto...</td>\n",
       "      <td>6.886</td>\n",
       "    </tr>\n",
       "    <tr>\n",
       "      <th>3</th>\n",
       "      <td>12</td>\n",
       "      <td>https://www.kinopoisk.ru/film/posledniy-bogaty...</td>\n",
       "      <td>7.154</td>\n",
       "    </tr>\n",
       "  </tbody>\n",
       "</table>\n",
       "</div>"
      ],
      "text/plain": [
       "   age                                               link  score\n",
       "0    6  https://www.kinopoisk.ru/film/fiksiki-bolshoy-...  5.992\n",
       "1   16  https://www.kinopoisk.ru/film/tor-ragnaryok-20...  7.752\n",
       "2   16  https://www.kinopoisk.ru/film/ubiystvo-v-vosto...  6.886\n",
       "3   12  https://www.kinopoisk.ru/film/posledniy-bogaty...  7.154"
      ]
     },
     "execution_count": 8,
     "metadata": {},
     "output_type": "execute_result"
    }
   ],
   "source": [
    "train_data"
   ]
  },
  {
   "cell_type": "code",
   "execution_count": 9,
   "metadata": {},
   "outputs": [],
   "source": [
    "L = LinearRegression()\n",
    "L.fit(train_data['age'].values.reshape(-1, 1), train_data['score'])\n",
    "with open('linreg.pkl', 'wb') as f_out:\n",
    "    pickle.dump(L, f_out)"
   ]
  },
  {
   "cell_type": "code",
   "execution_count": 10,
   "metadata": {},
   "outputs": [
    {
     "data": {
      "text/html": [
       "<div>\n",
       "<style scoped>\n",
       "    .dataframe tbody tr th:only-of-type {\n",
       "        vertical-align: middle;\n",
       "    }\n",
       "\n",
       "    .dataframe tbody tr th {\n",
       "        vertical-align: top;\n",
       "    }\n",
       "\n",
       "    .dataframe thead th {\n",
       "        text-align: right;\n",
       "    }\n",
       "</style>\n",
       "<table border=\"1\" class=\"dataframe\">\n",
       "  <thead>\n",
       "    <tr style=\"text-align: right;\">\n",
       "      <th></th>\n",
       "      <th>age</th>\n",
       "      <th>link</th>\n",
       "      <th>score</th>\n",
       "    </tr>\n",
       "  </thead>\n",
       "  <tbody>\n",
       "    <tr>\n",
       "      <th>0</th>\n",
       "      <td>12</td>\n",
       "      <td>https://www.kinopoisk.ru/film/tayna-koko-2017-...</td>\n",
       "      <td>6.881015</td>\n",
       "    </tr>\n",
       "    <tr>\n",
       "      <th>1</th>\n",
       "      <td>12</td>\n",
       "      <td>https://www.kinopoisk.ru/film/proshchay-kristo...</td>\n",
       "      <td>6.881015</td>\n",
       "    </tr>\n",
       "    <tr>\n",
       "      <th>2</th>\n",
       "      <td>0</td>\n",
       "      <td>https://www.kinopoisk.ru/film/chastnoe-pioners...</td>\n",
       "      <td>5.321373</td>\n",
       "    </tr>\n",
       "    <tr>\n",
       "      <th>3</th>\n",
       "      <td>18</td>\n",
       "      <td>https://www.kinopoisk.ru/film/obet-molchaniya-...</td>\n",
       "      <td>7.660836</td>\n",
       "    </tr>\n",
       "    <tr>\n",
       "      <th>4</th>\n",
       "      <td>12</td>\n",
       "      <td>https://www.kinopoisk.ru/film/detki-naprokat-2...</td>\n",
       "      <td>6.881015</td>\n",
       "    </tr>\n",
       "    <tr>\n",
       "      <th>5</th>\n",
       "      <td>0</td>\n",
       "      <td>https://www.kinopoisk.ru/film/mister-felichita...</td>\n",
       "      <td>5.321373</td>\n",
       "    </tr>\n",
       "    <tr>\n",
       "      <th>6</th>\n",
       "      <td>12</td>\n",
       "      <td>https://www.kinopoisk.ru/film/legenda-o-kolovr...</td>\n",
       "      <td>6.881015</td>\n",
       "    </tr>\n",
       "    <tr>\n",
       "      <th>7</th>\n",
       "      <td>18</td>\n",
       "      <td>https://www.kinopoisk.ru/film/inostranets-2017...</td>\n",
       "      <td>7.660836</td>\n",
       "    </tr>\n",
       "    <tr>\n",
       "      <th>8</th>\n",
       "      <td>0</td>\n",
       "      <td>https://www.kinopoisk.ru/film/maksimalnyy-udar...</td>\n",
       "      <td>5.321373</td>\n",
       "    </tr>\n",
       "    <tr>\n",
       "      <th>9</th>\n",
       "      <td>16</td>\n",
       "      <td>https://www.kinopoisk.ru/film/atlantida-2017-6...</td>\n",
       "      <td>7.400896</td>\n",
       "    </tr>\n",
       "    <tr>\n",
       "      <th>10</th>\n",
       "      <td>16</td>\n",
       "      <td>https://www.kinopoisk.ru/film/konvert-2017-981...</td>\n",
       "      <td>7.400896</td>\n",
       "    </tr>\n",
       "  </tbody>\n",
       "</table>\n",
       "</div>"
      ],
      "text/plain": [
       "    age                                               link     score\n",
       "0    12  https://www.kinopoisk.ru/film/tayna-koko-2017-...  6.881015\n",
       "1    12  https://www.kinopoisk.ru/film/proshchay-kristo...  6.881015\n",
       "2     0  https://www.kinopoisk.ru/film/chastnoe-pioners...  5.321373\n",
       "3    18  https://www.kinopoisk.ru/film/obet-molchaniya-...  7.660836\n",
       "4    12  https://www.kinopoisk.ru/film/detki-naprokat-2...  6.881015\n",
       "5     0  https://www.kinopoisk.ru/film/mister-felichita...  5.321373\n",
       "6    12  https://www.kinopoisk.ru/film/legenda-o-kolovr...  6.881015\n",
       "7    18  https://www.kinopoisk.ru/film/inostranets-2017...  7.660836\n",
       "8     0  https://www.kinopoisk.ru/film/maksimalnyy-udar...  5.321373\n",
       "9    16  https://www.kinopoisk.ru/film/atlantida-2017-6...  7.400896\n",
       "10   16  https://www.kinopoisk.ru/film/konvert-2017-981...  7.400896"
      ]
     },
     "execution_count": 10,
     "metadata": {},
     "output_type": "execute_result"
    }
   ],
   "source": [
    "data['score'] = L.predict(data['age'].values.reshape(-1, 1))\n",
    "data"
   ]
  },
  {
   "cell_type": "code",
   "execution_count": null,
   "metadata": {},
   "outputs": [],
   "source": []
  }
 ],
 "metadata": {
  "kernelspec": {
   "display_name": "Python 2",
   "language": "python",
   "name": "python2"
  },
  "language_info": {
   "codemirror_mode": {
    "name": "ipython",
    "version": 2
   },
   "file_extension": ".py",
   "mimetype": "text/x-python",
   "name": "python",
   "nbconvert_exporter": "python",
   "pygments_lexer": "ipython2",
   "version": "2.7.12"
  }
 },
 "nbformat": 4,
 "nbformat_minor": 2
}
