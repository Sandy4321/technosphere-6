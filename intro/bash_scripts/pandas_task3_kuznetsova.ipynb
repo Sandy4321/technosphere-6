{
 "cells": [
  {
   "cell_type": "code",
   "execution_count": 20,
   "metadata": {},
   "outputs": [],
   "source": [
    "import pandas as pd\n",
    "import os\n",
    "from time import time "
   ]
  },
  {
   "cell_type": "code",
   "execution_count": 55,
   "metadata": {},
   "outputs": [
    {
     "name": "stdout",
     "output_type": "stream",
     "text": [
      "3146\n",
      "135123968.124 nanoseconds\n"
     ]
    }
   ],
   "source": [
    "t1 = time()\n",
    "\n",
    "directory = \"./data_for_cool_science\"\n",
    "files = os.listdir(directory)\n",
    "\n",
    "sizes = []\n",
    "for file in files:\n",
    "    full_path = os.path.join(directory, file)\n",
    "    size = os.path.getsize(full_path)\n",
    "    sizes.append([size, full_path])\n",
    "\n",
    "sizes.sort(key=lambda s: s[0])\n",
    "files = zip(*sizes[:3])[1]\n",
    "\n",
    "data = pd.DataFrame()\n",
    "for file in files:\n",
    "    data = data.append(pd.read_csv(file, sep='\\t', lineterminator='\\n', names = ['class', 'words']))\n",
    "data = data[data['class'] == 'bad']\n",
    "words = set()\n",
    "data['words'].str.lower().str.split(',').apply(words.update)\n",
    "print len(words)\n",
    "\n",
    "t2 = time()\n",
    "print (str((t2 - t1)*1000000000.0) + ' nanoseconds')"
   ]
  }
 ],
 "metadata": {
  "kernelspec": {
   "display_name": "Python 2",
   "language": "python",
   "name": "python2"
  },
  "language_info": {
   "codemirror_mode": {
    "name": "ipython",
    "version": 2
   },
   "file_extension": ".py",
   "mimetype": "text/x-python",
   "name": "python",
   "nbconvert_exporter": "python",
   "pygments_lexer": "ipython2",
   "version": "2.7.12"
  }
 },
 "nbformat": 4,
 "nbformat_minor": 2
}
