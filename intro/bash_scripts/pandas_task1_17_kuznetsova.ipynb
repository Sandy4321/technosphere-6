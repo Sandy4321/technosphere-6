{
 "cells": [
  {
   "cell_type": "code",
   "execution_count": 6,
   "metadata": {},
   "outputs": [],
   "source": [
    "import pandas as pd\n",
    "from datetime import datetime\n",
    "from os import walk\n",
    "from time import time  "
   ]
  },
  {
   "cell_type": "code",
   "execution_count": 9,
   "metadata": {},
   "outputs": [
    {
     "name": "stdout",
     "output_type": "stream",
     "text": [
      "78.34.210.40       90\n",
      "244.45.159.75      89\n",
      "156.226.172.4      87\n",
      "253.134.160.170    87\n",
      "215.24.14.7        86\n",
      "0.121.249.86       86\n",
      "23.224.246.210     85\n",
      "119.244.63.110     84\n",
      "140.196.181.249    84\n",
      "32.244.81.250      84\n",
      "Name: ip, dtype: int64\n",
      "1542716979.98 nanoseconds\n"
     ]
    }
   ],
   "source": [
    "t1 = time()\n",
    "logs_files = []\n",
    "for root, dirs, files in walk(\".\"):\n",
    "    for file in files:\n",
    "        if file.startswith(\"logs_\"):\n",
    "             logs_files.append(file)\n",
    "                \n",
    "data = pd.DataFrame()\n",
    "for file in logs_files:\n",
    "    data = data.append(pd.read_csv(file, sep='\\t', lineterminator='\\n', names = ['time', 'ip', 'method']))\n",
    "\n",
    "data['time'] = pd.to_datetime(data['time'],unit='s')\n",
    "date1 = \"2017-10-31 10:00:00.000\"\n",
    "date2 = \"2017-10-31 17:00:00.000\"\n",
    "data = data[(data['time'] >= date1) & (data['time'] <= date2) & (data['method'] == \"GET\")]\n",
    "print data['ip'].value_counts()[:10]\n",
    "t2 = time()\n",
    "print (str((t2 - t1)*1000000000.0) + ' nanoseconds')"
   ]
  },
  {
   "cell_type": "code",
   "execution_count": null,
   "metadata": {},
   "outputs": [],
   "source": []
  }
 ],
 "metadata": {
  "kernelspec": {
   "display_name": "Python 2",
   "language": "python",
   "name": "python2"
  },
  "language_info": {
   "codemirror_mode": {
    "name": "ipython",
    "version": 2
   },
   "file_extension": ".py",
   "mimetype": "text/x-python",
   "name": "python",
   "nbconvert_exporter": "python",
   "pygments_lexer": "ipython2",
   "version": "2.7.12"
  }
 },
 "nbformat": 4,
 "nbformat_minor": 2
}
