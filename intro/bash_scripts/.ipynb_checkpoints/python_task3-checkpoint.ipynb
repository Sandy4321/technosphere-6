{
 "cells": [
  {
   "cell_type": "code",
   "execution_count": 1,
   "metadata": {},
   "outputs": [],
   "source": [
    "import os\n",
    "from time import time "
   ]
  },
  {
   "cell_type": "code",
   "execution_count": 24,
   "metadata": {},
   "outputs": [
    {
     "name": "stdout",
     "output_type": "stream",
     "text": [
      "3146\n",
      "102878808.975 nanoseconds\n"
     ]
    }
   ],
   "source": [
    "t1 = time()\n",
    "\n",
    "directory = \"./data_for_cool_science\"\n",
    "files = os.listdir(directory)\n",
    "\n",
    "sizes = []\n",
    "for file in files:\n",
    "    full_path = os.path.join(directory, file)\n",
    "    size = os.path.getsize(full_path)\n",
    "    sizes.append([size, full_path])\n",
    "\n",
    "sizes.sort(key=lambda s: s[0])\n",
    "files = zip(*sizes[:3])[1]\n",
    "\n",
    "uniques = set()\n",
    "\n",
    "for full_path in files:\n",
    "    with open(full_path) as f:\n",
    "        content = f.readlines()\n",
    "    content = [x.strip().lower().split('\\t') for x in content] \n",
    "    content = [words for class_name, words in content if class_name=='bad']\n",
    "    content = [string.split(',') for string in content]\n",
    "    for words_list in content:\n",
    "        uniques.update(words_list)  \n",
    "    \n",
    "print len(uniques)\n",
    "\n",
    "t2 = time()\n",
    "print (str((t2 - t1)*1000000000.0) + ' nanoseconds')"
   ]
  },
  {
   "cell_type": "code",
   "execution_count": 14,
   "metadata": {},
   "outputs": [
    {
     "data": {
      "text/plain": [
       "[1, 2, 2, 3]"
      ]
     },
     "execution_count": 14,
     "metadata": {},
     "output_type": "execute_result"
    }
   ],
   "source": []
  },
  {
   "cell_type": "code",
   "execution_count": null,
   "metadata": {},
   "outputs": [],
   "source": []
  }
 ],
 "metadata": {
  "kernelspec": {
   "display_name": "Python 2",
   "language": "python",
   "name": "python2"
  },
  "language_info": {
   "codemirror_mode": {
    "name": "ipython",
    "version": 2
   },
   "file_extension": ".py",
   "mimetype": "text/x-python",
   "name": "python",
   "nbconvert_exporter": "python",
   "pygments_lexer": "ipython2",
   "version": "2.7.12"
  }
 },
 "nbformat": 4,
 "nbformat_minor": 2
}
