{
 "cells": [
  {
   "cell_type": "code",
   "execution_count": 34,
   "metadata": {},
   "outputs": [],
   "source": [
    "from os import walk\n",
    "import time\n",
    "import datetime\n",
    "from collections import Counter"
   ]
  },
  {
   "cell_type": "code",
   "execution_count": 36,
   "metadata": {},
   "outputs": [
    {
     "name": "stdout",
     "output_type": "stream",
     "text": [
      "[]\n",
      "674558877.945 nanoseconds\n"
     ]
    }
   ],
   "source": [
    "t1 = time.time()\n",
    "\n",
    "s1 = \"31/10/2017 10:00:00\"\n",
    "s2 = \"31/10/2017 17:00:00\"\n",
    "date1 = time.mktime(datetime.datetime.strptime(s1, \"%d/%m/%Y %H:%M:%S\").timetuple())\n",
    "date2 = time.mktime(datetime.datetime.strptime(s1, \"%d/%m/%Y %H:%M:%S\").timetuple())\n",
    "\n",
    "logs_files = []\n",
    "for root, dirs, files in walk(\".\"):\n",
    "    for file in files:\n",
    "        if file.startswith(\"logs_\"):\n",
    "             logs_files.append(file)\n",
    "                \n",
    "all_lines = []                \n",
    "for file in logs_files:\n",
    "    with open(file) as f:\n",
    "        content = f.readlines()\n",
    "        content = [line.strip().split('\\t') for line in content]\n",
    "        content = [ip for unixtime, ip, method in content if (method == 'GET' and unixtime>=date1 and unixtime<=date2)]\n",
    "        all_lines = all_lines + content\n",
    "        \n",
    "print Counter(all_lines).most_common(10)\n",
    "t2 = time.time()\n",
    "print (str((t2 - t1)*1000000000.0) + ' nanoseconds')"
   ]
  },
  {
   "cell_type": "code",
   "execution_count": 26,
   "metadata": {},
   "outputs": [],
   "source": []
  },
  {
   "cell_type": "code",
   "execution_count": null,
   "metadata": {},
   "outputs": [],
   "source": []
  }
 ],
 "metadata": {
  "kernelspec": {
   "display_name": "Python 2",
   "language": "python",
   "name": "python2"
  },
  "language_info": {
   "codemirror_mode": {
    "name": "ipython",
    "version": 2
   },
   "file_extension": ".py",
   "mimetype": "text/x-python",
   "name": "python",
   "nbconvert_exporter": "python",
   "pygments_lexer": "ipython2",
   "version": "2.7.12"
  }
 },
 "nbformat": 4,
 "nbformat_minor": 2
}
