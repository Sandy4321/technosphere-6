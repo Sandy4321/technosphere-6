{
 "cells": [
  {
   "cell_type": "markdown",
   "metadata": {},
   "source": [
    "# План:\n",
    "\n",
    "1) Работа с файлами и директориями\n",
    "\n",
    "2) Работа с содержимым и pipes\n",
    "\n",
    "3) Bash\n",
    "\n",
    "4) Прочее"
   ]
  },
  {
   "cell_type": "markdown",
   "metadata": {},
   "source": [
    "# Работа с файлами и директориями\n",
    "\n",
    "- `.` - текущая директория\n",
    "- `..` - директория на уровень выше\n",
    "- `~` - домашняя директория (обычно это `/home/username`)\n",
    "- `/` - корневая директория\n",
    "\n",
    "Узнать текущую директорию можно командой `pwd`"
   ]
  },
  {
   "cell_type": "code",
   "execution_count": 1,
   "metadata": {},
   "outputs": [
    {
     "name": "stdout",
     "output_type": "stream",
     "text": [
      "/media/ekaterina/Data/technosphere/intro_homework\r\n"
     ]
    }
   ],
   "source": [
    "!pwd"
   ]
  },
  {
   "cell_type": "markdown",
   "metadata": {},
   "source": [
    "Узнать текущего пользователя - `whoami`"
   ]
  },
  {
   "cell_type": "code",
   "execution_count": 2,
   "metadata": {},
   "outputs": [
    {
     "name": "stdout",
     "output_type": "stream",
     "text": [
      "ekaterina\r\n"
     ]
    }
   ],
   "source": [
    "!whoami"
   ]
  },
  {
   "cell_type": "markdown",
   "metadata": {},
   "source": [
    "Переход в другую директорию осуществляется командой `cd`"
   ]
  },
  {
   "cell_type": "code",
   "execution_count": 3,
   "metadata": {},
   "outputs": [
    {
     "name": "stdout",
     "output_type": "stream",
     "text": [
      "/media/ekaterina/Data/technosphere/intro_homework\r\n"
     ]
    }
   ],
   "source": [
    "!mkdir example_dir\n",
    "!cd example_dir\n",
    "!pwd"
   ]
  },
  {
   "cell_type": "markdown",
   "metadata": {},
   "source": [
    "Команда `mkdir` создаёт директории"
   ]
  },
  {
   "cell_type": "markdown",
   "metadata": {},
   "source": [
    "Посмотреть содержимое директории можно при помощи команды `ls`. Если не указать директорию, то по умолчанию будет использована текущая директория. Пример: `ls /my/awesome/dir`\n",
    "\n",
    "\n",
    "Полезные опции:\n",
    "- `-a` - отобразить все файлы и директории (по умолчанию не оторбажаются названия начинающиеся с точки)\n",
    "- `-l` - отобразить списком\n",
    "- `-h` - for humans\n",
    "- `-t` - отсортировать по времени изменения\n",
    "- `-s` - отсортировать по размеру файлов (размер директорий не учитывается, для этого пользуйтесь командой `du`)\n",
    "\n",
    "Посмотреть список доступных опций можно при помощи команды `man`. Запомните команду `man`. "
   ]
  },
  {
   "cell_type": "code",
   "execution_count": 4,
   "metadata": {
    "scrolled": true
   },
   "outputs": [
    {
     "name": "stdout",
     "output_type": "stream",
     "text": [
      "LS(1)                            User Commands                           LS(1)\r\n",
      "\r\n",
      "N\bNA\bAM\bME\bE\r\n",
      "       ls - list directory contents\r\n",
      "\r\n",
      "S\bSY\bYN\bNO\bOP\bPS\bSI\bIS\bS\r\n",
      "       l\bls\bs [_\bO_\bP_\bT_\bI_\bO_\bN]... [_\bF_\bI_\bL_\bE]...\r\n",
      "\r\n",
      "D\bDE\bES\bSC\bCR\bRI\bIP\bPT\bTI\bIO\bON\bN\r\n",
      "       List  information  about  the FILEs (the current directory by default).\r\n",
      "       Sort entries alphabetically if none of -\b-c\bcf\bft\btu\buv\bvS\bSU\bUX\bX nor -\b--\b-s\bso\bor\brt\bt  is  speci‐\r\n",
      "       fied.\r\n",
      "\r\n",
      "       Mandatory  arguments  to  long  options are mandatory for short options\r\n",
      "       too.\r\n",
      "\r\n",
      "       -\b-a\ba, -\b--\b-a\bal\bll\bl\r\n",
      "              do not ignore entries starting with .\r\n",
      "\r\n",
      "       -\b-A\bA, -\b--\b-a\bal\blm\bmo\bos\bst\bt-\b-a\bal\bll\bl\r\n",
      "              do not list implied . and ..\r\n",
      "\r\n",
      "       -\b--\b-a\bau\but\bth\bho\bor\br\r\n",
      "              with -\b-l\bl, print the author of each file\r\n",
      "\r\n",
      "       -\b-b\bb, -\b--\b-e\bes\bsc\bca\bap\bpe\be\r\n",
      "              print C-style escapes for nongraphic characters\r\n",
      "\r\n",
      "       -\b--\b-b\bbl\blo\boc\bck\bk-\b-s\bsi\biz\bze\be=_\bS_\bI_\bZ_\bE\r\n",
      "              scale sizes by SIZE before printing them; e.g., '--block-size=M'\r\n",
      "              prints sizes in units of 1,048,576 bytes; see SIZE format below\r\n",
      "\r\n",
      "       -\b-B\bB, -\b--\b-i\big\bgn\bno\bor\bre\be-\b-b\bba\bac\bck\bku\bup\bps\bs\r\n",
      "              do not list implied entries ending with ~\r\n",
      "\r\n",
      "       -\b-c\bc     with -\b-l\blt\bt: sort by, and show, ctime (time of last modification of\r\n",
      "              file status information); with -\b-l\bl: show ctime and sort by  name;\r\n",
      "              otherwise: sort by ctime, newest first\r\n",
      "\r\n",
      "       -\b-C\bC     list entries by columns\r\n",
      "\r\n",
      "       -\b--\b-c\bco\bol\blo\bor\br[=_\bW_\bH_\bE_\bN]\r\n",
      "              colorize  the output; WHEN can be 'always' (default if omitted),\r\n",
      "              'auto', or 'never'; more info below\r\n",
      "\r\n",
      "       -\b-d\bd, -\b--\b-d\bdi\bir\bre\bec\bct\bto\bor\bry\by\r\n",
      "              list directories themselves, not their contents\r\n",
      "\r\n",
      "       -\b-D\bD, -\b--\b-d\bdi\bir\bre\bed\bd\r\n",
      "              generate output designed for Emacs' dired mode\r\n",
      "\r\n",
      "       -\b-f\bf     do not sort, enable -\b-a\baU\bU, disable -\b-l\bls\bs -\b--\b-c\bco\bol\blo\bor\br\r\n",
      "\r\n",
      "       -\b-F\bF, -\b--\b-c\bcl\bla\bas\bss\bsi\bif\bfy\by\r\n",
      "              append indicator (one of */=>@|) to entries\r\n",
      "\r\n",
      "       -\b--\b-f\bfi\bil\ble\be-\b-t\bty\byp\bpe\be\r\n",
      "              likewise, except do not append '*'\r\n",
      "\r\n",
      "       -\b--\b-f\bfo\bor\brm\bma\bat\bt=_\bW_\bO_\bR_\bD\r\n",
      "              across -\b-x\bx, commas -\b-m\bm, horizontal -\b-x\bx, long -\b-l\bl, single-column  -\b-1\b1,\r\n",
      "              verbose -\b-l\bl, vertical -\b-C\bC\r\n",
      "\r\n",
      "       -\b--\b-f\bfu\bul\bll\bl-\b-t\bti\bim\bme\be\r\n",
      "              like -\b-l\bl -\b--\b-t\bti\bim\bme\be-\b-s\bst\bty\byl\ble\be=_\bf_\bu_\bl_\bl_\b-_\bi_\bs_\bo\r\n",
      "\r\n",
      "       -\b-g\bg     like -\b-l\bl, but do not list owner\r\n",
      "\r\n",
      "       -\b--\b-g\bgr\bro\bou\bup\bp-\b-d\bdi\bir\bre\bec\bct\bto\bor\bri\bie\bes\bs-\b-f\bfi\bir\brs\bst\bt\r\n",
      "              group directories before files;\r\n",
      "\r\n",
      "              can   be  augmented  with  a  -\b--\b-s\bso\bor\brt\bt  option,  but  any  use  of\r\n",
      "              -\b--\b-s\bso\bor\brt\bt=_\bn_\bo_\bn_\be (-\b-U\bU) disables grouping\r\n",
      "\r\n",
      "       -\b-G\bG, -\b--\b-n\bno\bo-\b-g\bgr\bro\bou\bup\bp\r\n",
      "              in a long listing, don't print group names\r\n",
      "\r\n",
      "       -\b-h\bh, -\b--\b-h\bhu\bum\bma\ban\bn-\b-r\bre\bea\bad\bda\bab\bbl\ble\be\r\n",
      "              with -\b-l\bl and/or -\b-s\bs, print human readable sizes (e.g., 1K 234M 2G)\r\n",
      "\r\n",
      "       -\b--\b-s\bsi\bi   likewise, but use powers of 1000 not 1024\r\n",
      "\r\n",
      "       -\b-H\bH, -\b--\b-d\bde\ber\bre\bef\bfe\ber\bre\ben\bnc\bce\be-\b-c\bco\bom\bmm\bma\ban\bnd\bd-\b-l\bli\bin\bne\be\r\n",
      "              follow symbolic links listed on the command line\r\n",
      "\r\n",
      "       -\b--\b-d\bde\ber\bre\bef\bfe\ber\bre\ben\bnc\bce\be-\b-c\bco\bom\bmm\bma\ban\bnd\bd-\b-l\bli\bin\bne\be-\b-s\bsy\bym\bml\bli\bin\bnk\bk-\b-t\bto\bo-\b-d\bdi\bir\br\r\n",
      "              follow each command line symbolic link\r\n",
      "\r\n",
      "              that points to a directory\r\n",
      "\r\n",
      "       -\b--\b-h\bhi\bid\bde\be=_\bP_\bA_\bT_\bT_\bE_\bR_\bN\r\n",
      "              do not list implied entries matching shell  PATTERN  (overridden\r\n",
      "              by -\b-a\ba or -\b-A\bA)\r\n",
      "\r\n",
      "       -\b--\b-i\bin\bnd\bdi\bic\bca\bat\bto\bor\br-\b-s\bst\bty\byl\ble\be=_\bW_\bO_\bR_\bD\r\n",
      "              append indicator with style WORD to entry names: none (default),\r\n",
      "              slash (-\b-p\bp), file-type (-\b--\b-f\bfi\bil\ble\be-\b-t\bty\byp\bpe\be), classify (-\b-F\bF)\r\n",
      "\r\n",
      "       -\b-i\bi, -\b--\b-i\bin\bno\bod\bde\be\r\n",
      "              print the index number of each file\r\n",
      "\r\n",
      "       -\b-I\bI, -\b--\b-i\big\bgn\bno\bor\bre\be=_\bP_\bA_\bT_\bT_\bE_\bR_\bN\r\n",
      "              do not list implied entries matching shell PATTERN\r\n",
      "\r\n",
      "       -\b-k\bk, -\b--\b-k\bki\bib\bbi\bib\bby\byt\bte\bes\bs\r\n",
      "              default to 1024-byte blocks for disk usage\r\n",
      "\r\n",
      "       -\b-l\bl     use a long listing format\r\n",
      "\r\n",
      "       -\b-L\bL, -\b--\b-d\bde\ber\bre\bef\bfe\ber\bre\ben\bnc\bce\be\r\n",
      "              when showing file information for a symbolic link, show informa‐\r\n",
      "              tion  for  the file the link references rather than for the link\r\n",
      "              itself\r\n",
      "\r\n",
      "       -\b-m\bm     fill width with a comma separated list of entries\r\n",
      "\r\n",
      "       -\b-n\bn, -\b--\b-n\bnu\bum\bme\ber\bri\bic\bc-\b-u\bui\bid\bd-\b-g\bgi\bid\bd\r\n",
      "              like -\b-l\bl, but list numeric user and group IDs\r\n",
      "\r\n",
      "       -\b-N\bN, -\b--\b-l\bli\bit\bte\ber\bra\bal\bl\r\n",
      "              print raw entry names (don't treat e.g. control characters  spe‐\r\n",
      "              cially)\r\n",
      "\r\n",
      "       -\b-o\bo     like -\b-l\bl, but do not list group information\r\n",
      "\r\n",
      "       -\b-p\bp, -\b--\b-i\bin\bnd\bdi\bic\bca\bat\bto\bor\br-\b-s\bst\bty\byl\ble\be=_\bs_\bl_\ba_\bs_\bh\r\n",
      "              append / indicator to directories\r\n",
      "\r\n",
      "       -\b-q\bq, -\b--\b-h\bhi\bid\bde\be-\b-c\bco\bon\bnt\btr\bro\bol\bl-\b-c\bch\bha\bar\brs\bs\r\n",
      "              print ? instead of nongraphic characters\r\n",
      "\r\n",
      "       -\b--\b-s\bsh\bho\bow\bw-\b-c\bco\bon\bnt\btr\bro\bol\bl-\b-c\bch\bha\bar\brs\bs\r\n",
      "              show nongraphic characters as-is (the default, unless program is\r\n",
      "              'ls' and output is a terminal)\r\n",
      "\r\n",
      "       -\b-Q\bQ, -\b--\b-q\bqu\buo\bot\bte\be-\b-n\bna\bam\bme\be\r\n",
      "              enclose entry names in double quotes\r\n",
      "\r\n",
      "       -\b--\b-q\bqu\buo\bot\bti\bin\bng\bg-\b-s\bst\bty\byl\ble\be=_\bW_\bO_\bR_\bD\r\n",
      "              use quoting style WORD for entry names: literal, locale,  shell,\r\n",
      "              shell-always, shell-escape, shell-escape-always, c, escape\r\n",
      "\r\n",
      "       -\b-r\br, -\b--\b-r\bre\bev\bve\ber\brs\bse\be\r\n",
      "              reverse order while sorting\r\n",
      "\r\n",
      "       -\b-R\bR, -\b--\b-r\bre\bec\bcu\bur\brs\bsi\biv\bve\be\r\n",
      "              list subdirectories recursively\r\n",
      "\r\n",
      "       -\b-s\bs, -\b--\b-s\bsi\biz\bze\be\r\n",
      "              print the allocated size of each file, in blocks\r\n",
      "\r\n",
      "       -\b-S\bS     sort by file size, largest first\r\n",
      "\r\n",
      "       -\b--\b-s\bso\bor\brt\bt=_\bW_\bO_\bR_\bD\r\n",
      "              sort  by  WORD instead of name: none (-\b-U\bU), size (-\b-S\bS), time (-\b-t\bt),\r\n",
      "              version (-\b-v\bv), extension (-\b-X\bX)\r\n",
      "\r\n",
      "       -\b--\b-t\bti\bim\bme\be=_\bW_\bO_\bR_\bD\r\n",
      "              with -\b-l\bl, show time as WORD instead of default modification time:\r\n",
      "              atime  or  access  or  use  (-\b-u\bu); ctime or status (-\b-c\bc); also use\r\n",
      "              specified time as sort key if -\b--\b-s\bso\bor\brt\bt=_\bt_\bi_\bm_\be (newest first)\r\n",
      "\r\n",
      "       -\b--\b-t\bti\bim\bme\be-\b-s\bst\bty\byl\ble\be=_\bS_\bT_\bY_\bL_\bE\r\n",
      "              with -\b-l\bl, show times using style STYLE: full-iso, long-iso,  iso,\r\n",
      "              locale,  or  +FORMAT;  FORMAT  is interpreted like in 'date'; if\r\n",
      "              FORMAT  is  FORMAT1<newline>FORMAT2,  then  FORMAT1  applies  to\r\n",
      "              non-recent  files  and FORMAT2 to recent files; if STYLE is pre‐\r\n",
      "              fixed with 'posix-', STYLE takes effect only outside  the  POSIX\r\n",
      "              locale\r\n",
      "\r\n",
      "       -\b-t\bt     sort by modification time, newest first\r\n",
      "\r\n",
      "       -\b-T\bT, -\b--\b-t\bta\bab\bbs\bsi\biz\bze\be=_\bC_\bO_\bL_\bS\r\n",
      "              assume tab stops at each COLS instead of 8\r\n",
      "\r\n",
      "       -\b-u\bu     with  -\b-l\blt\bt:  sort by, and show, access time; with -\b-l\bl: show access\r\n",
      "              time and sort by name; otherwise: sort by  access  time,  newest\r\n",
      "              first\r\n",
      "\r\n",
      "       -\b-U\bU     do not sort; list entries in directory order\r\n",
      "\r\n",
      "       -\b-v\bv     natural sort of (version) numbers within text\r\n",
      "\r\n",
      "       -\b-w\bw, -\b--\b-w\bwi\bid\bdt\bth\bh=_\bC_\bO_\bL_\bS\r\n",
      "              set output width to COLS.  0 means no limit\r\n",
      "\r\n",
      "       -\b-x\bx     list entries by lines instead of by columns\r\n",
      "\r\n",
      "       -\b-X\bX     sort alphabetically by entry extension\r\n",
      "\r\n",
      "       -\b-Z\bZ, -\b--\b-c\bco\bon\bnt\bte\bex\bxt\bt\r\n",
      "              print any security context of each file\r\n",
      "\r\n",
      "       -\b-1\b1     list one file per line.  Avoid '\\n' with -\b-q\bq or -\b-b\bb\r\n",
      "\r\n",
      "       -\b--\b-h\bhe\bel\blp\bp display this help and exit\r\n",
      "\r\n",
      "       -\b--\b-v\bve\ber\brs\bsi\bio\bon\bn\r\n",
      "              output version information and exit\r\n",
      "\r\n",
      "       The  SIZE  argument  is  an  integer and optional unit (example: 10K is\r\n",
      "       10*1024).  Units are K,M,G,T,P,E,Z,Y  (powers  of  1024)  or  KB,MB,...\r\n",
      "       (powers of 1000).\r\n",
      "\r\n",
      "       Using  color  to distinguish file types is disabled both by default and\r\n",
      "       with -\b--\b-c\bco\bol\blo\bor\br=_\bn_\be_\bv_\be_\br.  With -\b--\b-c\bco\bol\blo\bor\br=_\ba_\bu_\bt_\bo, ls emits color codes only  when\r\n",
      "       standard  output is connected to a terminal.  The LS_COLORS environment\r\n",
      "       variable can change the settings.  Use the dircolors command to set it.\r\n",
      "\r\n",
      "   E\bEx\bxi\bit\bt s\bst\bta\bat\btu\bus\bs:\b:\r\n",
      "       0      if OK,\r\n",
      "\r\n",
      "       1      if minor problems (e.g., cannot access subdirectory),\r\n",
      "\r\n",
      "       2      if serious trouble (e.g., cannot access command-line argument).\r\n",
      "\r\n",
      "A\bAU\bUT\bTH\bHO\bOR\bR\r\n",
      "       Written by Richard M. Stallman and David MacKenzie.\r\n",
      "\r\n",
      "R\bRE\bEP\bPO\bOR\bRT\bTI\bIN\bNG\bG B\bBU\bUG\bGS\bS\r\n",
      "       GNU coreutils online help: <http://www.gnu.org/software/coreutils/>\r\n",
      "       Report ls translation bugs to <http://translationproject.org/team/>\r\n",
      "\r\n",
      "C\bCO\bOP\bPY\bYR\bRI\bIG\bGH\bHT\bT\r\n",
      "       Copyright © 2016 Free Software Foundation, Inc.   License  GPLv3+:  GNU\r\n",
      "       GPL version 3 or later <http://gnu.org/licenses/gpl.html>.\r\n",
      "       This  is  free  software:  you  are free to change and redistribute it.\r\n",
      "       There is NO WARRANTY, to the extent permitted by law.\r\n",
      "\r\n",
      "S\bSE\bEE\bE A\bAL\bLS\bSO\bO\r\n",
      "       Full documentation at: <http://www.gnu.org/software/coreutils/ls>\r\n",
      "       or available locally via: info '(coreutils) ls invocation'\r\n",
      "\r\n",
      "GNU coreutils 8.25               February 2016                           LS(1)\r\n"
     ]
    }
   ],
   "source": [
    "!man ls"
   ]
  },
  {
   "cell_type": "code",
   "execution_count": 5,
   "metadata": {},
   "outputs": [
    {
     "name": "stdout",
     "output_type": "stream",
     "text": [
      "du: невозможно получить доступ к '/Users/v.fedorenko/Downloads/': Нет такого файла или каталога\r\n"
     ]
    }
   ],
   "source": [
    "!du -s -h /Users/v.fedorenko/Downloads/"
   ]
  },
  {
   "cell_type": "markdown",
   "metadata": {},
   "source": [
    "Поиск по man можно осуществить с помощью команды `apropos`"
   ]
  },
  {
   "cell_type": "code",
   "execution_count": 6,
   "metadata": {},
   "outputs": [
    {
     "name": "stdout",
     "output_type": "stream",
     "text": [
      "cp (1)               - copy files and directories\r\n",
      "cpio (1)             - copy files to and from archives\r\n",
      "File::Copy (3perl)   - Copy files or filehandles\r\n",
      "git-checkout-index (1) - Copy files from the index to the working tree\r\n",
      "gvfs-copy (1)        - Copy files\r\n",
      "gvfs-move (1)        - Copy files\r\n",
      "install (1)          - copy files and set attributes\r\n",
      "ntfscp (8)           - copy file to an NTFS volume.\r\n"
     ]
    }
   ],
   "source": [
    "!apropos \"copy file\""
   ]
  },
  {
   "cell_type": "markdown",
   "metadata": {},
   "source": [
    "Другие полезные команды для работы с файлами и директориями. Для работы с директориями нужно указать флаг `-r`\n",
    "\n",
    "- `cp source_file target_file` \n",
    "- `mv old_path new path` \n",
    "- `rm file_to_remove`\n",
    "\n",
    "Если кто-то советует вам сделать `rm -rf /` - скорее всего, вас разыгрывают</h3>\n",
    "\n",
    "<img src=\"https://ih0.redbubble.net/image.238376101.3327/flat,800x800,075,f.jpg\">"
   ]
  },
  {
   "cell_type": "code",
   "execution_count": 7,
   "metadata": {},
   "outputs": [
    {
     "name": "stdout",
     "output_type": "stream",
     "text": [
      "rm: невозможно удалить 'remove_me_dir': Это каталог\r\n"
     ]
    }
   ],
   "source": [
    "!mkdir remove_me_dir\n",
    "!rm remove_me_dir"
   ]
  },
  {
   "cell_type": "code",
   "execution_count": 8,
   "metadata": {},
   "outputs": [],
   "source": [
    "!rm -r remove_me_dir"
   ]
  },
  {
   "cell_type": "markdown",
   "metadata": {},
   "source": [
    "Сообщение `rm: remove_me_dir: is a directory` печатается в `stderr`, но об этом чуть позже.\n",
    "\n",
    "Создать пустой файл можно командой `touch`. Если файл уже существует - то файл не будет модифицироваться"
   ]
  },
  {
   "cell_type": "code",
   "execution_count": 9,
   "metadata": {},
   "outputs": [],
   "source": [
    "!touch empty_file"
   ]
  },
  {
   "cell_type": "markdown",
   "metadata": {},
   "source": [
    "`echo` - печать аргумента в `stdout`. "
   ]
  },
  {
   "cell_type": "code",
   "execution_count": 10,
   "metadata": {},
   "outputs": [
    {
     "name": "stdout",
     "output_type": "stream",
     "text": [
      "Hello, world\r\n"
     ]
    }
   ],
   "source": [
    "!echo \"Hello, world\""
   ]
  },
  {
   "cell_type": "markdown",
   "metadata": {},
   "source": [
    "Узнать какому исполняему файлу соответствует команда"
   ]
  },
  {
   "cell_type": "code",
   "execution_count": 11,
   "metadata": {},
   "outputs": [
    {
     "name": "stdout",
     "output_type": "stream",
     "text": [
      "/usr/bin/python\r\n"
     ]
    }
   ],
   "source": [
    "!which python"
   ]
  },
  {
   "cell_type": "markdown",
   "metadata": {},
   "source": [
    "### Globing\n",
    "\n",
    "Позволяет создавать маски для имён файлов и директорий\n",
    "\n",
    "1) `*` - любое количество произвольных символов. Пример: `head *.txt`\n",
    "\n",
    "2) `?` - один призвольный символ. Пример: `ls 0?.txt`\n",
    "\n",
    "3) `{aa,ab,cd,ef}` - один символ из указанной группы. Пример: `rm split_{a,b,c,d}.txt`\n",
    "\n",
    "4) `[0-9]` - один символ из указанного диапазона. Пример: `gzip logs-2017-10-2[0-5].txt`"
   ]
  },
  {
   "cell_type": "markdown",
   "metadata": {},
   "source": [
    "PS1 - переменная окружения, отвечающая за \"приветствие\". Её можно <a href=\"https://wiki.archlinux.org/index.php/Bash/Prompt_customization_(%D0%A0%D1%83%D1%81%D1%81%D0%BA%D0%B8%D0%B9)#.D0.9F.D1.80.D0.B5.D1.80.D1.8B.D0.B2.D0.B0.D0.BD.D0.B8.D1.8F_.D0.BF.D1.80.D0.B8.D0.B3.D0.BB.D0.B0.D1.88.D0.B5.D0.BD.D0.B8.D1.8F\">настроить</a>. Например: \n",
    "\n",
    "```\n",
    "    \\t\t\tthe current time in 24-hour HH:MM:SS format\n",
    "\t\\T\t\tthe current time in 12-hour HH:MM:SS format\n",
    "\t\\@\t\tthe current time in 12-hour am/pm format\n",
    "\t\\A\t\tthe current time in 24-hour HH:MM format\n",
    "\t\\u\t\tthe username of the current user\n",
    "\t\\v\t\tthe version of bash (e.g., 2.00)\n",
    "\t\\V\t\tthe release of bash, version + patch level (e.g., 2.00.0)\n",
    "\t\\w\t\tthe current working directory, with $HOME abbreviated with a tilde\n",
    "    \\W        the basename of the current working directory, with $HOME abbreviated with a tilde\n",
    "\t\\!\t\tthe history number of this command\n",
    "\t\\#\t\tthe command number of this command```"
   ]
  },
  {
   "cell_type": "code",
   "execution_count": 12,
   "metadata": {},
   "outputs": [
    {
     "name": "stdout",
     "output_type": "stream",
     "text": [
      "$\r\n"
     ]
    }
   ],
   "source": [
    "!echo $PS1"
   ]
  },
  {
   "cell_type": "markdown",
   "metadata": {},
   "source": [
    "Посмотреть все переменные окружения можно следующей командой"
   ]
  },
  {
   "cell_type": "code",
   "execution_count": 13,
   "metadata": {},
   "outputs": [
    {
     "name": "stdout",
     "output_type": "stream",
     "text": [
      "LESSOPEN=| /usr/bin/lesspipe %s\r\n",
      "GNOME_KEYRING_PID=\r\n",
      "USER=ekaterina\r\n",
      "LANGUAGE=ru\r\n",
      "XDG_SEAT=seat0\r\n",
      "MPLBACKEND=module://ipykernel.pylab.backend_inline\r\n",
      "XDG_SESSION_TYPE=x11\r\n",
      "SESSION=ubuntu\r\n",
      "COMPIZ_CONFIG_PROFILE=ubuntu\r\n",
      "SHLVL=1\r\n",
      "PERL_LOCAL_LIB_ROOT=/home/ekaterina/perl5\r\n",
      "QT4_IM_MODULE=xim\r\n",
      "HOME=/home/ekaterina\r\n",
      "DESKTOP_SESSION=ubuntu\r\n",
      "QT_LINUX_ACCESSIBILITY_ALWAYS_ON=1\r\n",
      "XDG_SEAT_PATH=/org/freedesktop/DisplayManager/Seat0\r\n",
      "GTK_MODULES=gail:atk-bridge:unity-gtk-module\r\n",
      "PAGER=cat\r\n",
      "INSTANCE=\r\n",
      "DBUS_SESSION_BUS_ADDRESS=unix:abstract=/tmp/dbus-e4bBzSuYGC\r\n",
      "GNOME_KEYRING_CONTROL=\r\n",
      "QT_QPA_PLATFORMTHEME=appmenu-qt5\r\n",
      "MANDATORY_PATH=/usr/share/gconf/ubuntu.mandatory.path\r\n",
      "SESSIONTYPE=gnome-session\r\n",
      "IM_CONFIG_PHASE=1\r\n",
      "LOGNAME=ekaterina\r\n",
      "GTK_IM_MODULE=ibus\r\n",
      "WINDOWID=73400330\r\n",
      "_=/home/ekaterina/.local/bin/jupyter\r\n",
      "DEFAULTS_PATH=/usr/share/gconf/ubuntu.default.path\r\n",
      "TERM=xterm-color\r\n",
      "XDG_SESSION_ID=c1\r\n",
      "PERL_MB_OPT=--install_base \"/home/ekaterina/perl5\"\r\n",
      "GNOME_DESKTOP_SESSION_ID=this-is-deprecated\r\n",
      "GTK2_MODULES=overlay-scrollbar\r\n",
      "GTK2_RC_FILES=/home/ekaterina/.gtkrc-2.0\r\n",
      "PATH=/home/ekaterina/.local/bin:/home/ekaterina/perl5/bin:/home/ekaterina/bin:/home/ekaterina/.local/bin:/usr/local/sbin:/usr/local/bin:/usr/sbin:/usr/bin:/sbin:/bin:/usr/games:/usr/local/games:/snap/bin:/home/ekaterina/.local/bin\r\n",
      "SESSION_MANAGER=local/ekaterina-X200MA:@/tmp/.ICE-unix/2195,unix/ekaterina-X200MA:/tmp/.ICE-unix/2195\r\n",
      "GDM_LANG=ru\r\n",
      "XDG_SESSION_PATH=/org/freedesktop/DisplayManager/Session0\r\n",
      "XDG_RUNTIME_DIR=/run/user/1000\r\n",
      "PERL5LIB=/home/ekaterina/perl5/lib/perl5\r\n",
      "XDG_MENU_PREFIX=gnome-\r\n",
      "DISPLAY=:0\r\n",
      "LANG=ru_RU.UTF-8\r\n",
      "XDG_CURRENT_DESKTOP=Unity\r\n",
      "XAUTHORITY=/home/ekaterina/.Xauthority\r\n",
      "XMODIFIERS=@im=ibus\r\n",
      "XDG_SESSION_DESKTOP=ubuntu\r\n",
      "LS_COLORS=rs=0:di=01;34:ln=01;36:mh=00:pi=40;33:so=01;35:do=01;35:bd=40;33;01:cd=40;33;01:or=40;31;01:mi=00:su=37;41:sg=30;43:ca=30;41:tw=30;42:ow=34;42:st=37;44:ex=01;32:*.tar=01;31:*.tgz=01;31:*.arc=01;31:*.arj=01;31:*.taz=01;31:*.lha=01;31:*.lz4=01;31:*.lzh=01;31:*.lzma=01;31:*.tlz=01;31:*.txz=01;31:*.tzo=01;31:*.t7z=01;31:*.zip=01;31:*.z=01;31:*.Z=01;31:*.dz=01;31:*.gz=01;31:*.lrz=01;31:*.lz=01;31:*.lzo=01;31:*.xz=01;31:*.bz2=01;31:*.bz=01;31:*.tbz=01;31:*.tbz2=01;31:*.tz=01;31:*.deb=01;31:*.rpm=01;31:*.jar=01;31:*.war=01;31:*.ear=01;31:*.sar=01;31:*.rar=01;31:*.alz=01;31:*.ace=01;31:*.zoo=01;31:*.cpio=01;31:*.7z=01;31:*.rz=01;31:*.cab=01;31:*.jpg=01;35:*.jpeg=01;35:*.gif=01;35:*.bmp=01;35:*.pbm=01;35:*.pgm=01;35:*.ppm=01;35:*.tga=01;35:*.xbm=01;35:*.xpm=01;35:*.tif=01;35:*.tiff=01;35:*.png=01;35:*.svg=01;35:*.svgz=01;35:*.mng=01;35:*.pcx=01;35:*.mov=01;35:*.mpg=01;35:*.mpeg=01;35:*.m2v=01;35:*.mkv=01;35:*.webm=01;35:*.ogm=01;35:*.mp4=01;35:*.m4v=01;35:*.mp4v=01;35:*.vob=01;35:*.qt=01;35:*.nuv=01;35:*.wmv=01;35:*.asf=01;35:*.rm=01;35:*.rmvb=01;35:*.flc=01;35:*.avi=01;35:*.fli=01;35:*.flv=01;35:*.gl=01;35:*.dl=01;35:*.xcf=01;35:*.xwd=01;35:*.yuv=01;35:*.cgm=01;35:*.emf=01;35:*.ogv=01;35:*.ogx=01;35:*.aac=00;36:*.au=00;36:*.flac=00;36:*.m4a=00;36:*.mid=00;36:*.midi=00;36:*.mka=00;36:*.mp3=00;36:*.mpc=00;36:*.ogg=00;36:*.ra=00;36:*.wav=00;36:*.oga=00;36:*.opus=00;36:*.spx=00;36:*.xspf=00;36:\r\n",
      "XDG_GREETER_DATA_DIR=/var/lib/lightdm-data/ekaterina\r\n",
      "SSH_AUTH_SOCK=/run/user/1000/keyring/ssh\r\n",
      "SHELL=/bin/bash\r\n",
      "QT_ACCESSIBILITY=1\r\n",
      "GDMSESSION=ubuntu\r\n",
      "PERL_MM_OPT=INSTALL_BASE=/home/ekaterina/perl5\r\n",
      "LESSCLOSE=/usr/bin/lesspipe %s %s\r\n",
      "GPG_AGENT_INFO=/home/ekaterina/.gnupg/S.gpg-agent:0:1\r\n",
      "UPSTART_SESSION=unix:abstract=/com/ubuntu/upstart-session/1000/1771\r\n",
      "QT_IM_MODULE=ibus\r\n",
      "XDG_VTNR=7\r\n",
      "GIT_PAGER=cat\r\n",
      "PWD=/media/ekaterina/Data/technosphere/intro_homework\r\n",
      "CLICOLOR=1\r\n",
      "CLUTTER_IM_MODULE=xim\r\n",
      "JPY_PARENT_PID=4966\r\n",
      "XDG_DATA_DIRS=/usr/share/ubuntu:/usr/share/gnome:/usr/local/share/:/usr/share/:/var/lib/snapd/desktop:/home/ekaterina/snap/anbox/common/app-data\r\n",
      "XDG_CONFIG_DIRS=/etc/xdg/xdg-ubuntu:/usr/share/upstart/xdg:/etc/xdg\r\n",
      "VTE_VERSION=4205\r\n",
      "JOB=dbus\r\n"
     ]
    }
   ],
   "source": [
    "!env"
   ]
  },
  {
   "cell_type": "markdown",
   "metadata": {},
   "source": [
    "Установить переменную окружения можно командой `export`. \n",
    "\n",
    "Например: `export JAVA_HOME=/usr/java/bin; echo $JAVA_HOME`\n",
    "\n",
    "Так же, перемннные окружения можно задать в файле `~/.bash_profile`. После того, как вы изменили  `~/.bash_profile` необходимо его активировать `source ~/.bash_profile` или закрыть и заново открыть терминал"
   ]
  },
  {
   "cell_type": "markdown",
   "metadata": {},
   "source": [
    "# Работа с содержимым и pipes"
   ]
  },
  {
   "cell_type": "markdown",
   "metadata": {},
   "source": [
    "#### head & tail\n",
    "Вывести начало или конец файла или потока - `head` и `tail` соответственно. Полезная опция - `-n`, задаёт сколько строк нужно вывести. По умолчанию 10."
   ]
  },
  {
   "cell_type": "code",
   "execution_count": 14,
   "metadata": {},
   "outputs": [
    {
     "name": "stdout",
     "output_type": "stream",
     "text": [
      "head: невозможно открыть '/my/awesome/file.txt' для чтения: Нет такого файла или каталога\r\n"
     ]
    }
   ],
   "source": [
    "!head -3 /my/awesome/file.txt"
   ]
  },
  {
   "cell_type": "code",
   "execution_count": 15,
   "metadata": {},
   "outputs": [
    {
     "name": "stdout",
     "output_type": "stream",
     "text": [
      "tail: невозможно открыть '/my/awesome/file.txt' для чтения: Нет такого файла или каталога\r\n"
     ]
    }
   ],
   "source": [
    "!tail -3 /my/awesome/file.txt"
   ]
  },
  {
   "cell_type": "markdown",
   "metadata": {},
   "source": [
    "#### grep\n",
    "\n",
    "Команда `grep` служит для фильтрации входного потока.  `grep ERROR very_important_log.txt`. Полезные опции:\n",
    "\n",
    "- `-i` - игнорировать регистр\n",
    "- `-v` - инвертированная фильтрация\n",
    "- `-E` - расширенные регулярные выражения\n",
    "- `-A 2` - выводить по две строчки перед совпавшим шаблоном\n",
    "- `-B 4` - выводить по четыре строчки после совпавшего шаблона\n",
    "- `-C 3` - контекст 3 строчки до 3 после\n",
    "- `--color` - помочь глазам и подсветить совпавший шаблон"
   ]
  },
  {
   "cell_type": "markdown",
   "metadata": {},
   "source": [
    "#### awk\n",
    "\n",
    "AWK является отдельным языком программирования, про который можно сделать отдельную лекцию. Пара примеров:\n",
    "\n",
    "`awk -F '\\t' '{print $1}'` - разбить каждую строчку потока по разделителю `-F` и напечатать первое поле\n",
    "\n",
    "`awk -F '\\t' '($3==10)' {print $0}` - разбить каждую строчку потока по разделителю `-F` и напечатать исходные строки, где 3-е поле равно десяти \n",
    "\n",
    "`cat done.* | awk -F '\\t' '{c[$2] += 1} END {d=0; for(key in c){print key, c[key]; d += c[key]}; print \"TOTAL: \",d}'` \n",
    "- Заводим счётчик под каждое уникальное значение второе поле, печатаем значение и счётчик и сумму всех счётчиков"
   ]
  },
  {
   "cell_type": "markdown",
   "metadata": {},
   "source": [
    "#### split\n",
    "\n",
    "Разбивает исходный файл на меньшие файлы с заданными параметрами. Может пригодится при параллельной обработке. Пример:\n",
    "\n",
    "`split -a 4 -l 100 -d my_big_file.txt split_part_` - разобьёт файл my_big_file.txt на файлы по 100 строк, будет использовать 4 символа под суффикс, файлы будут называться split_part_0000, split_part_0001. Опция -d нужна для того, чтобы суффиксы формировались из чисел, по умолчанию буквы латинского алфавита\n",
    "\n",
    "#### tr\n",
    "\n",
    "Утилита нужна для преобразования текста во входном потоке\n",
    "\n",
    "`tr \"[:lower:]\" \"[:upper:]\"` - заменяет все буквы нижнего регистра на соответствующие заглавные буквы \n",
    "\n",
    "`tr \" \" \"\\n\"` - заменяет пробелы на переводы строк\n",
    "\n",
    "#### wc \n",
    "\n",
    "Утилита для подсчтёта символов, слов, строк. Пример: `wc -l my_big_file.txt`\n",
    "\n"
   ]
  },
  {
   "cell_type": "markdown",
   "metadata": {},
   "source": [
    "#### uniq\n",
    "\n",
    "Возвращает уникальные элементы из входного потока. Но не совсем. uniq заменяет группу подряд идущих уникальных значений на единичное значение. Предположим, у нас есть файл `uniq_test_1.txt` с содержимым `1 1 1 1 2 2 2` и `uniq_test_2.txt` c содержимым `1 1 2 2 1 1`.\n",
    "\n",
    "`cat uniq_test_1.txt | tr \" \" \"\\n\" | uniq | tr \"\\n\" \" \" ` выдаст `1 2`\n",
    "\n",
    "`cat uniq_test_2.txt | tr \" \" \"\\n\" | uniq | tr \"\\n\" \" \" ` выдаст `1 2 1`\n",
    "\n",
    "Полезные опции:\n",
    "\n",
    "`-c` - подсчитывает количество каждого элемента\n",
    "`-u` - выводит только уникальные элементы\n",
    "`-d` - выводит только дубликаты\n",
    "\n",
    "#### sort\n",
    "\n",
    "Сортирует входной поток данных. Полезные опции:\n",
    "\n",
    "`-k1,3` - сортировать по ключу, начинающемуся с 1-ого поля и заканчивающемся на 3 поле\n",
    "\n",
    "`-n` - воспринимать ключи числами. По умолчанию, числа будут сортироваться, как строки в лексикографическом порядке\n",
    "\n",
    "`-r` - сортировка в обратном порядке\n",
    "\n",
    "`-h` - сортировать по-человечески. То есть, понимать, что 3K это больше 783, а 4K меньше 3M\n",
    "\n",
    "`-p` - сортировать в p процессов. Данная опция может отсутствовать"
   ]
  },
  {
   "cell_type": "markdown",
   "metadata": {},
   "source": [
    "## Pipes.\n",
    "\n",
    "Потоки данных можно перенаправлять через специальный символ - \"|\" (pipe). Тогда stdout одной команды станет stdin следующей команды. Пример: \n",
    "\n",
    "`cat my_file.txt | head | grep awesome_pattern | awk '{print $NF}' > result.txt`\n",
    "\n",
    "Существуют три потока данных `0 — STDIN, 1 — STDOUT и 2 — STDERR`.  Оператор `>` перенаправляет только stdout.  Пример:\n",
    "\n",
    "`magic_script.sh > /dev/null 2>&1` - stdout скрипта летит в `/dev/null`, stderr - в стандартный вывод\n",
    "\n",
    "#### Useless `cat`\n",
    "\n",
    "<img src=\"https://squarewheelscycling.com/uploads/monthly_2015_08/useless-cat.jpg.e67ee19e399ff56da91d778b461a3e1e.jpg\">\n",
    "\n",
    "Многие команды принимают аргументами, как файл, так и stdin. Например, \n",
    "\n",
    "`head file.txt`\n",
    "\n",
    "`cat file.txt | head`. \n",
    "\n",
    "Второе называют антипаттерном useless cat."
   ]
  },
  {
   "cell_type": "markdown",
   "metadata": {},
   "source": [
    "# Bash"
   ]
  },
  {
   "cell_type": "markdown",
   "metadata": {},
   "source": [
    "`#!/bin/bash`\n",
    "Первая строка скрипта - это shebang, который сообщает системе, как исполнять этот скрипт: http://en.wikipedia.org/wiki/Shebang_(Unix) \n",
    "\n",
    "\n",
    "Простой пример hello world:\n",
    "\n",
    "`echo Hello world!`\n",
    "\n",
    "Отдельные команды начинаются с новой строки или разделяются точкой с запятой:\n",
    "\n",
    "`echo 'Это первая строка'; echo 'Это вторая строка'`\n",
    "\n",
    "Вот так объявляется переменная:\n",
    "\n",
    "`VARIABLE=\"Просто строка\"`\n",
    "\n",
    "\n",
    "VARIABLE = \"Просто строка\"\n",
    "\n",
    "\n",
    "Использование переменой:\n",
    "\n",
    "`echo $VARIABLE`\n",
    "`echo \"$VARIABLE\"`\n",
    "`echo '$VARIABLE'`\n",
    "\n",
    "Когда вы используете переменную - присваиваете, экспортируете и т.д. - пишите её имя без `$`. А для получения значения переменной используйте `$`. Заметьте, что ' (одинарные кавычки) не раскрывают переменные в них.\n",
    "\n",
    "В bash есть полезные встроенные переменные, например\n",
    "\n",
    "`echo \"Последнее возвращенное значение: $?\"`\n",
    "\n",
    "`echo \"PID скрипта: $$\"`\n",
    "\n",
    "`echo \"Количество аргументов: $#\"`\n",
    "\n",
    "`echo \"Аргументы скрипта: $@\"`\n",
    "\n",
    "`echo \"Аргументы скрипта, распределённые по отдельным переменным: $1 $2...\"`\n",
    "\n",
    "Чтение аргументов из устройста ввода:\n",
    "\n",
    "`echo \"Как Вас зовут?\"`\n",
    "\n",
    "`read NAME # Обратите внимание, что нам не нужно определять новую переменную`\n",
    "\n",
    "`echo Привет, $NAME!`\n",
    "\n",
    "У нас есть обычная структура if: наберите 'man test' для получения подробной информации о форматах условия\n",
    "\n",
    "`if [ $NAME -ne $USER ]`\n",
    "\n",
    "`then`\n",
    "\n",
    "`    echo \"Имя не совпадает с именем пользователя\"`\n",
    "\n",
    "`else`\n",
    "\n",
    "echo \"Имя совпадает с именем пользователя\"`\n",
    "\n",
    "`fi`\n",
    "\n",
    "Примечание: если `$Name` пустой, bash интерпретирует код как:\n",
    "\n",
    "\n",
    "`if [ -ne $USER ]`\n",
    "\n",
    "`# а это ошибочная команда`\n",
    "\n",
    "`# поэтому такие переменные нужно использовать так:`\n",
    "\n",
    "`if [ \"$Name\" -ne $USER ] ...`\n",
    "\n",
    "`# когда $Name пустой, bash видит код как:`\n",
    "\n",
    "`if [ \"\" -ne $USER ] ...`\n",
    "\n",
    "`# что работает правильно`\n",
    "\n",
    "\n",
    "Также есть условное исполнение\n",
    "\n",
    "`echo \"Исполнится всегда\" || echo \"Исполнится, если первая команда завершится ошибкой\"`\n",
    "\n",
    "`echo \"Исполнится всегда\" && echo \"Исполнится, если первая команда выполнится удачно\"`\n",
    "\n",
    "Можно использовать && и || в выражениях if, когда нужно несколько пар скобок:\n",
    "\n",
    "`if [ $NAME == \"Steve\" ] && [ $AGE -eq 15 ]`\n",
    "\n",
    "`then`\n",
    "\n",
    "`    echo \"Исполнится, если $NAME равно Steve И $AGE равно 15.\"`\n",
    "\n",
    "`fi`\n",
    "\n",
    "Ещё пример\n",
    "\n",
    "`if [ $NAME == \"Daniya\" ] || [ $NAME == \"Zach\" ]`\n",
    "\n",
    "`then`\n",
    "\n",
    "`echo \"Исполнится, если $NAME равно Daniya ИЛИ Zach.\"`\n",
    "\n",
    "`fi`\n"
   ]
  },
  {
   "cell_type": "markdown",
   "metadata": {},
   "source": [
    "Цикл for перебирает элементы переданные в аргументе:\n",
    "\n",
    "`# Содержимое $VARIABLE будет напечатано три раза.\n",
    "\n",
    "`for VARIABLE in {1..3}`\n",
    "\n",
    "`do`\n",
    "\n",
    "`    echo \"$VARIABLE\"`\n",
    "\n",
    "`done`\n",
    "\n",
    "Или с использованием \"традиционного\" синтаксиса цикла for:\n",
    "\n",
    "`for ((a=1; a <= 3; a++))`\n",
    "`do`\n",
    "`    echo $a`\n",
    "`done`\n",
    "\n",
    "Цикл for можно использовать для действий с файлами. Запустим команду 'cat' для файлов file1 и file2\n",
    "\n",
    "`for VARIABLE in file1 file2`\n",
    "\n",
    "`do`\n",
    "\n",
    "`    cat \"$VARIABLE\"`\n",
    "\n",
    "`done`\n",
    "\n",
    "... или выводом из команд. Запустим cat для вывода из ls.\n",
    "\n",
    "`for OUTPUT in $(ls)`\n",
    "\n",
    "`do`\n",
    "\n",
    "`    cat \"$OUTPUT\"`\n",
    "\n",
    "`done`\n",
    "\n",
    "Цикл while:\n",
    "\n",
    "`while [ true ]`\n",
    "\n",
    "`do`\n",
    "\n",
    "`    echo \"тело цикла здесь...\"`\n",
    "\n",
    "`    break`\n",
    "\n",
    "`done`\n",
    "\n",
    "\n",
    "Вы можете определять функции\n",
    "\n",
    "`function foo ()`\n",
    "`{`\n",
    "`    echo \"Аргументы работают также, как аргументы скрипта: $@\"`\n",
    "`    echo \"и: $1 $2...\"`\n",
    "`    echo \"Это функция\"`\n",
    "`    return 0`\n",
    "`}`\n",
    "\n",
    "\n",
    "или просто\n",
    "\n",
    "`bar ()`\n",
    "`{`\n",
    "`    echo \"Другой способ определить функцию!\"`\n",
    "`    return 0`\n",
    "`}`\n",
    "\n",
    "Вызов функции:\n",
    "\n",
    "`foo \"Мое имя\" $NAME`"
   ]
  },
  {
   "cell_type": "markdown",
   "metadata": {
    "collapsed": true
   },
   "source": [
    "# Other"
   ]
  },
  {
   "cell_type": "markdown",
   "metadata": {},
   "source": [
    "1) Background Mode - `jupter notebook &`\n",
    "\n",
    "2) Просмотр запущенных процессов - `ps aux`\n",
    "\n",
    "3) vim.\n",
    "\n",
    "4) Отправка запросов `curl \"https://en.wikipedia.org/w/api.php?action=query&titles=python&prop=revisions&rvprop=content&format=json\"`\n",
    "\n",
    "5) ps - просмотр запущенных процессов\n",
    "\n",
    "6) top/htop - мониторинг процессов\n",
    "\n",
    "\n",
    "\n",
    "#### Архивирование\n",
    "\n",
    "`zip archive.zip first_file.txt second_file.tsv`\n",
    "\n",
    "`zip -r archive_with_dir.zip ./cool_dir/`\n",
    "\n",
    "`gzip my_file.txt` - удаляет исходный файл, создаёт архив с суффиксом - `my_file.txt.gz`\n",
    "\n",
    "`gunzip my_file.txt.gz`\n",
    "\n",
    "`gunzip -k -c my_file.txt.gz` - `-k` говорит о том, что исходный файл удалять не надо, `-c` - выводит результат в `stdout`. Данный набор опций нужен настолько часто, что ему соответствует утилита `zcat`\n",
    "\n",
    "Аналогичным образом работает `bzip2` и `bunzip2`. Сильнее сжимает, но требует больше процессорного времени"
   ]
  },
  {
   "cell_type": "markdown",
   "metadata": {},
   "source": [
    "#### screen\n",
    "\n",
    "Утилита создаёт \"экран\", который продолжает работать, когда терминал закрыт.\n",
    "\n",
    "`screen -S screenname` - создать экран\n",
    "\n",
    "`screen -ls` - список запущенных скринов\n",
    "\n",
    "`screen -X -S screenname quit` - выйти из скрина\n",
    "\n",
    "Свернуть скрин: cntrl+A, cntrl+D\n",
    "\n",
    "Пролистать скрин: cntrl+A, Esc. Выход из режима пролистывания - Esc.\n",
    "\n",
    "Альтернатива: **tmux**"
   ]
  },
  {
   "cell_type": "markdown",
   "metadata": {},
   "source": [
    "#### scp\n",
    "\n",
    "scp нужна для копирования файлов с/на удалённый хост:\n",
    "\n",
    "`scp \"username@hostname:dir_to_file\" local_path_for_file`\n",
    "\n",
    "`scp local_file \"username@hostname:dir_to_file\"`\n",
    "\n",
    "#### ssh\n",
    "\n",
    "Зайти на удалённый хост: \n",
    "\n",
    "`ssh username@host`\n",
    "\n",
    "`ssh -N -f -L localhost:LOCAL_PORT:localhost:HOST_PORT username@hostname`\n",
    "\n",
    "\n",
    "#### less \n",
    "\n",
    "Просмотр содержимого файла\n",
    "\n",
    "\n",
    "#### xargs \n",
    "\n",
    "\"Разворачивание stdin в набор аргументов\" \n",
    "\n",
    "\n",
    "#### find\n",
    "\n",
    "Трудно поверить, но данная утилита помогает искать файлы. Ознакомьтесь с мануалом данной команды, он может пригодиться при выполнении самостоятельного задания"
   ]
  },
  {
   "cell_type": "code",
   "execution_count": 16,
   "metadata": {},
   "outputs": [
    {
     "name": "stdout",
     "output_type": "stream",
     "text": [
      "/bin/sh: 1: cd: can't cd to another_dit\r\n"
     ]
    }
   ],
   "source": [
    "!mkdir another_dir\n",
    "!cd another_dit\n",
    "!for i in {0..50000}; do touch \"$i.txt\"; done; rm *.txt"
   ]
  },
  {
   "cell_type": "code",
   "execution_count": 17,
   "metadata": {},
   "outputs": [
    {
     "name": "stdout",
     "output_type": "stream",
     "text": [
      "drwxrwxrwx 1 ekaterina ekaterina    4096 ноя  3 01:38 .git\n",
      "-rwxrwxrwx 1 ekaterina ekaterina   35138 окт 23  2016 housingdata.csv\n",
      "-rwxrwxrwx 1 ekaterina ekaterina 2138518 окт 26 22:13 hw1_kuznetsova.ipynb\n",
      "-rwxrwxrwx 1 ekaterina ekaterina  298362 ноя  3 03:30 hw2_kuznetsova.ipynb\n",
      "drwxrwxrwx 1 ekaterina ekaterina    4096 ноя  1 22:56 .ipynb_checkpoints\n",
      "-rwxrwxrwx 1 ekaterina ekaterina  445456 ноя  2 10:01 Lecture 5. Making python faster run 2017-10-17.ipynb\n",
      "-rwxrwxrwx 1 ekaterina ekaterina 2661137 окт 26 22:11 snsdata.csv\n",
      "-rwxrwxrwx 1 ekaterina ekaterina    1269 окт 26 22:13 types.csv\n",
      "-rwxrwxrwx 1 ekaterina ekaterina 2307874 окт 26 22:13 vk_places.csv\n",
      "-rwxrwxrwx 1 ekaterina ekaterina 2585940 окт 26 22:13 vk_places_text.csv\n"
     ]
    }
   ],
   "source": [
    "!ls -la | tail"
   ]
  },
  {
   "cell_type": "code",
   "execution_count": 18,
   "metadata": {},
   "outputs": [
    {
     "name": "stdout",
     "output_type": "stream",
     "text": [
      "rm: пропущен операнд\r\n",
      "По команде «rm --help» можно получить дополнительную информацию.\r\n"
     ]
    }
   ],
   "source": [
    "!find . -name \"*.txt\" | xargs rm "
   ]
  },
  {
   "cell_type": "markdown",
   "metadata": {},
   "source": [
    "<h3><a href=\"https://tproger.ru/news/how-to-exit-damned-vim/\">Из Vim не может выйти уже более миллиона человек: статистика от Stack Overflow (24 мая 2017)</a></h3>\n",
    "\n",
    "Вчера вопрос «Как выйти из редактора Vim?», опубликованный в 2012 году, достиг рекордного количества просмотров: 1 000 000. В честь этого события на Stack Overflow провели исследование и выложили статистику, которая иллюстрирует популярную проблему.\n",
    "\n",
    "<img src=\"https://lh3.googleusercontent.com/-GNcxZZi34HE/V5YcDwlB-aI/AAAAAAAAGF0/XcpCFtLRSgsW_J6DvUGHjWi8Ezj72PMdg/w530-h696-n/f506bdc3-8270-4e2f-9e83-9c36d8450136\">\n",
    "\n",
    "<img src=\"http://teaching.idallen.com/cst8207/15f/notes/data/vim_exit.jpg\">"
   ]
  },
  {
   "cell_type": "markdown",
   "metadata": {},
   "source": [
    "<h3><a href=\"https://tproger.ru/translations/dont-copy-paste-from-internet-to-terminal/\">Не вставляйте в консоль скопированный из Интернета код!</a></h3>"
   ]
  },
  {
   "cell_type": "markdown",
   "metadata": {},
   "source": [
    "# Полезные ссылки\n",
    "\n",
    "<a href=\"https://github.com/jlevy/the-art-of-command-line/blob/master/README-ru.md\">Искусство командной строки</a>\n",
    "\n",
    "<a href=\"http://datascienceatthecommandline.com/\">Data Science at the Command Line<a/>\n",
    "<img src=\"http://datascienceatthecommandline.com/assets/img/data-science-at-the-command-line.png\">"
   ]
  },
  {
   "cell_type": "markdown",
   "metadata": {},
   "source": [
    "# Самостоятельная работа\n",
    "\n",
    "1) У вас есть файлы лога с полями timestamp, IP, method (GET/POST). Поля разделены табуляциями `'\\t'`. Имена файлов - `logs_%Y-%m-%d__%h.tsv`. \n",
    "\n",
    "```$ ls /logs/\n",
    "...\n",
    "logs_2017-10-31-08.tsv\n",
    "logs_2017-10-31-09.tsv\n",
    "logs_2017-10-31-10.tsv\n",
    "logs_2017-10-31-11.tsv\n",
    "logs_2017-10-31-12.tsv\n",
    "...```\n",
    "\n",
    "Ваша задача - вывести топ-10 самых частых IP, которые выполняли метод GET с 10 до 17 часов 2017-10-31"
   ]
  },
  {
   "cell_type": "code",
   "execution_count": 19,
   "metadata": {},
   "outputs": [
    {
     "name": "stdout",
     "output_type": "stream",
     "text": [
      "2017-11-07\r\n"
     ]
    }
   ],
   "source": [
    "!date +%Y-%m-%d"
   ]
  },
  {
   "cell_type": "code",
   "execution_count": null,
   "metadata": {},
   "outputs": [],
   "source": [
    "awk '$1 == \"findtext\" {print $3}'"
   ]
  },
  {
   "cell_type": "code",
   "execution_count": 57,
   "metadata": {},
   "outputs": [
    {
     "name": "stdout",
     "output_type": "stream",
     "text": [
      "2\r\n",
      "3\r\n"
     ]
    }
   ],
   "source": [
    "!cat data1.dat | awk '$2 <= 3 {print $0}' | cut -f 2"
   ]
  },
  {
   "cell_type": "code",
   "execution_count": 52,
   "metadata": {},
   "outputs": [
    {
     "name": "stdout",
     "output_type": "stream",
     "text": [
      "cat: ошибка записи: Обрыв канала\r\n"
     ]
    }
   ],
   "source": [
    "!cat data1.dat | awk -F '\\t'"
   ]
  },
  {
   "cell_type": "code",
   "execution_count": 46,
   "metadata": {},
   "outputs": [
    {
     "name": "stdout",
     "output_type": "stream",
     "text": [
      "    128 5.35.137.141\r\n",
      "    123 222.79.101.35\r\n",
      "    122 215.24.14.7\r\n",
      "    120 78.34.210.40\r\n",
      "    118 82.138.157.130\r\n",
      "    118 7.65.229.109\r\n",
      "    118 64.229.244.221\r\n",
      "    118 23.224.246.210\r\n",
      "    118 173.4.188.7\r\n",
      "    118 119.244.63.110\r\n",
      "sort: запись завершилась неудачно: 'стандартный вывод': Обрыв канала\r\n",
      "sort: ошибка записи\r\n"
     ]
    }
   ],
   "source": [
    "!cat logs*.txt | cut -f 2 | sort | uniq -c | sort -nr | head -10"
   ]
  },
  {
   "cell_type": "markdown",
   "metadata": {},
   "source": [
    "2) Найти список всех файлов с расширением `tsv`, размер которых превышает 10 мб и запустить архивацию в фоновом режиме"
   ]
  },
  {
   "cell_type": "markdown",
   "metadata": {},
   "source": [
    "3) В директории /data_for_cool_science/ лежат файлы следующуего формата: целевой класс, табуляция, список английский слов через запятую. Ваша задача, найти уникальные слова для класса `bad`, которые содержатся в трёх самых больших файлах. Помните, DOG и dog - одно и то же слово"
   ]
  },
  {
   "cell_type": "code",
   "execution_count": null,
   "metadata": {},
   "outputs": [],
   "source": []
  }
 ],
 "metadata": {
  "kernelspec": {
   "display_name": "Python 2",
   "language": "python",
   "name": "python2"
  },
  "language_info": {
   "codemirror_mode": {
    "name": "ipython",
    "version": 2
   },
   "file_extension": ".py",
   "mimetype": "text/x-python",
   "name": "python",
   "nbconvert_exporter": "python",
   "pygments_lexer": "ipython2",
   "version": "2.7.12"
  }
 },
 "nbformat": 4,
 "nbformat_minor": 2
}
