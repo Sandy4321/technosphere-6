{
 "cells": [
  {
   "cell_type": "markdown",
   "metadata": {},
   "source": [
    "# Алгоритмы интеллектуальной обработки больших объемов данных\n",
    "## Домашнее задание №2 - Алгоритмы кластеризации\n"
   ]
  },
  {
   "cell_type": "markdown",
   "metadata": {},
   "source": [
    "###### <hr\\>\n",
    "**Общая информация**\n",
    "\n",
    "**Срок сдачи:** 23 октября 2017, 06:00 <br\\>\n",
    "**Штраф за опоздание:** -2 балла после 06:00 23 октября, -4 балла после 06:00 30 октября, -6 баллов после 06:00 6 ноября\n",
    "\n",
    "При отправлении ДЗ указывайте фамилию в названии файла\n",
    "Присылать ДЗ необходимо в виде ссылки на свой github репозиторий в slack @alkhamush Необходимо в slack создать таск в приватный чат:\n",
    "/todo Фамилия Имя ссылка на гитхаб @alkhamush\n",
    "Пример:\n",
    "/todo Ксения Стройкова https://github.com/stroykova/spheremailru/stroykova_hw1.ipynb @alkhamush\n",
    "\n",
    "Используйте данный Ipython Notebook при оформлении домашнего задания.\n",
    "<hr\\>"
   ]
  },
  {
   "cell_type": "markdown",
   "metadata": {},
   "source": [
    "###### Задание 1 (4 балла)\n",
    "Реализовать алгоритм кластеризации, который относится к вашему варианту. Проверить работоспособность алгоритма на \"Iris\". Сравните свой алгоритм кластеризации с алгоритмом из scikit-learn по времени выполнения, использую timeit. Ваша реализация не должна работать сильно дольше, а в идеале должна быть даже немного быстрее.\n",
    "\n",
    "###### Задание 2 (2 балла)\n",
    "Выбрать, имплементировать и использовать критерий качества\n",
    "\n",
    "###### Задание 3 (3балла)\n",
    "Применить алгоритм кластеризации к данным по странам.   \n",
    "Подход следующий: фиксируем год, для каждой страны берём индикаторы по зафиксированному году, кластеризуем по индикаторам.   \n",
    "Разбиение должно быть объяснимым, в противном случае, скорее всего нужно лучше настроить параметры кластеризации.   \n",
    "Данные нужно скачать тут https://data.worldbank.org/data-catalog/world-development-indicators.   \n",
    "Также необходимо показать, какие страны попали в общий кластер.\n",
    "изуализировать результат с помощью T-SNE. Внимание! На полном объеме данных данный алгоритм может работать существенное время.\n",
    "\n",
    "###### Задание 4 (1 балл)\n",
    "Опишите в выводе почему и какие страны попали в общий кластер."
   ]
  },
  {
   "cell_type": "markdown",
   "metadata": {},
   "source": [
    "Основная задача этого задания - реализация одного из алгоритмов кластеризации. Кроме того, мы научимся подбирать параметры алгоритма, визуализируем результат кластеризации и попытаемся проанализировать природу полученных кластеров."
   ]
  },
  {
   "cell_type": "code",
   "execution_count": 3,
   "metadata": {},
   "outputs": [
    {
     "name": "stdout",
     "output_type": "stream",
     "text": [
      "Populating the interactive namespace from numpy and matplotlib\n"
     ]
    }
   ],
   "source": [
    "import pandas as pd\n",
    "import pylab as pl\n",
    "import numpy as np\n",
    "import scipy.spatial as ss\n",
    "import sklearn.cluster as sc\n",
    "import sklearn.manifold as sm\n",
    "import sklearn.datasets as ds\n",
    "import sklearn.metrics as smt\n",
    "\n",
    "import matplotlib.pyplot as plt\n",
    "#import mpl_toolkits.basemap as bm\n",
    "\n",
    "%matplotlib inline\n",
    "\n",
    "plt.style.use('ggplot')\n",
    "plt.rcParams['figure.figsize'] = (12,5)\n",
    "\n",
    "# Plotting config\n",
    "%pylab inline"
   ]
  },
  {
   "cell_type": "markdown",
   "metadata": {},
   "source": [
    "## Реализация алгоритма"
   ]
  },
  {
   "cell_type": "markdown",
   "metadata": {},
   "source": [
    "Алгоритм кластеризации, который необходимо реализовать, выбирается на основании Вашего порядкового номера в списке группы."
   ]
  },
  {
   "cell_type": "markdown",
   "metadata": {},
   "source": [
    "1. Авилова Екатерина\n",
    "2. Адаменко Павел\n",
    "3. Акиньщиков Алексей\n",
    "4. Афанасьева Анастасия\n",
    "5. Балес Александр\n",
    "6. Беляев Владимир\n",
    "7. Беспалова Анастасия\n",
    "8. Богомолов Эмиль\n",
    "9. Боднарюк Василий\n",
    "10. Бучкин Александр\n",
    "11. Валинуров Денис\n",
    "12. Волков Глеб\n",
    "13. Голенков Кирилл\n",
    "14. Горбушин Михаил\n",
    "15. Димов Илья\n",
    "16. Докшина Елизавета\n",
    "17. Дорожинский Владислав\n",
    "18. Жирнов Михаил\n",
    "19. Жолковский Евгений\n",
    "20. Зайдель Петр\n",
    "21. Зимнюков Максим\n",
    "22. Иванов Илья\n",
    "23. Кашипов Артем\n",
    "24. Комов Евгений\n",
    "25. Кошман Дима\n",
    "26. Кузнецова Екатерина\n",
    "27. Кулагин Алексей\n",
    "28. Лавреновъ Виталiй\n",
    "29. Лебедь Федор\n",
    "30. Лешков Михаил\n",
    "31. Лозинский Иван\n",
    "32. Лоскутов Антон\n",
    "33. Лютов Владимир\n",
    "34. Мажаров Иван\n",
    "35. Манкевич Павел\n",
    "36. Муравьев Никита\n",
    "37. Находнов Максим\n",
    "38. Оплачко Николай\n",
    "39. Павлов Евгений\n",
    "40. Петряйкин Федор\n",
    "41. Рахматуллин Фарид\n",
    "42. Секретарев Тихон\n",
    "43. Сенюшкин Дмитрий\n",
    "44. Серов Николай\n",
    "45. Смирнов Александр\n",
    "46. Соловьев Павел\n",
    "47. Сомов Иван\n",
    "48. Спиркин Роман\n",
    "49. Терёшина Мария\n",
    "50. Торбунова Екатерина\n",
    "51. Тюгаев Антон\n",
    "52. Фельдман Борис\n",
    "53. Филин Максим\n",
    "54. Фролов Михаил\n",
    "55. Хохлов Олег\n",
    "56. Черемнов Андрей\n",
    "57. Шевцов Антон\n",
    "58. Шурыгин Александр"
   ]
  },
  {
   "cell_type": "code",
   "execution_count": 4,
   "metadata": {},
   "outputs": [],
   "source": [
    "N = 26 # put your index here"
   ]
  },
  {
   "cell_type": "code",
   "execution_count": 5,
   "metadata": {},
   "outputs": [
    {
     "name": "stdout",
     "output_type": "stream",
     "text": [
      "Реализуем алгоритм кластеризации 'DBSCAN. (параметры - epsilon, min_pts)'\n"
     ]
    }
   ],
   "source": [
    "algorithms = [\n",
    "    u\"Gaussian Mixture Model с использованием maximum a-posteriori для выбора кластера (параметр - k)\",\n",
    "    u\"Hierarchical clustering с поддержкой single-linkage, complete-linkage, average-linkage (параметры - k, linkage)\",\n",
    "    u\"DBSCAN. (параметры - epsilon, min_pts)\"\n",
    "]\n",
    "\n",
    "my_algorithm = algorithms[N % len(algorithms)]\n",
    "print u\"Реализуем алгоритм кластеризации '%s'\" % my_algorithm"
   ]
  },
  {
   "cell_type": "markdown",
   "metadata": {},
   "source": [
    "Алгоритм кластеризации должен удовлетворять следующему интерфейсу. Конструктор принимает набор параметров, необходимых для работы алгоритма кластеризации. Метод `fit` подсчитывает параметры модели и возвращает `self`. Метод `predict` возвращает вектор с индексами кластеров для поданных в него объектов `x`"
   ]
  },
  {
   "cell_type": "markdown",
   "metadata": {},
   "source": [
    "## Задание 1"
   ]
  },
  {
   "cell_type": "code",
   "execution_count": 6,
   "metadata": {},
   "outputs": [],
   "source": [
    "## Задание 1\n",
    "from sklearn.base import BaseEstimator, ClusterMixin\n",
    "\n",
    "class Clustering(BaseEstimator, ClusterMixin):\n",
    "    \"\"\"\n",
    "    Implement clustering algorithm according \n",
    "    \"\"\"\n",
    "    \n",
    "    def __init__(self, **kwargs):\n",
    "             \n",
    "        self.min_pts = kwargs.get('min_pts', 5)\n",
    "        self.epsilon = kwargs.get('epsilon', 0.5)\n",
    "        self.metric = kwargs.get('metric', 'euclidean')\n",
    "        #metric_params\n",
    "        \n",
    "        \n",
    "    def density_connected(self, point, cluster):\n",
    "        \n",
    "        for y in np.array(self.neighbors[point]):\n",
    "            if self.labels.item(y) != -1:\n",
    "                continue\n",
    "            else:\n",
    "                self.labels[y] = cluster\n",
    "                if y in self.core_points:\n",
    "                    self.density_connected(y,cluster)\n",
    "            \n",
    "    def fit(self, x, y=None):\n",
    "        \"\"\"\n",
    "        Use data matrix x to compute model parameters\n",
    "        \"\"\"\n",
    "        self.x_len = len(x)\n",
    "        #working with indices in x as points\n",
    "        \n",
    "        self.labels = -np.ones(x.shape[0], dtype=int)\n",
    "        self.core_points = np.empty(x.shape[0], dtype=int)\n",
    "        self.neighbors = np.empty(x.shape[0], dtype='object')\n",
    "        \n",
    "        distances = ss.distance.cdist(x, x, self.metric)\n",
    "        neighbors_list = [np.where(dist <= self.epsilon)[0] for dist in distances]\n",
    "        self.neighbors[:] = neighbors_list\n",
    "        self.neighbors = np.array(neighbors_list)\n",
    "        neighbors_number = np.array([len(i) for i in self.neighbors])\n",
    "        self.core_points = np.where(neighbors_number >= self.min_pts)[0]\n",
    "       \n",
    "        cluster = 0\n",
    "       \n",
    "        for point in self.core_points: #those without cluster\n",
    "            if self.labels[point] != -1:\n",
    "                continue\n",
    "            else: \n",
    "                \n",
    "                self.labels[point] = cluster\n",
    "                self.density_connected(point, cluster)\n",
    "            cluster+=1\n",
    "       \n",
    "                \n",
    "        return self\n",
    "    \n",
    "    def predict(self, x):\n",
    "        \"\"\"\n",
    "        Using computed model parameters predict cluster\n",
    "        for all objects from x\n",
    "        \"\"\"\n",
    "        return self.labels #[random.randint(0,5) for r in xrange(self.x_len)]\n",
    "    \n",
    "    def fit_predict(self, x, y=None):\n",
    "        self.fit(x, y)\n",
    "        return self.predict(x)"
   ]
  },
  {
   "cell_type": "markdown",
   "metadata": {},
   "source": [
    "Сначала проверим реализованный алгоритм кластеризации на классическом наборе данных [Iris](http://www.wikiwand.com/en/Iris_flower_data_set). Загрузим данные (они включены в библиотеку sklearn) и посмотрим на то, как они выглядят в двух проекциях (для простоты используем 2 класса из 3)."
   ]
  },
  {
   "cell_type": "code",
   "execution_count": 7,
   "metadata": {},
   "outputs": [
    {
     "data": {
      "image/png": "[encoded data removed]",
      "text/plain": [
       "<matplotlib.figure.Figure at 0x7fc90d2a08d0>"
      ]
     },
     "metadata": {},
     "output_type": "display_data"
    }
   ],
   "source": [
    "iris = ds.load_iris()\n",
    "x_iris = iris.data[:100]\n",
    "y_iris = iris.target[:100]\n",
    "\n",
    "pl.figure(figsize=(10, 5))\n",
    "\n",
    "pl.subplot(1, 2, 1)\n",
    "pl.scatter(x_iris[:, 0], x_iris[:, 1], c=y_iris, cmap=pl.cm.PuOr, lw=0, s=30)\n",
    "plt.xlabel('Sepal length')\n",
    "plt.ylabel('Sepal width')\n",
    "\n",
    "pl.subplot(1, 2, 2)\n",
    "pl.scatter(x_iris[:, 2], x_iris[:, 3], c=y_iris, cmap=pl.cm.PuOr, lw=0, s=30)\n",
    "plt.xlabel('Petal length')\n",
    "plt.ylabel('Petal width')\n",
    "pl.show()"
   ]
  },
  {
   "cell_type": "markdown",
   "metadata": {},
   "source": [
    "Видно, что классы разделяются, поэтому можно надеяться, что наш алгоритм \"найдет\" кластеры, соответствующие исходным классам. Результат работы реализованного алгоритма кластеризации предлагается сравнить с эталонной кластеризацией. Для этого предлагается изучить метрику ([adjusted rand score](http://scikit-learn.org/stable/modules/generated/sklearn.metrics.adjusted_rand_score.html)). В случае если значение этой метрики отличается от 1, предлагается поработать над улучшением реализации своего алгоритма."
   ]
  },
  {
   "cell_type": "code",
   "execution_count": 8,
   "metadata": {},
   "outputs": [
    {
     "data": {
      "text/plain": [
       "0.2030348777770996"
      ]
     },
     "execution_count": 8,
     "metadata": {},
     "output_type": "execute_result"
    }
   ],
   "source": [
    "from timeit import timeit\n",
    "executions = 1\n",
    "model_sk = sc.DBSCAN(metric = 'euclidean')\n",
    "t_sk = timeit('model_sk.fit_predict(x_iris)', \"from __main__ import model_sk, x_iris\", number=executions)\n",
    "t_sk"
   ]
  },
  {
   "cell_type": "code",
   "execution_count": 9,
   "metadata": {},
   "outputs": [
    {
     "data": {
      "text/plain": [
       "0.0493011474609375"
      ]
     },
     "execution_count": 9,
     "metadata": {},
     "output_type": "execute_result"
    }
   ],
   "source": [
    "model = Clustering()\n",
    "t = timeit('model.fit_predict(x_iris)', \"from __main__ import model, x_iris\", number=executions)\n",
    "t"
   ]
  },
  {
   "cell_type": "code",
   "execution_count": 10,
   "metadata": {},
   "outputs": [
    {
     "name": "stdout",
     "output_type": "stream",
     "text": [
      "Adjusted Rand index for iris is: 1.00\n"
     ]
    }
   ],
   "source": [
    "pred_iris = sc.DBSCAN(metric='euclidean', min_samples=5, eps=0.7).fit_predict(x_iris)\n",
    "print \"Adjusted Rand index for iris is: %.2f\" % smt.adjusted_rand_score(y_iris, pred_iris)"
   ]
  },
  {
   "cell_type": "code",
   "execution_count": 11,
   "metadata": {},
   "outputs": [
    {
     "name": "stdout",
     "output_type": "stream",
     "text": [
      "Adjusted Rand index for iris is: 1.00\n"
     ]
    }
   ],
   "source": [
    "pred_iris = Clustering(min_pts = 5, epsilon = 0.7).fit_predict(x_iris)\n",
    "print \"Adjusted Rand index for iris is: %.2f\" % smt.adjusted_rand_score(y_iris, pred_iris)"
   ]
  },
  {
   "cell_type": "code",
   "execution_count": 12,
   "metadata": {},
   "outputs": [
    {
     "data": {
      "image/png": "[encoded data removed]",
      "text/plain": [
       "<matplotlib.figure.Figure at 0x7fc8f71652d0>"
      ]
     },
     "metadata": {},
     "output_type": "display_data"
    }
   ],
   "source": [
    "iris = ds.load_iris()\n",
    "x_iris = iris.data[:100]\n",
    "y_iris = iris.target[:100]\n",
    "\n",
    "pl.figure(figsize=(10, 5))\n",
    "\n",
    "pl.subplot(1, 2, 1)\n",
    "pl.scatter(x_iris[:, 0], x_iris[:, 1], c=pred_iris, cmap=pl.cm.PuOr, lw=0, s=30)\n",
    "plt.xlabel('Sepal length')\n",
    "plt.ylabel('Sepal width')\n",
    "\n",
    "pl.subplot(1, 2, 2)\n",
    "pl.scatter(x_iris[:, 2], x_iris[:, 3], c=pred_iris, cmap=pl.cm.PuOr, lw=0, s=30)\n",
    "plt.xlabel('Petal length')\n",
    "plt.ylabel('Petal width')\n",
    "pl.show()"
   ]
  },
  {
   "cell_type": "markdown",
   "metadata": {},
   "source": [
    "Выбрать и реализовать критерий качества, на основании которого будут подбираться параметры модели. Варианты критериев:\n",
    "- Инерция (сумма квадратов расстояний от каждой из точек до ближайшего к этой точке центроида)\n",
    "- Средний диаметр (максимальное расстояние между точками в кластере) или радиус (расстояние от центроида до самой дальней от него точки в кластере)\n",
    "- Sihouette\n",
    "\n",
    "**Критерий качества необходимо выбрать таким образом, чтобы он подходил для реализованного алгоритма**"
   ]
  },
  {
   "cell_type": "markdown",
   "metadata": {},
   "source": [
    "## Задание 2\n",
    "Silhouette не использует центроиды, а проверяет расстояния между точками внутри кластера и вразных кластерах, \n",
    "что соответствует идее плотности, лежащей в основе dbscan (точки одного кластера располагаются скученно)"
   ]
  },
  {
   "cell_type": "code",
   "execution_count": 13,
   "metadata": {},
   "outputs": [],
   "source": [
    "## Задание 2\n",
    "#silhouette\n",
    "def quality(x, y, show_error = 0):\n",
    "    \"\"\"\n",
    "    Implement quality criterion of your choice\n",
    "    \"\"\"\n",
    "    cluster_labels = np.unique(y)\n",
    "    if len(cluster_labels) < 2:\n",
    "        if (show_error):\n",
    "            print (\"Silhouette works with more than 2 labels\")\n",
    "        return\n",
    "    clusters = []\n",
    "    in_cluster_distances = np.zeros(len(y))\n",
    "    nearest_cluster_distances = np.inf + np.zeros(len(y))\n",
    "    clusters = [np.where(y== i)[0] for i in cluster_labels]\n",
    "    distances = ss.distance.cdist(x, x, 'euclidean')\n",
    "\n",
    "    for sample in range(len(x)):\n",
    "        other_elements_number = len(clusters[y[sample]]) - 1\n",
    "        if other_elements_number != 0:\n",
    "            in_cluster_distances[sample] = np.sum(distances[sample, clusters[y[sample]]]) / other_elements_number\n",
    "        for label in range(len(cluster_labels)):\n",
    "            if label != y[sample]:\n",
    "                other_label_distance = np.mean(distances[sample, clusters[label]])\n",
    "                nearest_cluster_distances[sample] = np.minimum(\n",
    "                        nearest_cluster_distances[sample], other_label_distance)\n",
    "                \n",
    "    silhouettes =  nearest_cluster_distances - in_cluster_distances\n",
    "    silhouettes /= np.maximum(nearest_cluster_distances, in_cluster_distances) \n",
    "    \n",
    "    return np.mean(silhouettes)"
   ]
  },
  {
   "cell_type": "code",
   "execution_count": 14,
   "metadata": {},
   "outputs": [
    {
     "data": {
      "text/plain": [
       "0.7369368160680051"
      ]
     },
     "execution_count": 14,
     "metadata": {},
     "output_type": "execute_result"
    }
   ],
   "source": [
    "quality (x_iris, pred_iris)"
   ]
  },
  {
   "cell_type": "code",
   "execution_count": 15,
   "metadata": {},
   "outputs": [
    {
     "data": {
      "text/plain": [
       "0.73693681602317374"
      ]
     },
     "execution_count": 15,
     "metadata": {},
     "output_type": "execute_result"
    }
   ],
   "source": [
    "smt.silhouette_score(x_iris, pred_iris)"
   ]
  },
  {
   "cell_type": "markdown",
   "metadata": {},
   "source": [
    "Применим критерий для выбора параметров алгоритма. Предлагается изменить следующий код таким образом, чтобы кластеризация вызывалась с верным набором параметров. На графике можно будет увидеть зависимость критерия от параметров алгоритма. Необходимо выбрать оптимальные значения этих параметров."
   ]
  },
  {
   "cell_type": "code",
   "execution_count": 16,
   "metadata": {},
   "outputs": [
    {
     "data": {
      "image/png": "[encoded data removed]",
      "text/plain": [
       "<matplotlib.figure.Figure at 0x7fc930f6a150>"
      ]
     },
     "metadata": {},
     "output_type": "display_data"
    }
   ],
   "source": [
    "from numpy import exp,arange\n",
    "from pylab import meshgrid,cm,imshow,contour,clabel,colorbar,axis,title,show\n",
    "\n",
    "# the function that I'm going to plot\n",
    "def z_func(min_pts, epsilon):\n",
    "    cls = Clustering(min_pts = min_pts, epsilon = epsilon)\n",
    "    y = cls.fit_predict(x_iris)\n",
    "    silhouette = quality(x_iris,y)\n",
    "    if (silhouette != silhouette):\n",
    "        return 0\n",
    "    return silhouette\n",
    "\n",
    " \n",
    "x_values = arange(2, 9, 1)\n",
    "y_values = arange(0.1,0.9,0.1)\n",
    "\n",
    "#Z = z_func(X, Y) # evaluation of the function on the grid\n",
    "#print len (x_values)\n",
    "#print len(y_values)\n",
    "Z = np.zeros((len(y_values), len(x_values)))\n",
    "for x in range(len(x_values)):\n",
    "    for y in range(len(y_values)):\n",
    "        #print x\n",
    "        Z[y, x] = z_func(x_values[x], y_values[y])\n",
    "\n",
    "im = imshow(Z,cmap=cm.RdBu) # drawing the function\n",
    "# adding the Contour lines with labels\n",
    "cset = contour(Z,arange(-1,1.5,0.2),linewidths=2,cmap=cm.Set2)\n",
    "clabel(cset,inline=True,fmt='%1.1f',fontsize=10)\n",
    "colorbar(im) # adding the colobar on the right\n",
    "# latex fashion title\n",
    "title('silhouette for dbscan (vertical: epsilon from 0.1 to 0.8 ; horizontal: min_pts from 2 to 8)')\n",
    "show()"
   ]
  },
  {
   "cell_type": "code",
   "execution_count": 17,
   "metadata": {},
   "outputs": [
    {
     "name": "stdout",
     "output_type": "stream",
     "text": [
      "Adjusted Rand index for iris is: 1.00\n",
      "Silhouette score (custom) for iris is: 0.74\n",
      "Silhouette score (library) for iris is: 0.74\n"
     ]
    }
   ],
   "source": [
    "pred_iris = Clustering(min_pts = 5, epsilon = 0.8).fit_predict(x_iris)\n",
    "print \"Adjusted Rand index for iris is: %.2f\" % smt.adjusted_rand_score(y_iris, pred_iris)\n",
    "print \"Silhouette score (custom) for iris is: %.2f\" % quality(x_iris, pred_iris)\n",
    "print \"Silhouette score (library) for iris is: %.2f\" % smt.silhouette_score(x_iris, pred_iris)"
   ]
  },
  {
   "cell_type": "raw",
   "metadata": {},
   "source": [
    "(Самая темная область соответствует большим значениям epsilon и маленьким (чем больше epsilon, тем возможно большим) значениям min_pts; на них достигается наилучший silhouette_score 0.74, например, на паре min_pts=5 и epsilon = 0.8)."
   ]
  },
  {
   "cell_type": "markdown",
   "metadata": {},
   "source": [
    "# Задание 3"
   ]
  },
  {
   "cell_type": "code",
   "execution_count": 18,
   "metadata": {},
   "outputs": [
    {
     "ename": "IOError",
     "evalue": "File WDIData.csv does not exist",
     "output_type": "error",
     "traceback": [
      "\u001b[0;31m---------------------------------------------------------------------------\u001b[0m",
      "\u001b[0;31mIOError\u001b[0m                                   Traceback (most recent call last)",
      "\u001b[0;32m<ipython-input-18-ae13136d2c3d>\u001b[0m in \u001b[0;36m<module>\u001b[0;34m()\u001b[0m\n\u001b[0;32m----> 1\u001b[0;31m \u001b[0mdata\u001b[0m \u001b[0;34m=\u001b[0m \u001b[0mpd\u001b[0m\u001b[0;34m.\u001b[0m\u001b[0mread_csv\u001b[0m\u001b[0;34m(\u001b[0m\u001b[0;34m'WDIData.csv'\u001b[0m\u001b[0;34m)\u001b[0m\u001b[0;34m\u001b[0m\u001b[0m\n\u001b[0m",
      "\u001b[0;32m/home/ekaterina/.local/lib/python2.7/site-packages/pandas/io/parsers.pyc\u001b[0m in \u001b[0;36mparser_f\u001b[0;34m(filepath_or_buffer, sep, delimiter, header, names, index_col, usecols, squeeze, prefix, mangle_dupe_cols, dtype, engine, converters, true_values, false_values, skipinitialspace, skiprows, nrows, na_values, keep_default_na, na_filter, verbose, skip_blank_lines, parse_dates, infer_datetime_format, keep_date_col, date_parser, dayfirst, iterator, chunksize, compression, thousands, decimal, lineterminator, quotechar, quoting, escapechar, comment, encoding, dialect, tupleize_cols, error_bad_lines, warn_bad_lines, skipfooter, skip_footer, doublequote, delim_whitespace, as_recarray, compact_ints, use_unsigned, low_memory, buffer_lines, memory_map, float_precision)\u001b[0m\n\u001b[1;32m    703\u001b[0m                     skip_blank_lines=skip_blank_lines)\n\u001b[1;32m    704\u001b[0m \u001b[0;34m\u001b[0m\u001b[0m\n\u001b[0;32m--> 705\u001b[0;31m         \u001b[0;32mreturn\u001b[0m \u001b[0m_read\u001b[0m\u001b[0;34m(\u001b[0m\u001b[0mfilepath_or_buffer\u001b[0m\u001b[0;34m,\u001b[0m \u001b[0mkwds\u001b[0m\u001b[0;34m)\u001b[0m\u001b[0;34m\u001b[0m\u001b[0m\n\u001b[0m\u001b[1;32m    706\u001b[0m \u001b[0;34m\u001b[0m\u001b[0m\n\u001b[1;32m    707\u001b[0m     \u001b[0mparser_f\u001b[0m\u001b[0;34m.\u001b[0m\u001b[0m__name__\u001b[0m \u001b[0;34m=\u001b[0m \u001b[0mname\u001b[0m\u001b[0;34m\u001b[0m\u001b[0m\n",
      "\u001b[0;32m/home/ekaterina/.local/lib/python2.7/site-packages/pandas/io/parsers.pyc\u001b[0m in \u001b[0;36m_read\u001b[0;34m(filepath_or_buffer, kwds)\u001b[0m\n\u001b[1;32m    443\u001b[0m \u001b[0;34m\u001b[0m\u001b[0m\n\u001b[1;32m    444\u001b[0m     \u001b[0;31m# Create the parser.\u001b[0m\u001b[0;34m\u001b[0m\u001b[0;34m\u001b[0m\u001b[0m\n\u001b[0;32m--> 445\u001b[0;31m     \u001b[0mparser\u001b[0m \u001b[0;34m=\u001b[0m \u001b[0mTextFileReader\u001b[0m\u001b[0;34m(\u001b[0m\u001b[0mfilepath_or_buffer\u001b[0m\u001b[0;34m,\u001b[0m \u001b[0;34m**\u001b[0m\u001b[0mkwds\u001b[0m\u001b[0;34m)\u001b[0m\u001b[0;34m\u001b[0m\u001b[0m\n\u001b[0m\u001b[1;32m    446\u001b[0m \u001b[0;34m\u001b[0m\u001b[0m\n\u001b[1;32m    447\u001b[0m     \u001b[0;32mif\u001b[0m \u001b[0mchunksize\u001b[0m \u001b[0;32mor\u001b[0m \u001b[0miterator\u001b[0m\u001b[0;34m:\u001b[0m\u001b[0;34m\u001b[0m\u001b[0m\n",
      "\u001b[0;32m/home/ekaterina/.local/lib/python2.7/site-packages/pandas/io/parsers.pyc\u001b[0m in \u001b[0;36m__init__\u001b[0;34m(self, f, engine, **kwds)\u001b[0m\n\u001b[1;32m    812\u001b[0m             \u001b[0mself\u001b[0m\u001b[0;34m.\u001b[0m\u001b[0moptions\u001b[0m\u001b[0;34m[\u001b[0m\u001b[0;34m'has_index_names'\u001b[0m\u001b[0;34m]\u001b[0m \u001b[0;34m=\u001b[0m \u001b[0mkwds\u001b[0m\u001b[0;34m[\u001b[0m\u001b[0;34m'has_index_names'\u001b[0m\u001b[0;34m]\u001b[0m\u001b[0;34m\u001b[0m\u001b[0m\n\u001b[1;32m    813\u001b[0m \u001b[0;34m\u001b[0m\u001b[0m\n\u001b[0;32m--> 814\u001b[0;31m         \u001b[0mself\u001b[0m\u001b[0;34m.\u001b[0m\u001b[0m_make_engine\u001b[0m\u001b[0;34m(\u001b[0m\u001b[0mself\u001b[0m\u001b[0;34m.\u001b[0m\u001b[0mengine\u001b[0m\u001b[0;34m)\u001b[0m\u001b[0;34m\u001b[0m\u001b[0m\n\u001b[0m\u001b[1;32m    815\u001b[0m \u001b[0;34m\u001b[0m\u001b[0m\n\u001b[1;32m    816\u001b[0m     \u001b[0;32mdef\u001b[0m \u001b[0mclose\u001b[0m\u001b[0;34m(\u001b[0m\u001b[0mself\u001b[0m\u001b[0;34m)\u001b[0m\u001b[0;34m:\u001b[0m\u001b[0;34m\u001b[0m\u001b[0m\n",
      "\u001b[0;32m/home/ekaterina/.local/lib/python2.7/site-packages/pandas/io/parsers.pyc\u001b[0m in \u001b[0;36m_make_engine\u001b[0;34m(self, engine)\u001b[0m\n\u001b[1;32m   1043\u001b[0m     \u001b[0;32mdef\u001b[0m \u001b[0m_make_engine\u001b[0m\u001b[0;34m(\u001b[0m\u001b[0mself\u001b[0m\u001b[0;34m,\u001b[0m \u001b[0mengine\u001b[0m\u001b[0;34m=\u001b[0m\u001b[0;34m'c'\u001b[0m\u001b[0;34m)\u001b[0m\u001b[0;34m:\u001b[0m\u001b[0;34m\u001b[0m\u001b[0m\n\u001b[1;32m   1044\u001b[0m         \u001b[0;32mif\u001b[0m \u001b[0mengine\u001b[0m \u001b[0;34m==\u001b[0m \u001b[0;34m'c'\u001b[0m\u001b[0;34m:\u001b[0m\u001b[0;34m\u001b[0m\u001b[0m\n\u001b[0;32m-> 1045\u001b[0;31m             \u001b[0mself\u001b[0m\u001b[0;34m.\u001b[0m\u001b[0m_engine\u001b[0m \u001b[0;34m=\u001b[0m \u001b[0mCParserWrapper\u001b[0m\u001b[0;34m(\u001b[0m\u001b[0mself\u001b[0m\u001b[0;34m.\u001b[0m\u001b[0mf\u001b[0m\u001b[0;34m,\u001b[0m \u001b[0;34m**\u001b[0m\u001b[0mself\u001b[0m\u001b[0;34m.\u001b[0m\u001b[0moptions\u001b[0m\u001b[0;34m)\u001b[0m\u001b[0;34m\u001b[0m\u001b[0m\n\u001b[0m\u001b[1;32m   1046\u001b[0m         \u001b[0;32melse\u001b[0m\u001b[0;34m:\u001b[0m\u001b[0;34m\u001b[0m\u001b[0m\n\u001b[1;32m   1047\u001b[0m             \u001b[0;32mif\u001b[0m \u001b[0mengine\u001b[0m \u001b[0;34m==\u001b[0m \u001b[0;34m'python'\u001b[0m\u001b[0;34m:\u001b[0m\u001b[0;34m\u001b[0m\u001b[0m\n",
      "\u001b[0;32m/home/ekaterina/.local/lib/python2.7/site-packages/pandas/io/parsers.pyc\u001b[0m in \u001b[0;36m__init__\u001b[0;34m(self, src, **kwds)\u001b[0m\n\u001b[1;32m   1682\u001b[0m         \u001b[0mkwds\u001b[0m\u001b[0;34m[\u001b[0m\u001b[0;34m'allow_leading_cols'\u001b[0m\u001b[0;34m]\u001b[0m \u001b[0;34m=\u001b[0m \u001b[0mself\u001b[0m\u001b[0;34m.\u001b[0m\u001b[0mindex_col\u001b[0m \u001b[0;32mis\u001b[0m \u001b[0;32mnot\u001b[0m \u001b[0mFalse\u001b[0m\u001b[0;34m\u001b[0m\u001b[0m\n\u001b[1;32m   1683\u001b[0m \u001b[0;34m\u001b[0m\u001b[0m\n\u001b[0;32m-> 1684\u001b[0;31m         \u001b[0mself\u001b[0m\u001b[0;34m.\u001b[0m\u001b[0m_reader\u001b[0m \u001b[0;34m=\u001b[0m \u001b[0mparsers\u001b[0m\u001b[0;34m.\u001b[0m\u001b[0mTextReader\u001b[0m\u001b[0;34m(\u001b[0m\u001b[0msrc\u001b[0m\u001b[0;34m,\u001b[0m \u001b[0;34m**\u001b[0m\u001b[0mkwds\u001b[0m\u001b[0;34m)\u001b[0m\u001b[0;34m\u001b[0m\u001b[0m\n\u001b[0m\u001b[1;32m   1685\u001b[0m \u001b[0;34m\u001b[0m\u001b[0m\n\u001b[1;32m   1686\u001b[0m         \u001b[0;31m# XXX\u001b[0m\u001b[0;34m\u001b[0m\u001b[0;34m\u001b[0m\u001b[0m\n",
      "\u001b[0;32mpandas/_libs/parsers.pyx\u001b[0m in \u001b[0;36mpandas._libs.parsers.TextReader.__cinit__\u001b[0;34m()\u001b[0m\n",
      "\u001b[0;32mpandas/_libs/parsers.pyx\u001b[0m in \u001b[0;36mpandas._libs.parsers.TextReader._setup_parser_source\u001b[0;34m()\u001b[0m\n",
      "\u001b[0;31mIOError\u001b[0m: File WDIData.csv does not exist"
     ]
    }
   ],
   "source": [
    "data = pd.read_csv('WDIData.csv')"
   ]
  },
  {
   "cell_type": "markdown",
   "metadata": {},
   "source": [
    "#best year is when filling indicator values with mean gives least number of nan columns\n",
    "columns = {}\n",
    "for i in range (1960, 2017):\n",
    "    year = str(i)\n",
    "    data_used = data[['Country Code', 'Indicator Code', year]].pivot(index='Country Code', columns='Indicator Code', values=year)\n",
    "    data_used = data_used.fillna(data_used.mean())\n",
    "\n",
    "    columns[year] = data_used.isnull().any().sum(axis=0)"
   ]
  },
  {
   "cell_type": "markdown",
   "metadata": {},
   "source": [
    "columns"
   ]
  },
  {
   "cell_type": "markdown",
   "metadata": {},
   "source": [
    "{'1960': 1144,\n",
    " '1961': 1110,\n",
    " '1962': 1093,\n",
    " '1963': 1089,\n",
    " '1964': 1090,\n",
    " '1965': 1080,\n",
    " '1966': 1085,\n",
    " '1967': 1075,\n",
    " '1968': 1085,\n",
    " '1969': 1074,\n",
    " '1970': 704,\n",
    " '1971': 709,\n",
    " '1972': 679,\n",
    " '1973': 687,\n",
    " '1974': 672,\n",
    " '1975': 658,\n",
    " '1976': 657,\n",
    " '1977': 645,\n",
    " '1978': 664,\n",
    " '1979': 647,\n",
    " '1980': 606,\n",
    " '1981': 616,\n",
    " '1982': 619,\n",
    " '1983': 624,\n",
    " '1984': 613,\n",
    " '1985': 603,\n",
    " '1986': 592,\n",
    " '1987': 577,\n",
    " '1988': 572,\n",
    " '1989': 542,\n",
    " '1990': 426,\n",
    " '1991': 436,\n",
    " '1992': 415,\n",
    " '1993': 430,\n",
    " '1994': 423,\n",
    " '1995': 380,\n",
    " '1996': 382,\n",
    " '1997': 382,\n",
    " '1998': 314,\n",
    " '1999': 294,\n",
    " '2000': 211,\n",
    " '2001': 258,\n",
    " '2002': 238,\n",
    " '2003': 237,\n",
    " '2004': 202,\n",
    " '2005': 139,\n",
    " '2006': 145,\n",
    " '2007': 122,\n",
    " '2008': 126,\n",
    " '2009': 125,\n",
    " '2010': 91,\n",
    " '2011': 113,\n",
    " '2012': 111,\n",
    " '2013': 129,\n",
    " '2014': 91,\n",
    " '2015': 205,\n",
    " '2016': 714}"
   ]
  },
  {
   "cell_type": "code",
   "execution_count": 19,
   "metadata": {},
   "outputs": [
    {
     "ename": "NameError",
     "evalue": "name 'data' is not defined",
     "output_type": "error",
     "traceback": [
      "\u001b[0;31m---------------------------------------------------------------------------\u001b[0m",
      "\u001b[0;31mNameError\u001b[0m                                 Traceback (most recent call last)",
      "\u001b[0;32m<ipython-input-19-03d29d0de6e0>\u001b[0m in \u001b[0;36m<module>\u001b[0;34m()\u001b[0m\n\u001b[0;32m----> 1\u001b[0;31m \u001b[0mdata_used\u001b[0m \u001b[0;34m=\u001b[0m \u001b[0mdata\u001b[0m\u001b[0;34m[\u001b[0m\u001b[0;34m[\u001b[0m\u001b[0;34m'Country Code'\u001b[0m\u001b[0;34m,\u001b[0m \u001b[0;34m'Indicator Code'\u001b[0m\u001b[0;34m,\u001b[0m \u001b[0;34m'2010'\u001b[0m\u001b[0;34m]\u001b[0m\u001b[0;34m]\u001b[0m\u001b[0;34m.\u001b[0m\u001b[0mpivot\u001b[0m\u001b[0;34m(\u001b[0m\u001b[0mindex\u001b[0m\u001b[0;34m=\u001b[0m\u001b[0;34m'Country Code'\u001b[0m\u001b[0;34m,\u001b[0m \u001b[0mcolumns\u001b[0m\u001b[0;34m=\u001b[0m\u001b[0;34m'Indicator Code'\u001b[0m\u001b[0;34m,\u001b[0m \u001b[0mvalues\u001b[0m\u001b[0;34m=\u001b[0m\u001b[0;34m'2010'\u001b[0m\u001b[0;34m)\u001b[0m\u001b[0;34m\u001b[0m\u001b[0m\n\u001b[0m\u001b[1;32m      2\u001b[0m \u001b[0mdata_used_before_filling\u001b[0m \u001b[0;34m=\u001b[0m \u001b[0mdata_used\u001b[0m\u001b[0;34m\u001b[0m\u001b[0m\n\u001b[1;32m      3\u001b[0m \u001b[0mdata_used\u001b[0m \u001b[0;34m=\u001b[0m \u001b[0mdata_used\u001b[0m\u001b[0;34m.\u001b[0m\u001b[0mfillna\u001b[0m\u001b[0;34m(\u001b[0m\u001b[0mdata_used\u001b[0m\u001b[0;34m.\u001b[0m\u001b[0mmean\u001b[0m\u001b[0;34m(\u001b[0m\u001b[0;34m)\u001b[0m\u001b[0;34m)\u001b[0m\u001b[0;34m\u001b[0m\u001b[0m\n\u001b[1;32m      4\u001b[0m \u001b[0mdata_used\u001b[0m \u001b[0;34m=\u001b[0m \u001b[0mdata_used\u001b[0m\u001b[0;34m.\u001b[0m\u001b[0mdropna\u001b[0m\u001b[0;34m(\u001b[0m\u001b[0maxis\u001b[0m\u001b[0;34m=\u001b[0m\u001b[0;36m1\u001b[0m\u001b[0;34m,\u001b[0m \u001b[0mhow\u001b[0m\u001b[0;34m=\u001b[0m\u001b[0;34m'all'\u001b[0m\u001b[0;34m)\u001b[0m\u001b[0;34m\u001b[0m\u001b[0m\n\u001b[1;32m      5\u001b[0m \u001b[0mdata_used\u001b[0m\u001b[0;34m\u001b[0m\u001b[0m\n",
      "\u001b[0;31mNameError\u001b[0m: name 'data' is not defined"
     ]
    }
   ],
   "source": [
    "data_used = data[['Country Code', 'Indicator Code', '2010']].pivot(index='Country Code', columns='Indicator Code', values='2010')\n",
    "data_used_before_filling = data_used\n",
    "data_used = data_used.fillna(data_used.mean())\n",
    "data_used = data_used.dropna(axis=1, how='all')\n",
    "data_used"
   ]
  },
  {
   "cell_type": "code",
   "execution_count": 20,
   "metadata": {},
   "outputs": [
    {
     "ename": "NameError",
     "evalue": "name 'data_used' is not defined",
     "output_type": "error",
     "traceback": [
      "\u001b[0;31m---------------------------------------------------------------------------\u001b[0m",
      "\u001b[0;31mNameError\u001b[0m                                 Traceback (most recent call last)",
      "\u001b[0;32m<ipython-input-20-90fd9faa9666>\u001b[0m in \u001b[0;36m<module>\u001b[0;34m()\u001b[0m\n\u001b[0;32m----> 1\u001b[0;31m \u001b[0mdata_used\u001b[0m\u001b[0;34m.\u001b[0m\u001b[0mto_csv\u001b[0m\u001b[0;34m(\u001b[0m\u001b[0;34m'2010_filled.csv'\u001b[0m\u001b[0;34m)\u001b[0m\u001b[0;34m\u001b[0m\u001b[0m\n\u001b[0m",
      "\u001b[0;31mNameError\u001b[0m: name 'data_used' is not defined"
     ]
    }
   ],
   "source": [
    "data_used.to_csv('2010_filled.csv')"
   ]
  },
  {
   "cell_type": "code",
   "execution_count": 21,
   "metadata": {},
   "outputs": [],
   "source": [
    "data_used = pd.read_csv('2014_filled.csv')\n",
    "x_train = data_used.iloc[:, 1:].values\n",
    "#x = (x - x.mean(axis=0))/x.std(axis = 0)\n",
    "index_non_zero_std = np.where(x_train.std(axis=0)!=0)[0]\n",
    "x_train[:,index_non_zero_std] = (x_train[:,index_non_zero_std] - x_train[:,index_non_zero_std].mean(axis=0))/x_train[:,index_non_zero_std].std(axis = 0)"
   ]
  },
  {
   "cell_type": "code",
   "execution_count": 22,
   "metadata": {},
   "outputs": [
    {
     "name": "stdout",
     "output_type": "stream",
     "text": [
      "50.2199466381\n",
      "0.0\n",
      "183.235173621\n",
      "73.3863636364\n",
      "1\n",
      "201\n"
     ]
    }
   ],
   "source": [
    "distances = ss.distance.cdist(x_train, x_train, 'euclidean')\n",
    "print distances.mean()\n",
    "print distances.min()\n",
    "print distances.max()\n",
    "epsilon = 40\n",
    "neighbors_list = [np.where(dist <= epsilon)[0] for dist in distances]\n",
    "neighbors_number = np.array([len(i) for i in neighbors_list])\n",
    "print neighbors_number.mean()\n",
    "print neighbors_number.min()\n",
    "print neighbors_number.max()\n"
   ]
  },
  {
   "cell_type": "code",
   "execution_count": 23,
   "metadata": {},
   "outputs": [
    {
     "data": {
      "text/plain": [
       "array([ 0, -1, -1, -1,  0,  0, -1, -1, -1,  0,  0,  1,  2, -1, -1,  3, -1,\n",
       "       -1, -1,  0, -1, -1, -1, -1,  0,  0, -1, -1,  0, -1, -1, -1, -1,  1,\n",
       "        0, -1,  0, -1, -1, -1, -1, -1, -1, -1, -1,  0, -1,  0, -1,  0,  0,\n",
       "       -1,  0, -1, -1,  0,  2, -1, -1, -1, -1,  4, -1,  5, -1, -1,  5, -1,\n",
       "        6,  0, -1,  5,  0,  2,  0,  3,  0,  0,  0, -1, -1, -1,  0, -1, -1,\n",
       "       -1, -1, -1,  0,  0, -1,  0,  0,  7, -1, -1,  0,  0, -1,  0, -1, -1,\n",
       "        0,  0, -1,  0,  0, -1,  0, -1, -1, -1, -1, -1,  6, -1, -1, -1, -1,\n",
       "       -1, -1, -1, -1,  0, -1, -1, -1, -1, -1, -1,  0,  0,  0,  0,  0,  0,\n",
       "       -1, -1, -1, -1,  4,  0, -1,  0, -1,  0,  0,  0, -1, -1, -1,  0, -1,\n",
       "        0, -1, -1, -1, -1, -1,  0,  0, -1,  0, -1, -1, -1, -1, -1, -1, -1,\n",
       "        0, -1, -1,  0,  2, -1, -1,  0,  1,  7, -1,  0, -1, -1, -1, -1,  0,\n",
       "        0,  0,  0,  0,  0,  6, -1, -1,  0,  7,  0, -1,  0, -1, -1,  0, -1,\n",
       "       -1, -1, -1, -1, -1, -1,  0, -1, -1,  0, -1,  0,  0, -1, -1,  0,  0,\n",
       "       -1, -1,  0,  0, -1,  0, -1,  4,  0, -1, -1, -1, -1,  0, -1,  0,  0,\n",
       "        0,  0,  0,  0, -1,  0, -1, -1, -1, -1, -1, -1, -1, -1, -1,  0,  0,\n",
       "       -1,  0, -1, -1, -1, -1, -1, -1, -1])"
      ]
     },
     "execution_count": 23,
     "metadata": {},
     "output_type": "execute_result"
    }
   ],
   "source": [
    "pred_x = Clustering(min_pts=2, epsilon=26).fit_predict(x_train)\n",
    "pred_x"
   ]
  },
  {
   "cell_type": "code",
   "execution_count": 24,
   "metadata": {},
   "outputs": [],
   "source": [
    "country_names = pd.read_csv('WDICountry.csv')\n",
    "country_names = country_names[['Country Code', 'Short Name']]\n"
   ]
  },
  {
   "cell_type": "code",
   "execution_count": 25,
   "metadata": {},
   "outputs": [],
   "source": [
    "codes = data_used['Country Code']\n",
    "codes = np.array([country_names[country_names['Country Code'] == code]['Short Name'] for code in codes])\n"
   ]
  },
  {
   "cell_type": "code",
   "execution_count": 26,
   "metadata": {},
   "outputs": [],
   "source": [
    "cluster_labels = np.unique(pred_x)\n",
    "clusters = [codes[np.where(pred_x== i)[0]] for i in cluster_labels]"
   ]
  },
  {
   "cell_type": "code",
   "execution_count": 27,
   "metadata": {},
   "outputs": [
    {
     "data": {
      "text/plain": [
       "array([1    Afghanistan\n",
       "Name: Short Name, dtype: object,\n",
       "       2    Angola\n",
       "Name: Short Name, dtype: object,\n",
       "       3    Albania\n",
       "Name: Short Name, dtype: object,\n",
       "       6    United Arab Emirates\n",
       "Name: Short Name, dtype: object,\n",
       "       7    Argentina\n",
       "Name: Short Name, dtype: object,\n",
       "       8    Armenia\n",
       "Name: Short Name, dtype: object,\n",
       "       13    Azerbaijan\n",
       "Name: Short Name, dtype: object,\n",
       "       14    Burundi\n",
       "Name: Short Name, dtype: object,\n",
       "       16    Benin\n",
       "Name: Short Name, dtype: object,\n",
       "       17    Burkina Faso\n",
       "Name: Short Name, dtype: object,\n",
       "       18    Bangladesh\n",
       "Name: Short Name, dtype: object,\n",
       "       20    Bahrain\n",
       "Name: Short Name, dtype: object,\n",
       "       21    The Bahamas\n",
       "Name: Short Name, dtype: object,\n",
       "       22    Bosnia and Herzegovina\n",
       "Name: Short Name, dtype: object,\n",
       "       23    Belarus\n",
       "Name: Short Name, dtype: object,\n",
       "       26    Bolivia\n",
       "Name: Short Name, dtype: object,\n",
       "       27    Brazil\n",
       "Name: Short Name, dtype: object,\n",
       "       29    Brunei\n",
       "Name: Short Name, dtype: object,\n",
       "       30    Bhutan\n",
       "Name: Short Name, dtype: object,\n",
       "       31    Botswana\n",
       "Name: Short Name, dtype: object,\n",
       "       32    Central African Republic\n",
       "Name: Short Name, dtype: object,\n",
       "       35    Switzerland\n",
       "Name: Short Name, dtype: object,\n",
       "       37    Chile\n",
       "Name: Short Name, dtype: object,\n",
       "       38    China\n",
       "Name: Short Name, dtype: object,\n",
       "       39    Côte d'Ivoire\n",
       "Name: Short Name, dtype: object,\n",
       "       40    Cameroon\n",
       "Name: Short Name, dtype: object,\n",
       "       41    Dem. Rep. Congo\n",
       "Name: Short Name, dtype: object,\n",
       "       42    Congo\n",
       "Name: Short Name, dtype: object,\n",
       "       43    Colombia\n",
       "Name: Short Name, dtype: object,\n",
       "       44    Comoros\n",
       "Name: Short Name, dtype: object,\n",
       "       46    Costa Rica\n",
       "Name: Short Name, dtype: object,\n",
       "       48    Cuba\n",
       "Name: Short Name, dtype: object,\n",
       "       51    Cyprus\n",
       "Name: Short Name, dtype: object,\n",
       "       53    Germany\n",
       "Name: Short Name, dtype: object,\n",
       "       54    Djibouti\n",
       "Name: Short Name, dtype: object,\n",
       "       57    Dominican Republic\n",
       "Name: Short Name, dtype: object,\n",
       "       58    Algeria\n",
       "Name: Short Name, dtype: object,\n",
       "       59    East Asia & Pacific (excluding high income)\n",
       "Name: Short Name, dtype: object,\n",
       "       60    Early-demographic dividend\n",
       "Name: Short Name, dtype: object,\n",
       "       62    Europe & Central Asia (excluding high income)\n",
       "Name: Short Name, dtype: object,\n",
       "       64    Ecuador\n",
       "Name: Short Name, dtype: object,\n",
       "       65    Egypt\n",
       "Name: Short Name, dtype: object,\n",
       "       67    Eritrea\n",
       "Name: Short Name, dtype: object,\n",
       "       70    Ethiopia\n",
       "Name: Short Name, dtype: object,\n",
       "       79    United Kingdom\n",
       "Name: Short Name, dtype: object,\n",
       "       80    Georgia\n",
       "Name: Short Name, dtype: object,\n",
       "       81    Ghana\n",
       "Name: Short Name, dtype: object,\n",
       "       83    Guinea\n",
       "Name: Short Name, dtype: object,\n",
       "       84    The Gambia\n",
       "Name: Short Name, dtype: object,\n",
       "       85    Guinea-Bissau\n",
       "Name: Short Name, dtype: object,\n",
       "       86    Equatorial Guinea\n",
       "Name: Short Name, dtype: object,\n",
       "       87    Greece\n",
       "Name: Short Name, dtype: object,\n",
       "       90    Guatemala\n",
       "Name: Short Name, dtype: object,\n",
       "       94    Hong Kong SAR, China\n",
       "Name: Short Name, dtype: object,\n",
       "       95    Honduras\n",
       "Name: Short Name, dtype: object,\n",
       "       98    Haiti\n",
       "Name: Short Name, dtype: object,\n",
       "       100    IBRD only\n",
       "Name: Short Name, dtype: object,\n",
       "       101    IDA & IBRD total\n",
       "Name: Short Name, dtype: object,\n",
       "       104    Indonesia\n",
       "Name: Short Name, dtype: object,\n",
       "       107    India\n",
       "Name: Short Name, dtype: object,\n",
       "       108    Ireland\n",
       "Name: Short Name, dtype: object,\n",
       "       109    Iran\n",
       "Name: Short Name, dtype: object,\n",
       "       110    Iraq\n",
       "Name: Short Name, dtype: object,\n",
       "       111    Iceland\n",
       "Name: Short Name, dtype: object,\n",
       "       112    Israel\n",
       "Name: Short Name, dtype: object,\n",
       "       114    Jamaica\n",
       "Name: Short Name, dtype: object,\n",
       "       115    Jordan\n",
       "Name: Short Name, dtype: object,\n",
       "       116    Japan\n",
       "Name: Short Name, dtype: object,\n",
       "       117    Kazakhstan\n",
       "Name: Short Name, dtype: object,\n",
       "       118    Kenya\n",
       "Name: Short Name, dtype: object,\n",
       "       119    Kyrgyz Republic\n",
       "Name: Short Name, dtype: object,\n",
       "       120    Cambodia\n",
       "Name: Short Name, dtype: object,\n",
       "       121    Kiribati\n",
       "Name: Short Name, dtype: object,\n",
       "       123    Korea\n",
       "Name: Short Name, dtype: object,\n",
       "       124    Kuwait\n",
       "Name: Short Name, dtype: object,\n",
       "       125    Latin America & Caribbean (excluding high income)\n",
       "Name: Short Name, dtype: object,\n",
       "       126    Lao PDR\n",
       "Name: Short Name, dtype: object,\n",
       "       127    Lebanon\n",
       "Name: Short Name, dtype: object,\n",
       "       128    Liberia\n",
       "Name: Short Name, dtype: object,\n",
       "       135    Sri Lanka\n",
       "Name: Short Name, dtype: object,\n",
       "       136    Lower middle income\n",
       "Name: Short Name, dtype: object,\n",
       "       137    Low & middle income\n",
       "Name: Short Name, dtype: object,\n",
       "       138    Lesotho\n",
       "Name: Short Name, dtype: object,\n",
       "       141    Luxembourg\n",
       "Name: Short Name, dtype: object,\n",
       "       143    Macao SAR, China\n",
       "Name: Short Name, dtype: object,\n",
       "       147    Moldova\n",
       "Name: Short Name, dtype: object,\n",
       "       148    Madagascar\n",
       "Name: Short Name, dtype: object,\n",
       "       149    Maldives\n",
       "Name: Short Name, dtype: object,\n",
       "       151    Mexico\n",
       "Name: Short Name, dtype: object,\n",
       "       153    Middle income\n",
       "Name: Short Name, dtype: object,\n",
       "       154    Macedonia\n",
       "Name: Short Name, dtype: object,\n",
       "       155    Mali\n",
       "Name: Short Name, dtype: object,\n",
       "       156    Malta\n",
       "Name: Short Name, dtype: object,\n",
       "       157    Myanmar\n",
       "Name: Short Name, dtype: object,\n",
       "       160    Mongolia\n",
       "Name: Short Name, dtype: object,\n",
       "       162    Mozambique\n",
       "Name: Short Name, dtype: object,\n",
       "       163    Mauritania\n",
       "Name: Short Name, dtype: object,\n",
       "       164    Mauritius\n",
       "Name: Short Name, dtype: object,\n",
       "       165    Malawi\n",
       "Name: Short Name, dtype: object,\n",
       "       166    Malaysia\n",
       "Name: Short Name, dtype: object,\n",
       "       167    North America\n",
       "Name: Short Name, dtype: object,\n",
       "       168    Namibia\n",
       "Name: Short Name, dtype: object,\n",
       "       170    Niger\n",
       "Name: Short Name, dtype: object,\n",
       "       171    Nigeria\n",
       "Name: Short Name, dtype: object,\n",
       "       174    Norway\n",
       "Name: Short Name, dtype: object,\n",
       "       175    Nepal\n",
       "Name: Short Name, dtype: object,\n",
       "       179    Oman\n",
       "Name: Short Name, dtype: object,\n",
       "       181    Pakistan\n",
       "Name: Short Name, dtype: object,\n",
       "       182    Panama\n",
       "Name: Short Name, dtype: object,\n",
       "       183    Peru\n",
       "Name: Short Name, dtype: object,\n",
       "       184    Philippines\n",
       "Name: Short Name, dtype: object,\n",
       "       192    Paraguay\n",
       "Name: Short Name, dtype: object,\n",
       "       193    West Bank and Gaza\n",
       "Name: Short Name, dtype: object,\n",
       "       197    Qatar\n",
       "Name: Short Name, dtype: object,\n",
       "       199    Russia\n",
       "Name: Short Name, dtype: object,\n",
       "       200    Rwanda\n",
       "Name: Short Name, dtype: object,\n",
       "       202    Saudi Arabia\n",
       "Name: Short Name, dtype: object,\n",
       "       203    Sudan\n",
       "Name: Short Name, dtype: object,\n",
       "       204    Senegal\n",
       "Name: Short Name, dtype: object,\n",
       "       205    Singapore\n",
       "Name: Short Name, dtype: object,\n",
       "       206    Solomon Islands\n",
       "Name: Short Name, dtype: object,\n",
       "       207    Sierra Leone\n",
       "Name: Short Name, dtype: object,\n",
       "       208    El Salvador\n",
       "Name: Short Name, dtype: object,\n",
       "       210    Somalia\n",
       "Name: Short Name, dtype: object,\n",
       "       211    Serbia\n",
       "Name: Short Name, dtype: object,\n",
       "       213    South Sudan\n",
       "Name: Short Name, dtype: object,\n",
       "       216    São Tomé and Principe\n",
       "Name: Short Name, dtype: object,\n",
       "       217    Suriname\n",
       "Name: Short Name, dtype: object,\n",
       "       220    Sweden\n",
       "Name: Short Name, dtype: object,\n",
       "       221    Swaziland\n",
       "Name: Short Name, dtype: object,\n",
       "       224    Syrian Arab Republic\n",
       "Name: Short Name, dtype: object,\n",
       "       226    Chad\n",
       "Name: Short Name, dtype: object,\n",
       "       229    Togo\n",
       "Name: Short Name, dtype: object,\n",
       "       230    Thailand\n",
       "Name: Short Name, dtype: object,\n",
       "       231    Tajikistan\n",
       "Name: Short Name, dtype: object,\n",
       "       232    Turkmenistan\n",
       "Name: Short Name, dtype: object,\n",
       "       234    Timor-Leste\n",
       "Name: Short Name, dtype: object,\n",
       "       241    Turkey\n",
       "Name: Short Name, dtype: object,\n",
       "       243    Tanzania\n",
       "Name: Short Name, dtype: object,\n",
       "       244    Uganda\n",
       "Name: Short Name, dtype: object,\n",
       "       245    Ukraine\n",
       "Name: Short Name, dtype: object,\n",
       "       246    Upper middle income\n",
       "Name: Short Name, dtype: object,\n",
       "       247    Uruguay\n",
       "Name: Short Name, dtype: object,\n",
       "       248    United States\n",
       "Name: Short Name, dtype: object,\n",
       "       249    Uzbekistan\n",
       "Name: Short Name, dtype: object,\n",
       "       250    St. Vincent and the Grenadines\n",
       "Name: Short Name, dtype: object,\n",
       "       251    Venezuela\n",
       "Name: Short Name, dtype: object,\n",
       "       254    Vietnam\n",
       "Name: Short Name, dtype: object,\n",
       "       256    World\n",
       "Name: Short Name, dtype: object,\n",
       "       257    Samoa\n",
       "Name: Short Name, dtype: object,\n",
       "       258    Kosovo\n",
       "Name: Short Name, dtype: object,\n",
       "       259    Yemen\n",
       "Name: Short Name, dtype: object,\n",
       "       260    South Africa\n",
       "Name: Short Name, dtype: object,\n",
       "       261    Zambia\n",
       "Name: Short Name, dtype: object,\n",
       "       262    Zimbabwe\n",
       "Name: Short Name, dtype: object], dtype=object)"
      ]
     },
     "execution_count": 27,
     "metadata": {},
     "output_type": "execute_result"
    }
   ],
   "source": [
    "clusters[0]"
   ]
  },
  {
   "cell_type": "markdown",
   "metadata": {},
   "source": [
    "Этот кластер состоит из точек, отнесенных DBSCAN к шуму; здесь и монстры вроде США, и не столь процветающие страны вроде Узбекистана."
   ]
  },
  {
   "cell_type": "code",
   "execution_count": 28,
   "metadata": {},
   "outputs": [
    {
     "data": {
      "text/plain": [
       "array([0    Aruba\n",
       "Name: Short Name, dtype: object,\n",
       "       4    Andorra\n",
       "Name: Short Name, dtype: object,\n",
       "       5    Arab World\n",
       "Name: Short Name, dtype: object,\n",
       "       9    American Samoa\n",
       "Name: Short Name, dtype: object,\n",
       "       10    Antigua and Barbuda\n",
       "Name: Short Name, dtype: object,\n",
       "       19    Bulgaria\n",
       "Name: Short Name, dtype: object,\n",
       "       24    Belize\n",
       "Name: Short Name, dtype: object,\n",
       "       25    Bermuda\n",
       "Name: Short Name, dtype: object,\n",
       "       28    Barbados\n",
       "Name: Short Name, dtype: object,\n",
       "       34    Central Europe and the Baltics\n",
       "Name: Short Name, dtype: object,\n",
       "       36    Channel Islands\n",
       "Name: Short Name, dtype: object,\n",
       "       45    Cabo Verde\n",
       "Name: Short Name, dtype: object,\n",
       "       47    Caribbean small states\n",
       "Name: Short Name, dtype: object,\n",
       "       49    Curaçao\n",
       "Name: Short Name, dtype: object,\n",
       "       50    Cayman Islands\n",
       "Name: Short Name, dtype: object,\n",
       "       52    Czech Republic\n",
       "Name: Short Name, dtype: object,\n",
       "       55    Dominica\n",
       "Name: Short Name, dtype: object,\n",
       "       69    Estonia\n",
       "Name: Short Name, dtype: object,\n",
       "       72    Fragile and conflict affected situations\n",
       "Name: Short Name, dtype: object,\n",
       "       74    Fiji\n",
       "Name: Short Name, dtype: object,\n",
       "       76    Faroe Islands\n",
       "Name: Short Name, dtype: object,\n",
       "       77    Micronesia\n",
       "Name: Short Name, dtype: object,\n",
       "       78    Gabon\n",
       "Name: Short Name, dtype: object,\n",
       "       82    Gibraltar\n",
       "Name: Short Name, dtype: object,\n",
       "       88    Grenada\n",
       "Name: Short Name, dtype: object,\n",
       "       89    Greenland\n",
       "Name: Short Name, dtype: object,\n",
       "       91    Guam\n",
       "Name: Short Name, dtype: object,\n",
       "       92    Guyana\n",
       "Name: Short Name, dtype: object,\n",
       "       96    Heavily indebted poor countries (HIPC)\n",
       "Name: Short Name, dtype: object,\n",
       "       97    Croatia\n",
       "Name: Short Name, dtype: object,\n",
       "       99    Hungary\n",
       "Name: Short Name, dtype: object,\n",
       "       102    IDA total\n",
       "Name: Short Name, dtype: object,\n",
       "       103    IDA blend\n",
       "Name: Short Name, dtype: object,\n",
       "       105    IDA only\n",
       "Name: Short Name, dtype: object,\n",
       "       106    Isle of Man\n",
       "Name: Short Name, dtype: object,\n",
       "       Series([], Name: Short Name, dtype: object),\n",
       "       122    St. Kitts and Nevis\n",
       "Name: Short Name, dtype: object,\n",
       "       129    Libya\n",
       "Name: Short Name, dtype: object,\n",
       "       130    St. Lucia\n",
       "Name: Short Name, dtype: object,\n",
       "       131    Latin America & Caribbean\n",
       "Name: Short Name, dtype: object,\n",
       "       132    Least developed countries: UN classification\n",
       "Name: Short Name, dtype: object,\n",
       "       133    Low income\n",
       "Name: Short Name, dtype: object,\n",
       "       134    Liechtenstein\n",
       "Name: Short Name, dtype: object,\n",
       "       140    Lithuania\n",
       "Name: Short Name, dtype: object,\n",
       "       142    Latvia\n",
       "Name: Short Name, dtype: object,\n",
       "       144    St. Martin (French part)\n",
       "Name: Short Name, dtype: object,\n",
       "       145    Morocco\n",
       "Name: Short Name, dtype: object,\n",
       "       146    Monaco\n",
       "Name: Short Name, dtype: object,\n",
       "       150    Middle East & North Africa\n",
       "Name: Short Name, dtype: object,\n",
       "       152    Marshall Islands\n",
       "Name: Short Name, dtype: object,\n",
       "       158    Middle East & North Africa (excluding high inc...\n",
       "Name: Short Name, dtype: object,\n",
       "       159    Montenegro\n",
       "Name: Short Name, dtype: object,\n",
       "       161    Northern Mariana Islands\n",
       "Name: Short Name, dtype: object,\n",
       "       169    New Caledonia\n",
       "Name: Short Name, dtype: object,\n",
       "       172    Nicaragua\n",
       "Name: Short Name, dtype: object,\n",
       "       176    Nauru\n",
       "Name: Short Name, dtype: object,\n",
       "       180    Other small states\n",
       "Name: Short Name, dtype: object,\n",
       "       185    Palau\n",
       "Name: Short Name, dtype: object,\n",
       "       186    Papua New Guinea\n",
       "Name: Short Name, dtype: object,\n",
       "       187    Poland\n",
       "Name: Short Name, dtype: object,\n",
       "       188    Pre-demographic dividend\n",
       "Name: Short Name, dtype: object,\n",
       "       189    Puerto Rico\n",
       "Name: Short Name, dtype: object,\n",
       "       190    Dem. People's Rep. Korea\n",
       "Name: Short Name, dtype: object,\n",
       "       194    Pacific island small states\n",
       "Name: Short Name, dtype: object,\n",
       "       196    French Polynesia\n",
       "Name: Short Name, dtype: object,\n",
       "       198    Romania\n",
       "Name: Short Name, dtype: object,\n",
       "       201    South Asia\n",
       "Name: Short Name, dtype: object,\n",
       "       209    San Marino\n",
       "Name: Short Name, dtype: object,\n",
       "       212    Sub-Saharan Africa (excluding high income)\n",
       "Name: Short Name, dtype: object,\n",
       "       214    Sub-Saharan Africa\n",
       "Name: Short Name, dtype: object,\n",
       "       215    Small states\n",
       "Name: Short Name, dtype: object,\n",
       "       218    Slovak Republic\n",
       "Name: Short Name, dtype: object,\n",
       "       219    Slovenia\n",
       "Name: Short Name, dtype: object,\n",
       "       222    Sint Maarten (Dutch part)\n",
       "Name: Short Name, dtype: object,\n",
       "       223    Seychelles\n",
       "Name: Short Name, dtype: object,\n",
       "       225    Turks and Caicos Islands\n",
       "Name: Short Name, dtype: object,\n",
       "       228    Europe & Central Asia (IDA & IBRD)\n",
       "Name: Short Name, dtype: object,\n",
       "       233    Latin America & Caribbean (IDA & IBRD)\n",
       "Name: Short Name, dtype: object,\n",
       "       235    Middle East & North Africa (IDA & IBRD)\n",
       "Name: Short Name, dtype: object,\n",
       "       236    Tonga\n",
       "Name: Short Name, dtype: object,\n",
       "       237    South Asia (IDA & IBRD)\n",
       "Name: Short Name, dtype: object,\n",
       "       238    Sub-Saharan Africa (IDA & IBRD)\n",
       "Name: Short Name, dtype: object,\n",
       "       239    Trinidad and Tobago\n",
       "Name: Short Name, dtype: object,\n",
       "       240    Tunisia\n",
       "Name: Short Name, dtype: object,\n",
       "       242    Tuvalu\n",
       "Name: Short Name, dtype: object,\n",
       "       252    British Virgin Islands\n",
       "Name: Short Name, dtype: object,\n",
       "       253    Virgin Islands\n",
       "Name: Short Name, dtype: object,\n",
       "       255    Vanuatu\n",
       "Name: Short Name, dtype: object], dtype=object)"
      ]
     },
     "execution_count": 28,
     "metadata": {},
     "output_type": "execute_result"
    }
   ],
   "source": [
    "clusters[1]"
   ]
  },
  {
   "cell_type": "markdown",
   "metadata": {},
   "source": [
    "Большой кластер \"средних\" стран"
   ]
  },
  {
   "cell_type": "code",
   "execution_count": 29,
   "metadata": {},
   "outputs": [
    {
     "data": {
      "text/plain": [
       "array([11    Australia\n",
       "Name: Short Name, dtype: object,\n",
       "       33    Canada\n",
       "Name: Short Name, dtype: object,\n",
       "       177    New Zealand\n",
       "Name: Short Name, dtype: object], dtype=object)"
      ]
     },
     "execution_count": 29,
     "metadata": {},
     "output_type": "execute_result"
    }
   ],
   "source": [
    "clusters[2]"
   ]
  },
  {
   "cell_type": "markdown",
   "metadata": {},
   "source": [
    "Наиболее развитые страны из Королевств Содружества (не хватает лишь самой Великобритании)"
   ]
  },
  {
   "cell_type": "code",
   "execution_count": 30,
   "metadata": {},
   "outputs": [
    {
     "data": {
      "text/plain": [
       "array([12    Austria\n",
       "Name: Short Name, dtype: object,\n",
       "       56    Denmark\n",
       "Name: Short Name, dtype: object,\n",
       "       73    Finland\n",
       "Name: Short Name, dtype: object,\n",
       "       173    Netherlands\n",
       "Name: Short Name, dtype: object], dtype=object)"
      ]
     },
     "execution_count": 30,
     "metadata": {},
     "output_type": "execute_result"
    }
   ],
   "source": [
    "clusters[3]"
   ]
  },
  {
   "cell_type": "markdown",
   "metadata": {},
   "source": [
    "\"Не южная\" вполне себе процветающая Европа. (Лишь в Финляндии язык не из германских)"
   ]
  },
  {
   "cell_type": "code",
   "execution_count": 31,
   "metadata": {},
   "outputs": [
    {
     "data": {
      "text/plain": [
       "array([15    Belgium\n",
       "Name: Short Name, dtype: object,\n",
       "       75    France\n",
       "Name: Short Name, dtype: object], dtype=object)"
      ]
     },
     "execution_count": 31,
     "metadata": {},
     "output_type": "execute_result"
    }
   ],
   "source": [
    "clusters[4]"
   ]
  },
  {
   "cell_type": "markdown",
   "metadata": {},
   "source": [
    "Основная франкоговорящая Европа."
   ]
  },
  {
   "cell_type": "code",
   "execution_count": 32,
   "metadata": {},
   "outputs": [
    {
     "data": {
      "text/plain": [
       "array([61    East Asia & Pacific\n",
       "Name: Short Name, dtype: object,\n",
       "       139    Late-demographic dividend\n",
       "Name: Short Name, dtype: object,\n",
       "       227    East Asia & Pacific (IDA & IBRD)\n",
       "Name: Short Name, dtype: object], dtype=object)"
      ]
     },
     "execution_count": 32,
     "metadata": {},
     "output_type": "execute_result"
    }
   ],
   "source": [
    "clusters[5]"
   ]
  },
  {
   "cell_type": "markdown",
   "metadata": {},
   "source": [
    "Восточная Азия"
   ]
  },
  {
   "cell_type": "code",
   "execution_count": 33,
   "metadata": {},
   "outputs": [
    {
     "data": {
      "text/plain": [
       "array([63    Europe & Central Asia\n",
       "Name: Short Name, dtype: object,\n",
       "       66    Euro area\n",
       "Name: Short Name, dtype: object,\n",
       "       71    European Union\n",
       "Name: Short Name, dtype: object], dtype=object)"
      ]
     },
     "execution_count": 33,
     "metadata": {},
     "output_type": "execute_result"
    }
   ],
   "source": [
    "clusters[6]"
   ]
  },
  {
   "cell_type": "markdown",
   "metadata": {},
   "source": [
    "Европа"
   ]
  },
  {
   "cell_type": "code",
   "execution_count": 34,
   "metadata": {},
   "outputs": [
    {
     "data": {
      "text/plain": [
       "array([68    Spain\n",
       "Name: Short Name, dtype: object,\n",
       "       113    Italy\n",
       "Name: Short Name, dtype: object,\n",
       "       191    Portugal\n",
       "Name: Short Name, dtype: object], dtype=object)"
      ]
     },
     "execution_count": 34,
     "metadata": {},
     "output_type": "execute_result"
    }
   ],
   "source": [
    "clusters[7]"
   ]
  },
  {
   "cell_type": "markdown",
   "metadata": {},
   "source": [
    "Южная Европа (с большим государственным долгом)"
   ]
  },
  {
   "cell_type": "code",
   "execution_count": 35,
   "metadata": {},
   "outputs": [
    {
     "data": {
      "text/plain": [
       "array([93    High income\n",
       "Name: Short Name, dtype: object,\n",
       "       178    OECD members\n",
       "Name: Short Name, dtype: object,\n",
       "       195    Post-demographic dividend\n",
       "Name: Short Name, dtype: object], dtype=object)"
      ]
     },
     "execution_count": 35,
     "metadata": {},
     "output_type": "execute_result"
    }
   ],
   "source": [
    "clusters[8]"
   ]
  },
  {
   "cell_type": "markdown",
   "metadata": {},
   "source": [
    "(члены Организации экономи́ческого сотрудничества и развития; развитые страны с высоким доходом)"
   ]
  },
  {
   "cell_type": "code",
   "execution_count": 36,
   "metadata": {},
   "outputs": [
    {
     "data": {
      "text/plain": [
       "(264, 2)"
      ]
     },
     "execution_count": 36,
     "metadata": {},
     "output_type": "execute_result"
    }
   ],
   "source": [
    "X_embedded = sm.TSNE(n_components=2).fit_transform(x_train)\n",
    "X_embedded.shape"
   ]
  },
  {
   "cell_type": "code",
   "execution_count": 37,
   "metadata": {},
   "outputs": [
    {
     "data": {
      "text/plain": [
       "<matplotlib.legend.Legend at 0x7fc8f45ee810>"
      ]
     },
     "execution_count": 37,
     "metadata": {},
     "output_type": "execute_result"
    },
    {
     "data": {
      "image/png": "[encoded data removed]",
      "text/plain": [
       "<matplotlib.figure.Figure at 0x7fc8f45ee890>"
      ]
     },
     "metadata": {},
     "output_type": "display_data"
    }
   ],
   "source": [
    "for i in range(len(cluster_labels)):\n",
    "    idx = pred_x == i\n",
    "    plt.scatter(X_embedded[idx, 0], X_embedded[idx, 1], label=i)\n",
    "    \n",
    "plt.legend()"
   ]
  },
  {
   "cell_type": "markdown",
   "metadata": {},
   "source": [
    "## Задание 4"
   ]
  },
  {
   "cell_type": "code",
   "execution_count": 38,
   "metadata": {},
   "outputs": [
    {
     "ename": "NameError",
     "evalue": "name 'data_used_before_filling' is not defined",
     "output_type": "error",
     "traceback": [
      "\u001b[0;31m---------------------------------------------------------------------------\u001b[0m",
      "\u001b[0;31mNameError\u001b[0m                                 Traceback (most recent call last)",
      "\u001b[0;32m<ipython-input-38-3437a761340f>\u001b[0m in \u001b[0;36m<module>\u001b[0;34m()\u001b[0m\n\u001b[1;32m      1\u001b[0m \u001b[0;31m## Задание 4\u001b[0m\u001b[0;34m\u001b[0m\u001b[0;34m\u001b[0m\u001b[0m\n\u001b[1;32m      2\u001b[0m \u001b[0mindex\u001b[0m \u001b[0;34m=\u001b[0m \u001b[0mlist\u001b[0m\u001b[0;34m(\u001b[0m\u001b[0mnp\u001b[0m\u001b[0;34m.\u001b[0m\u001b[0mwhere\u001b[0m\u001b[0;34m(\u001b[0m\u001b[0mpred_x\u001b[0m\u001b[0;34m==\u001b[0m\u001b[0;36m0\u001b[0m\u001b[0;34m)\u001b[0m\u001b[0;34m[\u001b[0m\u001b[0;36m0\u001b[0m\u001b[0;34m]\u001b[0m\u001b[0;34m)\u001b[0m\u001b[0;34m\u001b[0m\u001b[0m\n\u001b[0;32m----> 3\u001b[0;31m \u001b[0mcluster1\u001b[0m \u001b[0;34m=\u001b[0m \u001b[0mdata_used_before_filling\u001b[0m\u001b[0;34m.\u001b[0m\u001b[0miloc\u001b[0m\u001b[0;34m[\u001b[0m\u001b[0mindex\u001b[0m\u001b[0;34m]\u001b[0m\u001b[0;34m\u001b[0m\u001b[0m\n\u001b[0m\u001b[1;32m      4\u001b[0m \u001b[0;32mprint\u001b[0m \u001b[0;34m\"среднее по столбцу (чем ближе к 1, тем больше nan-ов в столбце)\"\u001b[0m\u001b[0;34m\u001b[0m\u001b[0m\n\u001b[1;32m      5\u001b[0m \u001b[0msummed\u001b[0m \u001b[0;34m=\u001b[0m \u001b[0mcluster1\u001b[0m\u001b[0;34m.\u001b[0m\u001b[0misnull\u001b[0m\u001b[0;34m(\u001b[0m\u001b[0;34m)\u001b[0m\u001b[0;34m.\u001b[0m\u001b[0mmean\u001b[0m\u001b[0;34m(\u001b[0m\u001b[0;34m)\u001b[0m\u001b[0;34m\u001b[0m\u001b[0m\n",
      "\u001b[0;31mNameError\u001b[0m: name 'data_used_before_filling' is not defined"
     ]
    }
   ],
   "source": [
    "## Задание 4\n",
    "index = list(np.where(pred_x==0)[0])\n",
    "cluster1 = data_used_before_filling.iloc[index]\n",
    "print \"среднее по столбцу (чем ближе к 1, тем больше nan-ов в столбце)\"\n",
    "summed = cluster1.isnull().mean()\n",
    "summed"
   ]
  },
  {
   "cell_type": "code",
   "execution_count": null,
   "metadata": {},
   "outputs": [],
   "source": [
    "summed[summed > 0.7]"
   ]
  },
  {
   "cell_type": "markdown",
   "metadata": {},
   "source": [
    "в 656 столбцах от 70% nan-ов"
   ]
  },
  {
   "cell_type": "code",
   "execution_count": null,
   "metadata": {},
   "outputs": [],
   "source": [
    "index = list(np.where(pred_x==0)[0])\n",
    "print \"среднее по столбцу (чем ближе к 1, тем больше nan-ов в столбце)\"\n",
    "summed = data_used_before_filling.isnull().mean()\n",
    "summed[summed > 0.7]"
   ]
  },
  {
   "cell_type": "markdown",
   "metadata": {},
   "source": [
    "Для всех данных число таких столбцов меньше"
   ]
  },
  {
   "cell_type": "markdown",
   "metadata": {},
   "source": [
    "Многие страны попали в кластер \"середняков\" из-за того, что их данные были полученые как средние по столбцам вместо nan"
   ]
  },
  {
   "cell_type": "markdown",
   "metadata": {},
   "source": [
    "Поздравляем, Вы завершили домашние задания по модулю \"Алгоритмы кластеризации\". Надеемся, что это было интересно."
   ]
  }
 ],
 "metadata": {
  "kernelspec": {
   "display_name": "Python 2",
   "language": "python",
   "name": "python2"
  },
  "language_info": {
   "codemirror_mode": {
    "name": "ipython",
    "version": 2
   },
   "file_extension": ".py",
   "mimetype": "text/x-python",
   "name": "python",
   "nbconvert_exporter": "python",
   "pygments_lexer": "ipython2",
   "version": "2.7.12"
  }
 },
 "nbformat": 4,
 "nbformat_minor": 1
}
