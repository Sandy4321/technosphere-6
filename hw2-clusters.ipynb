{
 "cells": [
  {
   "cell_type": "markdown",
   "metadata": {},
   "source": [
    "# Алгоритмы интеллектуальной обработки больших объемов данных\n",
    "## Домашнее задание №2 - Алгоритмы кластеризации\n"
   ]
  },
  {
   "cell_type": "markdown",
   "metadata": {},
   "source": [
    "###### <hr\\>\n",
    "**Общая информация**\n",
    "\n",
    "**Срок сдачи:** 23 октября 2017, 06:00 <br\\>\n",
    "**Штраф за опоздание:** -2 балла после 06:00 23 октября, -4 балла после 06:00 30 октября, -6 баллов после 06:00 6 ноября\n",
    "\n",
    "При отправлении ДЗ указывайте фамилию в названии файла\n",
    "Присылать ДЗ необходимо в виде ссылки на свой github репозиторий в slack @alkhamush Необходимо в slack создать таск в приватный чат:\n",
    "/todo Фамилия Имя ссылка на гитхаб @alkhamush\n",
    "Пример:\n",
    "/todo Ксения Стройкова https://github.com/stroykova/spheremailru/stroykova_hw1.ipynb @alkhamush\n",
    "\n",
    "Используйте данный Ipython Notebook при оформлении домашнего задания.\n",
    "<hr\\>"
   ]
  },
  {
   "cell_type": "markdown",
   "metadata": {},
   "source": [
    "###### Задание 1 (4 балла)\n",
    "Реализовать алгоритм кластеризации, который относится к вашему варианту. Проверить работоспособность алгоритма на \"Iris\". Сравните свой алгоритм кластеризации с алгоритмом из scikit-learn по времени выполнения, использую timeit. Ваша реализация не должна работать сильно дольше, а в идеале должна быть даже немного быстрее.\n",
    "\n",
    "###### Задание 2 (2 балла)\n",
    "Выбрать, имплементировать и использовать критерий качества\n",
    "\n",
    "###### Задание 3 (3балла)\n",
    "Применить алгоритм кластеризации к данным по странам.   \n",
    "Подход следующий: фиксируем год, для каждой страны берём индикаторы по зафиксированному году, кластеризуем по индикаторам.   \n",
    "Разбиение должно быть объяснимым, в противном случае, скорее всего нужно лучше настроить параметры кластеризации.   \n",
    "Данные нужно скачать тут https://data.worldbank.org/data-catalog/world-development-indicators.   \n",
    "Также необходимо показать, какие страны попали в общий кластер.\n",
    "изуализировать результат с помощью T-SNE. Внимание! На полном объеме данных данный алгоритм может работать существенное время.\n",
    "\n",
    "###### Задание 4 (1 балл)\n",
    "Опишите в выводе почему и какие страны попали в общий кластер."
   ]
  },
  {
   "cell_type": "markdown",
   "metadata": {},
   "source": [
    "Основная задача этого задания - реализация одного из алгоритмов кластеризации. Кроме того, мы научимся подбирать параметры алгоритма, визуализируем результат кластеризации и попытаемся проанализировать природу полученных кластеров."
   ]
  },
  {
   "cell_type": "code",
   "execution_count": 32,
   "metadata": {},
   "outputs": [
    {
     "name": "stdout",
     "output_type": "stream",
     "text": [
      "Populating the interactive namespace from numpy and matplotlib\n"
     ]
    }
   ],
   "source": [
    "import pandas as pd\n",
    "import pylab as pl\n",
    "import numpy as np\n",
    "import scipy.spatial as ss\n",
    "import sklearn.cluster as sc\n",
    "import sklearn.manifold as sm\n",
    "import sklearn.datasets as ds\n",
    "import sklearn.metrics as smt\n",
    "\n",
    "import matplotlib.pyplot as plt\n",
    "import mpl_toolkits.basemap as bm\n",
    "\n",
    "%matplotlib inline\n",
    "\n",
    "plt.style.use('ggplot')\n",
    "plt.rcParams['figure.figsize'] = (12,5)\n",
    "\n",
    "# Plotting config\n",
    "%pylab inline"
   ]
  },
  {
   "cell_type": "markdown",
   "metadata": {},
   "source": [
    "## Реализация алгоритма"
   ]
  },
  {
   "cell_type": "markdown",
   "metadata": {},
   "source": [
    "Алгоритм кластеризации, который необходимо реализовать, выбирается на основании Вашего порядкового номера в списке группы."
   ]
  },
  {
   "cell_type": "markdown",
   "metadata": {},
   "source": [
    "1. Авилова Екатерина\n",
    "2. Адаменко Павел\n",
    "3. Акиньщиков Алексей\n",
    "4. Афанасьева Анастасия\n",
    "5. Балес Александр\n",
    "6. Беляев Владимир\n",
    "7. Беспалова Анастасия\n",
    "8. Богомолов Эмиль\n",
    "9. Боднарюк Василий\n",
    "10. Бучкин Александр\n",
    "11. Валинуров Денис\n",
    "12. Волков Глеб\n",
    "13. Голенков Кирилл\n",
    "14. Горбушин Михаил\n",
    "15. Димов Илья\n",
    "16. Докшина Елизавета\n",
    "17. Дорожинский Владислав\n",
    "18. Жирнов Михаил\n",
    "19. Жолковский Евгений\n",
    "20. Зайдель Петр\n",
    "21. Зимнюков Максим\n",
    "22. Иванов Илья\n",
    "23. Кашипов Артем\n",
    "24. Комов Евгений\n",
    "25. Кошман Дима\n",
    "26. Кузнецова Екатерина\n",
    "27. Кулагин Алексей\n",
    "28. Лавреновъ Виталiй\n",
    "29. Лебедь Федор\n",
    "30. Лешков Михаил\n",
    "31. Лозинский Иван\n",
    "32. Лоскутов Антон\n",
    "33. Лютов Владимир\n",
    "34. Мажаров Иван\n",
    "35. Манкевич Павел\n",
    "36. Муравьев Никита\n",
    "37. Находнов Максим\n",
    "38. Оплачко Николай\n",
    "39. Павлов Евгений\n",
    "40. Петряйкин Федор\n",
    "41. Рахматуллин Фарид\n",
    "42. Секретарев Тихон\n",
    "43. Сенюшкин Дмитрий\n",
    "44. Серов Николай\n",
    "45. Смирнов Александр\n",
    "46. Соловьев Павел\n",
    "47. Сомов Иван\n",
    "48. Спиркин Роман\n",
    "49. Терёшина Мария\n",
    "50. Торбунова Екатерина\n",
    "51. Тюгаев Антон\n",
    "52. Фельдман Борис\n",
    "53. Филин Максим\n",
    "54. Фролов Михаил\n",
    "55. Хохлов Олег\n",
    "56. Черемнов Андрей\n",
    "57. Шевцов Антон\n",
    "58. Шурыгин Александр"
   ]
  },
  {
   "cell_type": "code",
   "execution_count": 33,
   "metadata": {},
   "outputs": [],
   "source": [
    "N = 26 # put your index here"
   ]
  },
  {
   "cell_type": "code",
   "execution_count": 34,
   "metadata": {},
   "outputs": [
    {
     "name": "stdout",
     "output_type": "stream",
     "text": [
      "Реализуем алгоритм кластеризации 'DBSCAN. (параметры - epsilon, min_pts)'\n"
     ]
    }
   ],
   "source": [
    "algorithms = [\n",
    "    u\"Gaussian Mixture Model с использованием maximum a-posteriori для выбора кластера (параметр - k)\",\n",
    "    u\"Hierarchical clustering с поддержкой single-linkage, complete-linkage, average-linkage (параметры - k, linkage)\",\n",
    "    u\"DBSCAN. (параметры - epsilon, min_pts)\"\n",
    "]\n",
    "\n",
    "my_algorithm = algorithms[N % len(algorithms)]\n",
    "print u\"Реализуем алгоритм кластеризации '%s'\" % my_algorithm"
   ]
  },
  {
   "cell_type": "markdown",
   "metadata": {},
   "source": [
    "Алгоритм кластеризации должен удовлетворять следующему интерфейсу. Конструктор принимает набор параметров, необходимых для работы алгоритма кластеризации. Метод `fit` подсчитывает параметры модели и возвращает `self`. Метод `predict` возвращает вектор с индексами кластеров для поданных в него объектов `x`"
   ]
  },
  {
   "cell_type": "code",
   "execution_count": 54,
   "metadata": {},
   "outputs": [],
   "source": [
    "## Задание 1\n",
    "from sklearn.base import BaseEstimator, ClusterMixin\n",
    "\n",
    "class Clustering(BaseEstimator, ClusterMixin):\n",
    "    \"\"\"\n",
    "    Implement clustering algorithm according \n",
    "    \"\"\"\n",
    "    \n",
    "    def __init__(self, **kwargs):\n",
    "             \n",
    "        self.min_pts = kwargs.get('min_pts', 5)\n",
    "        self.epsilon = kwargs.get('epsilon', 0.5)\n",
    "        self.random_state = kwargs.get('random_state')\n",
    "        self.metric = kwargs.get('metric', 'euclidean')\n",
    "        #metric_params\n",
    "        \n",
    "        \n",
    "    def density_connected(neighbors, cluster):\n",
    "        for y in neighbors:\n",
    "            slef.labels[y] = cluster\n",
    "            if y in self.core_points:\n",
    "                density_connected(y,cluster)\n",
    "            \n",
    "    def fit(self, x, y=None):\n",
    "        \"\"\"\n",
    "        Use data matrix x to compute model parameters\n",
    "        \"\"\"\n",
    "        self.x_len = len(x)\n",
    "        #working with indices in x as points\n",
    "        \n",
    "        #initialize as noise\n",
    "        self.labels = -np.ones(x.shape[0], dtype=int)\n",
    "        self.core_points = np.empty(x.shape[0], dtype=int)\n",
    "        neighbors = np.empty(x.shape[0], dtype='object')\n",
    "        \n",
    "        #indices =  np.arange(x.shape[0])\n",
    "        #np.random.seed(self.random_state)\n",
    "        #np.random.shuffle(indices)\n",
    "        distances = ss.distance.cdist(x, x, self.metric)\n",
    "        neighbors_list = [np.where(dist <= self.epsilon)[0] for dist in distances]\n",
    "        neighbors[:] = neighbors_list\n",
    "        print neighbors\n",
    "        neighbors_number = np.array([len(i) for i in neighbors])\n",
    "        self.core_points = np.where(neighbors_number >= self.min_pts)\n",
    "        print self.core_points\n",
    "       \n",
    "        #cluster = 0\n",
    "        #for point in self.core_points: #those without cluster\n",
    "            #cluster+=1\n",
    "            #self.labels[point] = cluster\n",
    "            #density_connected(neighbors[point], cluster)\n",
    "        #blahblahblah\n",
    "        #return labels\n",
    "        #return border\n",
    "        #return noise\n",
    "                \n",
    "        return self\n",
    "    \n",
    "    def predict(self, x):\n",
    "        \"\"\"\n",
    "        Using computed model parameters predict cluster\n",
    "        for all objects from x\n",
    "        \"\"\"\n",
    "        return [random.randint(0,5) for r in xrange(self.x_len)]\n",
    "    \n",
    "    def fit_predict(self, x, y=None):\n",
    "        self.fit(x, y)\n",
    "        return self.predict(x)"
   ]
  },
  {
   "cell_type": "markdown",
   "metadata": {},
   "source": [
    "Сначала проверим реализованный алгоритм кластеризации на классическом наборе данных [Iris](http://www.wikiwand.com/en/Iris_flower_data_set). Загрузим данные (они включены в библиотеку sklearn) и посмотрим на то, как они выглядят в двух проекциях (для простоты используем 2 класса из 3)."
   ]
  },
  {
   "cell_type": "code",
   "execution_count": 36,
   "metadata": {},
   "outputs": [
    {
     "data": {
      "image/png": "[encoded data removed]",
      "text/plain": [
       "<matplotlib.figure.Figure at 0x7f3acbbc0d90>"
      ]
     },
     "metadata": {},
     "output_type": "display_data"
    }
   ],
   "source": [
    "iris = ds.load_iris()\n",
    "x_iris = iris.data[:100]\n",
    "y_iris = iris.target[:100]\n",
    "\n",
    "pl.figure(figsize=(10, 5))\n",
    "\n",
    "pl.subplot(1, 2, 1)\n",
    "pl.scatter(x_iris[:, 0], x_iris[:, 1], c=y_iris, cmap=pl.cm.PuOr, lw=0, s=30)\n",
    "plt.xlabel('Sepal length')\n",
    "plt.ylabel('Sepal width')\n",
    "\n",
    "pl.subplot(1, 2, 2)\n",
    "pl.scatter(x_iris[:, 2], x_iris[:, 3], c=y_iris, cmap=pl.cm.PuOr, lw=0, s=30)\n",
    "plt.xlabel('Petal length')\n",
    "plt.ylabel('Petal width')\n",
    "pl.show()"
   ]
  },
  {
   "cell_type": "markdown",
   "metadata": {},
   "source": [
    "Видно, что классы разделяются, поэтому можно надеяться, что наш алгоритм \"найдет\" кластеры, соответствующие исходным классам. Результат работы реализованного алгоритма кластеризации предлагается сравнить с эталонной кластеризацией. Для этого предлагается изучить метрику ([adjusted rand score](http://scikit-learn.org/stable/modules/generated/sklearn.metrics.adjusted_rand_score.html)). В случае если значение этой метрики отличается от 1, предлагается поработать над улучшением реализации своего алгоритма."
   ]
  },
  {
   "cell_type": "code",
   "execution_count": 55,
   "metadata": {},
   "outputs": [
    {
     "name": "stdout",
     "output_type": "stream",
     "text": [
      "[ array([ 0,  4,  7,  9, 10, 11, 17, 19, 20, 21, 23, 26, 27, 28, 31, 34, 35,\n",
      "       36, 37, 39, 40, 43, 46, 48, 49])\n",
      " array([ 1,  2,  3,  7,  9, 11, 12, 25, 26, 28, 29, 30, 34, 35, 37, 39, 45,\n",
      "       47, 49])\n",
      " array([ 1,  2,  3,  6,  7,  8,  9, 11, 12, 25, 29, 30, 34, 35, 37, 38, 39,\n",
      "       40, 42, 45, 47, 49])\n",
      " array([ 1,  2,  3,  6,  8,  9, 11, 12, 25, 29, 30, 34, 37, 38, 42, 45, 47,\n",
      "       49])\n",
      " array([ 0,  4,  6,  7, 10, 11, 17, 19, 21, 26, 27, 28, 35, 39, 40, 43, 46,\n",
      "       48, 49])\n",
      " array([ 5, 10, 16, 18, 19, 21, 32, 33, 44, 46, 48])\n",
      " array([ 2,  3,  4,  6,  7,  9, 11, 12, 22, 26, 29, 30, 34, 37, 38, 40, 42,\n",
      "       45, 47, 49])\n",
      " array([ 0,  1,  2,  4,  6,  7,  9, 11, 12, 17, 19, 20, 21, 23, 24, 25, 26,\n",
      "       27, 28, 29, 30, 31, 34, 35, 37, 39, 40, 43, 45, 46, 47, 48, 49])\n",
      " array([ 2,  3,  8, 12, 13, 29, 30, 38, 42, 45, 47])\n",
      " array([ 0,  1,  2,  3,  6,  7,  9, 11, 12, 17, 25, 26, 28, 29, 30, 34, 35,\n",
      "       37, 39, 40, 45, 47, 49])\n",
      " array([ 0,  4,  5, 10, 16, 17, 18, 19, 20, 21, 27, 28, 31, 32, 36, 39, 46,\n",
      "       48])\n",
      " array([ 0,  1,  2,  3,  4,  6,  7,  9, 11, 12, 17, 21, 23, 24, 25, 26, 27,\n",
      "       28, 29, 30, 34, 35, 37, 39, 40, 43, 45, 46, 47, 49])\n",
      " array([ 1,  2,  3,  6,  7,  8,  9, 11, 12, 25, 29, 30, 34, 35, 37, 38, 42,\n",
      "       45, 47, 49])\n",
      " array([ 8, 13, 38, 42, 47]) array([14, 16, 33]) array([15, 33])\n",
      " array([ 5, 10, 14, 16, 19, 21, 32, 33, 36, 46, 48])\n",
      " array([ 0,  4,  7,  9, 10, 11, 17, 19, 20, 21, 23, 26, 27, 28, 31, 34, 35,\n",
      "       36, 37, 39, 40, 43, 46, 48, 49])\n",
      " array([ 5, 10, 18, 48])\n",
      " array([ 0,  4,  5,  7, 10, 16, 17, 19, 21, 26, 27, 28, 32, 39, 40, 43, 44,\n",
      "       46, 48])\n",
      " array([ 0,  7, 10, 17, 20, 23, 26, 27, 28, 31, 36, 39, 48])\n",
      " array([ 0,  4,  5,  7, 10, 11, 16, 17, 19, 21, 23, 26, 27, 28, 31, 39, 40,\n",
      "       43, 44, 46, 48, 49])\n",
      " array([ 6, 22])\n",
      " array([ 0,  7, 11, 17, 20, 21, 23, 24, 25, 26, 27, 28, 30, 31, 39, 40, 43,\n",
      "       49])\n",
      " array([ 7, 11, 23, 24, 26, 29, 30, 39])\n",
      " array([ 1,  2,  3,  7,  9, 11, 12, 23, 25, 26, 28, 29, 30, 34, 35, 37, 39,\n",
      "       45, 47, 49])\n",
      " array([ 0,  1,  4,  6,  7,  9, 11, 17, 19, 20, 21, 23, 24, 25, 26, 27, 28,\n",
      "       29, 30, 31, 34, 35, 37, 39, 40, 43, 45, 46, 48, 49])\n",
      " array([ 0,  4,  7, 10, 11, 17, 19, 20, 21, 23, 26, 27, 28, 31, 35, 36, 39,\n",
      "       40, 43, 46, 48, 49])\n",
      " array([ 0,  1,  4,  7,  9, 10, 11, 17, 19, 20, 21, 23, 25, 26, 27, 28, 31,\n",
      "       34, 35, 36, 37, 39, 40, 46, 48, 49])\n",
      " array([ 1,  2,  3,  6,  7,  8,  9, 11, 12, 24, 25, 26, 29, 30, 34, 35, 37,\n",
      "       38, 39, 42, 45, 47, 49])\n",
      " array([ 1,  2,  3,  6,  7,  8,  9, 11, 12, 23, 24, 25, 26, 29, 30, 34, 35,\n",
      "       37, 39, 45, 47, 49])\n",
      " array([ 0,  7, 10, 17, 20, 21, 23, 26, 27, 28, 31, 36, 39, 40, 43, 48, 49])\n",
      " array([ 5, 10, 16, 19, 32, 33, 46, 48]) array([ 5, 14, 15, 16, 32, 33])\n",
      " array([ 0,  1,  2,  3,  6,  7,  9, 11, 12, 17, 25, 26, 28, 29, 30, 34, 35,\n",
      "       37, 39, 40, 45, 47, 49])\n",
      " array([ 0,  1,  2,  4,  7,  9, 11, 12, 17, 25, 26, 27, 28, 29, 30, 34, 35,\n",
      "       37, 39, 40, 45, 47, 49])\n",
      " array([ 0, 10, 16, 17, 20, 27, 28, 31, 36, 39, 48])\n",
      " array([ 0,  1,  2,  3,  6,  7,  9, 11, 12, 17, 25, 26, 28, 29, 30, 34, 35,\n",
      "       37, 39, 40, 45, 47, 49])\n",
      " array([ 2,  3,  6,  8, 12, 13, 29, 38, 42, 45, 47])\n",
      " array([ 0,  1,  2,  4,  7,  9, 10, 11, 17, 19, 20, 21, 23, 24, 25, 26, 27,\n",
      "       28, 29, 30, 31, 34, 35, 36, 37, 39, 40, 43, 46, 48, 49])\n",
      " array([ 0,  2,  4,  6,  7,  9, 11, 17, 19, 21, 23, 26, 27, 28, 31, 34, 35,\n",
      "       37, 39, 40, 43, 46, 48, 49])\n",
      " array([41]) array([ 2,  3,  6,  8, 12, 13, 29, 38, 42, 45, 47])\n",
      " array([ 0,  4,  7, 11, 17, 19, 21, 23, 26, 27, 31, 39, 40, 43, 44, 49])\n",
      " array([ 5, 19, 21, 43, 44, 46, 48])\n",
      " array([ 1,  2,  3,  6,  7,  8,  9, 11, 12, 25, 26, 29, 30, 34, 35, 37, 38,\n",
      "       42, 45, 47, 49])\n",
      " array([ 0,  4,  5,  7, 10, 11, 16, 17, 19, 21, 26, 27, 28, 32, 39, 40, 44,\n",
      "       46, 48])\n",
      " array([ 1,  2,  3,  6,  7,  8,  9, 11, 12, 13, 25, 29, 30, 34, 35, 37, 38,\n",
      "       42, 45, 47, 49])\n",
      " array([ 0,  4,  5,  7, 10, 16, 17, 18, 19, 20, 21, 26, 27, 28, 31, 32, 36,\n",
      "       39, 40, 44, 46, 48])\n",
      " array([ 0,  1,  2,  3,  4,  6,  7,  9, 11, 12, 17, 21, 23, 25, 26, 27, 28,\n",
      "       29, 30, 31, 34, 35, 37, 39, 40, 43, 45, 47, 49])\n",
      " array([50, 52, 65, 76, 86])\n",
      " array([51, 54, 56, 58, 63, 65, 74, 75, 85, 86, 91, 97])\n",
      " array([50, 52, 76, 77, 86]) array([53, 69, 80, 81, 89, 92, 94])\n",
      " array([51, 54, 58, 63, 65, 72, 74, 75, 76, 86, 91, 97])\n",
      " array([55, 61, 63, 66, 73, 78, 84, 88, 90, 91, 94, 95, 96, 99])\n",
      " array([51, 56, 63, 70, 85, 86, 91]) array([57, 60, 93, 98])\n",
      " array([51, 54, 58, 65, 74, 75, 76, 86, 97]) array([59, 89])\n",
      " array([57, 60, 93])\n",
      " array([55, 61, 66, 71, 78, 88, 91, 94, 95, 96, 97, 99]) array([62, 92])\n",
      " array([51, 54, 55, 56, 63, 72, 73, 78, 83, 91, 97]) array([64, 79, 82])\n",
      " array([50, 51, 54, 58, 65, 74, 75, 86])\n",
      " array([55, 61, 66, 78, 84, 88, 94, 95, 96])\n",
      " array([67, 69, 71, 82, 88, 89, 90, 92, 94, 95, 96, 99]) array([68, 87])\n",
      " array([53, 67, 69, 79, 80, 81, 82, 89, 92, 94, 99]) array([56, 70, 85])\n",
      " array([61, 67, 71, 74, 82, 92, 95, 96, 97, 99]) array([54, 63, 72, 83])\n",
      " array([55, 63, 73, 78, 91, 97])\n",
      " array([51, 54, 58, 65, 71, 74, 75, 78, 91, 97])\n",
      " array([51, 54, 58, 65, 74, 75, 76, 86, 97])\n",
      " array([50, 52, 54, 58, 75, 76, 77, 86]) array([52, 76, 77, 86])\n",
      " array([55, 61, 63, 66, 73, 74, 78, 91, 96, 97])\n",
      " array([64, 69, 79, 80, 81, 82]) array([53, 69, 79, 80, 81, 82, 89, 92])\n",
      " array([53, 69, 79, 80, 81, 89])\n",
      " array([64, 67, 69, 71, 79, 80, 82, 88, 89, 92, 94, 95, 96, 99])\n",
      " array([63, 72, 83]) array([55, 66, 84, 88, 96])\n",
      " array([51, 56, 70, 85, 91])\n",
      " array([50, 51, 52, 54, 56, 58, 65, 75, 76, 77, 86]) array([68, 87])\n",
      " array([55, 61, 66, 67, 82, 84, 88, 92, 94, 95, 96, 99])\n",
      " array([53, 59, 67, 69, 80, 81, 82, 89, 90, 92, 94, 96, 99])\n",
      " array([55, 67, 89, 90, 94, 95, 96, 99])\n",
      " array([51, 54, 55, 56, 61, 63, 73, 74, 78, 85, 91, 97])\n",
      " array([53, 62, 67, 69, 71, 80, 82, 88, 89, 92, 94, 95, 96, 99])\n",
      " array([57, 60, 93, 98])\n",
      " array([53, 55, 61, 66, 67, 69, 82, 88, 89, 90, 92, 94, 95, 96, 99])\n",
      " array([55, 61, 66, 67, 71, 82, 88, 90, 92, 94, 95, 96, 99])\n",
      " array([55, 61, 66, 67, 71, 78, 82, 84, 88, 89, 90, 92, 94, 95, 96, 99])\n",
      " array([51, 54, 58, 61, 63, 71, 73, 74, 75, 78, 91, 97])\n",
      " array([57, 93, 98])\n",
      " array([55, 61, 67, 69, 71, 82, 88, 89, 90, 92, 94, 95, 96, 99])]\n",
      "(array([ 0,  1,  2,  3,  4,  5,  6,  7,  8,  9, 10, 11, 12, 13, 16, 17, 19,\n",
      "       20, 21, 23, 24, 25, 26, 27, 28, 29, 30, 31, 32, 33, 34, 35, 36, 37,\n",
      "       38, 39, 40, 42, 43, 44, 45, 46, 47, 48, 49, 50, 51, 52, 53, 54, 55,\n",
      "       56, 58, 61, 63, 65, 66, 67, 69, 71, 73, 74, 75, 76, 78, 79, 80, 81,\n",
      "       82, 84, 85, 86, 88, 89, 90, 91, 92, 94, 95, 96, 97, 99]),)\n",
      "Adjusted Rand index for iris is: 0.02\n"
     ]
    }
   ],
   "source": [
    "pred_iris = Clustering().fit_predict(x_iris)\n",
    "print \"Adjusted Rand index for iris is: %.2f\" % smt.adjusted_rand_score(y_iris, pred_iris)"
   ]
  },
  {
   "cell_type": "markdown",
   "metadata": {},
   "source": [
    "Выбрать и реализовать критерий качества, на основании которого будут подбираться параметры модели. Варианты критериев:\n",
    "- Инерция (сумма квадратов расстояний от каждой из точек до ближайшего к этой точке центроида)\n",
    "- Средний диаметр (максимальное расстояние между точками в кластере) или радиус (расстояние от центроида до самой дальней от него точки в кластере)\n",
    "- Sihouette\n",
    "\n",
    "**Критерий качества необходимо выбрать таким образом, чтобы он подходил для реализованного алгоритма**"
   ]
  },
  {
   "cell_type": "code",
   "execution_count": null,
   "metadata": {},
   "outputs": [],
   "source": [
    "## Задание 2\n",
    "def quality(x, y):\n",
    "    \"\"\"\n",
    "    Implement quality criterion of your choice\n",
    "    \"\"\"\n",
    "    return 0.51"
   ]
  },
  {
   "cell_type": "markdown",
   "metadata": {},
   "source": [
    "Применим критерий для выбора параметров алгоритма. Предлагается изменить следующий код таким образом, чтобы кластеризация вызывалась с верным набором параметров. На графике можно будет увидеть зависимость критерия от параметров алгоритма. Необходимо выбрать оптимальные значения этих параметров."
   ]
  },
  {
   "cell_type": "code",
   "execution_count": null,
   "metadata": {},
   "outputs": [],
   "source": [
    "ks = range(1, 21)\n",
    "criteria = np.zeros(len(ks))\n",
    "\n",
    "for i, k in enumerate(ks):\n",
    "    cls = Clustering()\n",
    "    y = cls.fit_predict(x)\n",
    "    criteria[i] = quality(x, y)\n",
    "    \n",
    "pl.figure(figsize=(8, 6))\n",
    "pl.plot(ks, criteria)\n",
    "pl.title(\"$J(k)$\")\n",
    "pl.ylabel(\"Criteria $J$\")\n",
    "pl.xlabel(\"Number of clusters $k$\")\n",
    "pl.grid()\n",
    "pl.show()"
   ]
  },
  {
   "cell_type": "code",
   "execution_count": null,
   "metadata": {},
   "outputs": [],
   "source": [
    "## Задание 3"
   ]
  },
  {
   "cell_type": "code",
   "execution_count": null,
   "metadata": {},
   "outputs": [],
   "source": [
    "## Задание 4"
   ]
  },
  {
   "cell_type": "markdown",
   "metadata": {},
   "source": [
    "Поздравляем, Вы завершили домашние задания по модулю \"Алгоритмы кластеризации\". Надеемся, что это было интересно."
   ]
  }
 ],
 "metadata": {
  "kernelspec": {
   "display_name": "Python 2",
   "language": "python",
   "name": "python2"
  },
  "language_info": {
   "codemirror_mode": {
    "name": "ipython",
    "version": 2
   },
   "file_extension": ".py",
   "mimetype": "text/x-python",
   "name": "python",
   "nbconvert_exporter": "python",
   "pygments_lexer": "ipython2",
   "version": "2.7.12"
  }
 },
 "nbformat": 4,
 "nbformat_minor": 1
}
